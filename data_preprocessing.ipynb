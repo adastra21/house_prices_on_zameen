{
 "cells": [
  {
   "cell_type": "code",
   "execution_count": 1,
   "metadata": {},
   "outputs": [],
   "source": [
    "import numpy as np\n",
    "import pandas as pd\n",
    "import re\n",
    "import json\n",
    "\n",
    "import os"
   ]
  },
  {
   "cell_type": "code",
   "execution_count": 2,
   "metadata": {},
   "outputs": [],
   "source": [
    "# enter directory path\n",
    "path = '/data/dec2020'"
   ]
  },
  {
   "cell_type": "code",
   "execution_count": 9,
   "metadata": {
    "scrolled": true
   },
   "outputs": [],
   "source": [
    "data_folder = os.getcwd()+path\n",
    "list_of_relevant_files = []\n",
    "\n",
    "for f in sorted(os.listdir(data_folder)):\n",
    "    # filter out system files\n",
    "    if f != '.DS_Store':\n",
    "        list_of_relevant_files.append(f)"
   ]
  },
  {
   "cell_type": "code",
   "execution_count": 10,
   "metadata": {
    "scrolled": true
   },
   "outputs": [
    {
     "data": {
      "text/plain": [
       "3"
      ]
     },
     "execution_count": 10,
     "metadata": {},
     "output_type": "execute_result"
    }
   ],
   "source": [
    "len(list_of_relevant_files)"
   ]
  },
  {
   "cell_type": "code",
   "execution_count": 11,
   "metadata": {
    "scrolled": true
   },
   "outputs": [
    {
     "data": {
      "text/plain": [
       "['zameen_12-01-2020.json', 'zameen_12-15-2020.json', 'zameen_12-30-2020.json']"
      ]
     },
     "execution_count": 11,
     "metadata": {},
     "output_type": "execute_result"
    }
   ],
   "source": [
    "list_of_relevant_files"
   ]
  },
  {
   "cell_type": "code",
   "execution_count": 12,
   "metadata": {
    "scrolled": true
   },
   "outputs": [
    {
     "name": "stdout",
     "output_type": "stream",
     "text": [
      "zameen_12-01-2020.json\n",
      "zameen_12-15-2020.json\n",
      "zameen_12-30-2020.json\n"
     ]
    }
   ],
   "source": [
    "# read files as json\n",
    "list_of_dicts = []\n",
    "\n",
    "for f in list_of_relevant_files:\n",
    "    print(f)\n",
    "    ff = open(data_folder+'/'+f)\n",
    "    ff = ff.read()\n",
    "    \n",
    "    ff = '{\"properties\": ['+ff+']}'\n",
    "    \n",
    "    # add comma between brackets\n",
    "    regex = re.compile(\"\\}\\{\")\n",
    "    ff = re.sub(regex, \"}, {\", ff)\n",
    "    \n",
    "    # for appended files\n",
    "#     regex_append = re.compile(\"\\}\\\\n\\{\")\n",
    "#     ff = re.sub(regex_append, \"}, {\", ff)\n",
    "\n",
    "    ff_json = json.loads(ff)\n",
    "    list_of_dicts.append(ff_json)"
   ]
  },
  {
   "cell_type": "code",
   "execution_count": 13,
   "metadata": {
    "scrolled": false
   },
   "outputs": [
    {
     "data": {
      "text/plain": [
       "['Type',\n",
       " 'Flat',\n",
       " 'Price',\n",
       " 'PKR',\n",
       " '52 Lakh',\n",
       " 'Location',\n",
       " 'Bahria Town Karachi, Karachi, Sindh',\n",
       " 'Bath(s)',\n",
       " '2',\n",
       " 'Area',\n",
       " '4.9 Marla',\n",
       " 'Purpose',\n",
       " 'For Sale',\n",
       " 'Bedroom(s)',\n",
       " '2',\n",
       " 'Added',\n",
       " '28 minutes ago']"
      ]
     },
     "execution_count": 13,
     "metadata": {},
     "output_type": "execute_result"
    }
   ],
   "source": [
    "list_of_dicts[:1][0]['properties'][0]['Details']"
   ]
  },
  {
   "cell_type": "markdown",
   "metadata": {},
   "source": [
    "### Clean Description"
   ]
  },
  {
   "cell_type": "code",
   "execution_count": 14,
   "metadata": {},
   "outputs": [],
   "source": [
    "for d in list_of_dicts:\n",
    "    for n in range(len(d['properties'])):\n",
    "        d['properties'][n]['Description'] = d['properties'][n]['Description'].replace('•', '').replace('>', '').replace('\\t', '')\n",
    "        d['properties'][n]['Description'] = re.sub(\"\\s{2}\", \" \", d['properties'][n]['Description'])\n",
    "        d['properties'][n]['Description'] = re.sub(\"\\s{3,10}\", \"\", d['properties'][n]['Description'])"
   ]
  },
  {
   "cell_type": "markdown",
   "metadata": {},
   "source": [
    "### Convert Details from list into dict"
   ]
  },
  {
   "cell_type": "code",
   "execution_count": 15,
   "metadata": {},
   "outputs": [],
   "source": [
    "for d in list_of_dicts:\n",
    "    for n in range(len(d['properties'])):\n",
    "        z = d['properties'][n]['Details']\n",
    "        if type(z) == list:\n",
    "            # plots don't have PKR value, so need to move indices by one\n",
    "            if z[3] == 'Contact for price':\n",
    "                details = {\n",
    "                    z[10]: z[11],\n",
    "                    z[0]: z[1],\n",
    "                    z[2]: z[3], \n",
    "                    z[4]: z[5],\n",
    "                    z[8]: z[9],\n",
    "                    z[12]: z[13],\n",
    "                    z[6]: z[7],\n",
    "                    z[14]: z[15]\n",
    "                }\n",
    "            else:\n",
    "                details = {\n",
    "                    z[11]: z[12],\n",
    "                    z[0]: z[1], \n",
    "                    z[2]: z[4],\n",
    "                    z[5]: z[6],\n",
    "                    z[9]: z[10],\n",
    "                    z[13]: z[14],\n",
    "                    z[7]: z[8],\n",
    "                    z[15]: z[16]\n",
    "                }\n",
    "            d['properties'][n]['Details'] = details"
   ]
  },
  {
   "cell_type": "markdown",
   "metadata": {},
   "source": [
    "### Amenities -> Year of Construction"
   ]
  },
  {
   "cell_type": "code",
   "execution_count": 17,
   "metadata": {},
   "outputs": [],
   "source": [
    "# test\n",
    "# re.findall('Built in year : ([0-9]{4})', ff_json['properties'][1]['Amenities'])[0]"
   ]
  },
  {
   "cell_type": "code",
   "execution_count": 18,
   "metadata": {},
   "outputs": [],
   "source": [
    "for d in list_of_dicts:\n",
    "    for n in range(len(d['properties'])):\n",
    "        year_of_construction = re.findall('Built in year : ([0-9]{4})', d['properties'][n]['Amenities'])\n",
    "\n",
    "        if year_of_construction:\n",
    "            year_of_construction = year_of_construction[0]\n",
    "        else:\n",
    "            year_of_construction = np.nan\n",
    "\n",
    "        d['properties'][n]['Year of Construction'] = year_of_construction"
   ]
  },
  {
   "cell_type": "code",
   "execution_count": 19,
   "metadata": {},
   "outputs": [],
   "source": [
    "for d in list_of_dicts:\n",
    "    for n in range(len(d['properties'])):\n",
    "        servant_quarters = re.findall('Servant Quarters : ([0-9]{1})', d['properties'][n]['Amenities'])\n",
    "\n",
    "        if servant_quarters:\n",
    "            servant_quarters = servant_quarters[0]\n",
    "        else:\n",
    "            servant_quarters = np.nan\n",
    "\n",
    "        d['properties'][n]['Servant Quarters'] = servant_quarters"
   ]
  },
  {
   "cell_type": "code",
   "execution_count": 20,
   "metadata": {},
   "outputs": [],
   "source": [
    "for d in list_of_dicts:\n",
    "    for n in range(len(d['properties'])):\n",
    "        parking_spaces = re.findall('Parking Spaces : ([0-9]{1})', d['properties'][n]['Amenities'])\n",
    "\n",
    "        if parking_spaces:\n",
    "            parking_spaces = parking_spaces[0]\n",
    "        else:\n",
    "            parking_spaces = np.nan\n",
    "\n",
    "        d['properties'][n]['Parking Spaces'] = parking_spaces"
   ]
  },
  {
   "cell_type": "code",
   "execution_count": 21,
   "metadata": {},
   "outputs": [],
   "source": [
    "for d in list_of_dicts:\n",
    "    for n in range(len(d['properties'])):\n",
    "        double_glazed_windows = re.findall('Double Glazed Windows', d['properties'][n]['Amenities'])\n",
    "\n",
    "        if double_glazed_windows:\n",
    "            double_glazed_windows = \"Yes\"\n",
    "        else:\n",
    "            double_glazed_windows = \"No\"\n",
    "\n",
    "        d['properties'][n]['Double Glazed Windows'] = double_glazed_windows"
   ]
  },
  {
   "cell_type": "code",
   "execution_count": 22,
   "metadata": {},
   "outputs": [],
   "source": [
    "for d in list_of_dicts:\n",
    "    for n in range(len(d['properties'])):\n",
    "        central_ac = re.findall('Central Air Conditioning', d['properties'][n]['Amenities'])\n",
    "\n",
    "        if central_ac:\n",
    "            central_ac = \"Yes\"\n",
    "        else:\n",
    "            central_ac = \"No\"\n",
    "\n",
    "        d['properties'][n]['Central AC'] = central_ac"
   ]
  },
  {
   "cell_type": "code",
   "execution_count": 23,
   "metadata": {},
   "outputs": [],
   "source": [
    "for d in list_of_dicts:\n",
    "    for n in range(len(d['properties'])):\n",
    "        park = re.findall(r'\\bnear park\\b', d['properties'][n]['Description'])\n",
    "\n",
    "        if park:\n",
    "            park_present = \"Yes\"\n",
    "        else:\n",
    "            park_present = \"No\"\n",
    "\n",
    "        d['properties'][n]['Park'] = park_present"
   ]
  },
  {
   "cell_type": "code",
   "execution_count": 24,
   "metadata": {},
   "outputs": [],
   "source": [
    "for d in list_of_dicts:\n",
    "    for n in range(len(d['properties'])):\n",
    "        jacuzzi = re.findall('jacuzzi', d['properties'][n]['Description'])\n",
    "\n",
    "        if jacuzzi:\n",
    "            jacuzzi_present = \"Yes\"\n",
    "        else:\n",
    "            jacuzzi_present = \"No\"\n",
    "\n",
    "        d['properties'][n]['Jacuzzi'] = jacuzzi_present"
   ]
  },
  {
   "cell_type": "code",
   "execution_count": 28,
   "metadata": {},
   "outputs": [],
   "source": [
    "# find how many listings have specific details\n",
    "# results = []\n",
    "\n",
    "# for n in range(len(ff_json['properties'])):\n",
    "#     result = re.findall('Central Air Conditioning', ff_json['properties'][n]['Amenities'])\n",
    "#     if result:\n",
    "#         results.append(n)"
   ]
  },
  {
   "cell_type": "code",
   "execution_count": 29,
   "metadata": {
    "scrolled": true
   },
   "outputs": [],
   "source": [
    "# len(results)"
   ]
  },
  {
   "cell_type": "code",
   "execution_count": 32,
   "metadata": {
    "scrolled": false
   },
   "outputs": [
    {
     "data": {
      "text/plain": [
       "{'Property ID': 'Flat 26526717',\n",
       " 'Title': 'Beautiful Apartment Is Available For Sale In Reasonable Price',\n",
       " 'Subtitle': 'Bahria Heights, Bahria Town Karachi, Karachi, Sindh',\n",
       " 'Details': {'Purpose': 'For Sale',\n",
       "  'Type': 'Flat',\n",
       "  'Price': '52 Lakh',\n",
       "  'Location': 'Bahria Town Karachi, Karachi, Sindh',\n",
       "  'Area': '4.9 Marla',\n",
       "  'Bedroom(s)': '2',\n",
       "  'Bath(s)': '2',\n",
       "  'Added': '28 minutes ago'},\n",
       " 'Description': 'Salaam Estate Offers:- Attractive Apartment Available for Sale at Bahria Heights, Bahria Town Features:- It consists of 2 Bed Rooms with attached Bath - TV Lounge - Dinning - Kitchen - Store Room - Open terrace - Washing Area - Reserved Car Parking Facilities / Attractions - High Speed Elevator - Reception Area - Fully Secured - Ready to Move - Near to Main Entrance - Near to Theme Park & Danzoo Contact us for more Details.',\n",
       " 'Amenities': 'Bedrooms : 2 Bathrooms : 2 Kitchens : 1 Lounge or Sitting Room Broadband Internet Access Satellite or Cable TV Ready',\n",
       " 'Agency': 'Salaam Estate & Builders',\n",
       " 'Agent': 'Rana Arsalan',\n",
       " 'Titanium Agency?': True,\n",
       " 'Agency Video': True,\n",
       " 'Number of Images': 10,\n",
       " 'Tour Video': False,\n",
       " 'Property Verified': False,\n",
       " 'Date Scraped': '12-01-2020, 13:49:04',\n",
       " 'URL': 'https://www.zameen.com/Property/bahria_town_karachi_bahria_heights_beautiful_apartment_is_available_for_sale_in_reasonable_price-26526717-11761-1.html',\n",
       " 'Year of Construction': nan,\n",
       " 'Servant Quarters': nan,\n",
       " 'Parking Spaces': nan,\n",
       " 'Double Glazed Windows': 'No',\n",
       " 'Central AC': 'No',\n",
       " 'Park': 'No',\n",
       " 'Jacuzzi': 'No'}"
      ]
     },
     "execution_count": 32,
     "metadata": {},
     "output_type": "execute_result"
    }
   ],
   "source": [
    "list_of_dicts[0]['properties'][0]"
   ]
  },
  {
   "cell_type": "code",
   "execution_count": 33,
   "metadata": {},
   "outputs": [
    {
     "data": {
      "text/plain": [
       "3"
      ]
     },
     "execution_count": 33,
     "metadata": {},
     "output_type": "execute_result"
    }
   ],
   "source": [
    "len(list_of_dicts)"
   ]
  },
  {
   "cell_type": "markdown",
   "metadata": {},
   "source": [
    "### Convert to Dataframe"
   ]
  },
  {
   "cell_type": "code",
   "execution_count": 34,
   "metadata": {},
   "outputs": [],
   "source": [
    "dff = pd.DataFrame.from_dict(list_of_dicts[0]['properties'])"
   ]
  },
  {
   "cell_type": "code",
   "execution_count": 35,
   "metadata": {},
   "outputs": [],
   "source": [
    "for d in list_of_dicts[1:]:\n",
    "    df0 = pd.DataFrame.from_dict(d['properties'])\n",
    "    dff = pd.concat([dff,df0])"
   ]
  },
  {
   "cell_type": "code",
   "execution_count": 42,
   "metadata": {},
   "outputs": [],
   "source": [
    "pd.set_option('display.max_columns', 25)\n",
    "pd.set_option('display.max_colwidth', 100)"
   ]
  },
  {
   "cell_type": "code",
   "execution_count": 43,
   "metadata": {
    "scrolled": false
   },
   "outputs": [
    {
     "data": {
      "text/html": [
       "<div>\n",
       "<style scoped>\n",
       "    .dataframe tbody tr th:only-of-type {\n",
       "        vertical-align: middle;\n",
       "    }\n",
       "\n",
       "    .dataframe tbody tr th {\n",
       "        vertical-align: top;\n",
       "    }\n",
       "\n",
       "    .dataframe thead th {\n",
       "        text-align: right;\n",
       "    }\n",
       "</style>\n",
       "<table border=\"1\" class=\"dataframe\">\n",
       "  <thead>\n",
       "    <tr style=\"text-align: right;\">\n",
       "      <th></th>\n",
       "      <th>Property ID</th>\n",
       "      <th>Title</th>\n",
       "      <th>Subtitle</th>\n",
       "      <th>Details</th>\n",
       "      <th>Description</th>\n",
       "      <th>Amenities</th>\n",
       "      <th>Agency</th>\n",
       "      <th>Agent</th>\n",
       "      <th>Titanium Agency?</th>\n",
       "      <th>Agency Video</th>\n",
       "      <th>Number of Images</th>\n",
       "      <th>Tour Video</th>\n",
       "      <th>Property Verified</th>\n",
       "      <th>Date Scraped</th>\n",
       "      <th>URL</th>\n",
       "      <th>Year of Construction</th>\n",
       "      <th>Servant Quarters</th>\n",
       "      <th>Parking Spaces</th>\n",
       "      <th>Double Glazed Windows</th>\n",
       "      <th>Central AC</th>\n",
       "      <th>Park</th>\n",
       "      <th>Jacuzzi</th>\n",
       "    </tr>\n",
       "  </thead>\n",
       "  <tbody>\n",
       "    <tr>\n",
       "      <th>0</th>\n",
       "      <td>Flat 26526717</td>\n",
       "      <td>Beautiful Apartment Is Available For Sale In Reasonable Price</td>\n",
       "      <td>Bahria Heights, Bahria Town Karachi, Karachi, Sindh</td>\n",
       "      <td>{'Purpose': 'For Sale', 'Type': 'Flat', 'Price': '52 Lakh', 'Location': 'Bahria Town Karachi, Ka...</td>\n",
       "      <td>Salaam Estate Offers:- Attractive Apartment Available for Sale at Bahria Heights, Bahria Town Fe...</td>\n",
       "      <td>Bedrooms : 2 Bathrooms : 2 Kitchens : 1 Lounge or Sitting Room Broadband Internet Access Satelli...</td>\n",
       "      <td>Salaam Estate &amp; Builders</td>\n",
       "      <td>Rana Arsalan</td>\n",
       "      <td>True</td>\n",
       "      <td>True</td>\n",
       "      <td>10</td>\n",
       "      <td>False</td>\n",
       "      <td>False</td>\n",
       "      <td>12-01-2020, 13:49:04</td>\n",
       "      <td>https://www.zameen.com/Property/bahria_town_karachi_bahria_heights_beautiful_apartment_is_availa...</td>\n",
       "      <td>NaN</td>\n",
       "      <td>NaN</td>\n",
       "      <td>NaN</td>\n",
       "      <td>No</td>\n",
       "      <td>No</td>\n",
       "      <td>No</td>\n",
       "      <td>No</td>\n",
       "    </tr>\n",
       "  </tbody>\n",
       "</table>\n",
       "</div>"
      ],
      "text/plain": [
       "     Property ID  \\\n",
       "0  Flat 26526717   \n",
       "\n",
       "                                                           Title  \\\n",
       "0  Beautiful Apartment Is Available For Sale In Reasonable Price   \n",
       "\n",
       "                                              Subtitle  \\\n",
       "0  Bahria Heights, Bahria Town Karachi, Karachi, Sindh   \n",
       "\n",
       "                                                                                               Details  \\\n",
       "0  {'Purpose': 'For Sale', 'Type': 'Flat', 'Price': '52 Lakh', 'Location': 'Bahria Town Karachi, Ka...   \n",
       "\n",
       "                                                                                           Description  \\\n",
       "0  Salaam Estate Offers:- Attractive Apartment Available for Sale at Bahria Heights, Bahria Town Fe...   \n",
       "\n",
       "                                                                                             Amenities  \\\n",
       "0  Bedrooms : 2 Bathrooms : 2 Kitchens : 1 Lounge or Sitting Room Broadband Internet Access Satelli...   \n",
       "\n",
       "                     Agency         Agent  Titanium Agency?  Agency Video  \\\n",
       "0  Salaam Estate & Builders  Rana Arsalan              True          True   \n",
       "\n",
       "   Number of Images  Tour Video  Property Verified          Date Scraped  \\\n",
       "0                10       False              False  12-01-2020, 13:49:04   \n",
       "\n",
       "                                                                                                   URL  \\\n",
       "0  https://www.zameen.com/Property/bahria_town_karachi_bahria_heights_beautiful_apartment_is_availa...   \n",
       "\n",
       "  Year of Construction Servant Quarters Parking Spaces Double Glazed Windows  \\\n",
       "0                  NaN              NaN            NaN                    No   \n",
       "\n",
       "  Central AC Park Jacuzzi  \n",
       "0         No   No      No  "
      ]
     },
     "execution_count": 43,
     "metadata": {},
     "output_type": "execute_result"
    }
   ],
   "source": [
    "dff.head(1)"
   ]
  },
  {
   "cell_type": "code",
   "execution_count": 44,
   "metadata": {},
   "outputs": [
    {
     "data": {
      "text/plain": [
       "(500208, 22)"
      ]
     },
     "execution_count": 44,
     "metadata": {},
     "output_type": "execute_result"
    }
   ],
   "source": [
    "dff.shape"
   ]
  },
  {
   "cell_type": "markdown",
   "metadata": {},
   "source": [
    "### Remove duplicate listings"
   ]
  },
  {
   "cell_type": "code",
   "execution_count": 9,
   "metadata": {},
   "outputs": [],
   "source": [
    "# dff = pd.read_csv('data/zameen-dec2020-clean.csv', dtype=np.str)"
   ]
  },
  {
   "cell_type": "code",
   "execution_count": 10,
   "metadata": {},
   "outputs": [],
   "source": [
    "dff['Date Scraped'] = pd.to_datetime(dff['Date Scraped'])"
   ]
  },
  {
   "cell_type": "code",
   "execution_count": 11,
   "metadata": {},
   "outputs": [],
   "source": [
    "dff['Date Scraped_date'] = dff['Date Scraped'].dt.date"
   ]
  },
  {
   "cell_type": "code",
   "execution_count": 70,
   "metadata": {
    "scrolled": true
   },
   "outputs": [
    {
     "data": {
      "text/html": [
       "<div>\n",
       "<style scoped>\n",
       "    .dataframe tbody tr th:only-of-type {\n",
       "        vertical-align: middle;\n",
       "    }\n",
       "\n",
       "    .dataframe tbody tr th {\n",
       "        vertical-align: top;\n",
       "    }\n",
       "\n",
       "    .dataframe thead th {\n",
       "        text-align: right;\n",
       "    }\n",
       "</style>\n",
       "<table border=\"1\" class=\"dataframe\">\n",
       "  <thead>\n",
       "    <tr style=\"text-align: right;\">\n",
       "      <th></th>\n",
       "      <th>index</th>\n",
       "      <th>Date Scraped_date</th>\n",
       "    </tr>\n",
       "  </thead>\n",
       "  <tbody>\n",
       "    <tr>\n",
       "      <th>15</th>\n",
       "      <td>2020-12-01</td>\n",
       "      <td>127427</td>\n",
       "    </tr>\n",
       "    <tr>\n",
       "      <th>18</th>\n",
       "      <td>2020-12-02</td>\n",
       "      <td>96675</td>\n",
       "    </tr>\n",
       "    <tr>\n",
       "      <th>5</th>\n",
       "      <td>2020-12-03</td>\n",
       "      <td>149519</td>\n",
       "    </tr>\n",
       "    <tr>\n",
       "      <th>7</th>\n",
       "      <td>2020-12-04</td>\n",
       "      <td>146223</td>\n",
       "    </tr>\n",
       "    <tr>\n",
       "      <th>6</th>\n",
       "      <td>2020-12-05</td>\n",
       "      <td>148890</td>\n",
       "    </tr>\n",
       "    <tr>\n",
       "      <th>10</th>\n",
       "      <td>2020-12-06</td>\n",
       "      <td>141632</td>\n",
       "    </tr>\n",
       "    <tr>\n",
       "      <th>12</th>\n",
       "      <td>2020-12-07</td>\n",
       "      <td>139761</td>\n",
       "    </tr>\n",
       "    <tr>\n",
       "      <th>0</th>\n",
       "      <td>2020-12-08</td>\n",
       "      <td>153379</td>\n",
       "    </tr>\n",
       "    <tr>\n",
       "      <th>1</th>\n",
       "      <td>2020-12-09</td>\n",
       "      <td>153277</td>\n",
       "    </tr>\n",
       "    <tr>\n",
       "      <th>11</th>\n",
       "      <td>2020-12-10</td>\n",
       "      <td>139866</td>\n",
       "    </tr>\n",
       "  </tbody>\n",
       "</table>\n",
       "</div>"
      ],
      "text/plain": [
       "         index  Date Scraped_date\n",
       "15  2020-12-01             127427\n",
       "18  2020-12-02              96675\n",
       "5   2020-12-03             149519\n",
       "7   2020-12-04             146223\n",
       "6   2020-12-05             148890\n",
       "10  2020-12-06             141632\n",
       "12  2020-12-07             139761\n",
       "0   2020-12-08             153379\n",
       "1   2020-12-09             153277\n",
       "11  2020-12-10             139866"
      ]
     },
     "execution_count": 70,
     "metadata": {},
     "output_type": "execute_result"
    }
   ],
   "source": [
    "dff['Date Scraped_date'].value_counts().reset_index().sort_values(by='index')[:10]"
   ]
  },
  {
   "cell_type": "code",
   "execution_count": 20,
   "metadata": {},
   "outputs": [],
   "source": [
    "# remove dupes due to restarted scrapes\n",
    "if len(dff[dff[['Property ID', 'Date Scraped_date']].duplicated()]) > 0:\n",
    "    dff = dff[~dff[['Property ID', 'Date Scraped_date']].duplicated()].copy()"
   ]
  },
  {
   "cell_type": "code",
   "execution_count": 34,
   "metadata": {},
   "outputs": [],
   "source": [
    "pd.set_option('display.max_columns', 100)\n",
    "pd.set_option('max_colwidth', 500)"
   ]
  },
  {
   "cell_type": "code",
   "execution_count": 46,
   "metadata": {
    "scrolled": true
   },
   "outputs": [],
   "source": [
    "dupes = dff[dff[['Type', 'Locality', 'City', 'Area_marlas', 'Beds', 'Baths', 'Price_rupees_crores', 'Date Scraped', 'Agency']].duplicated(keep=False)].sort_values(by=['Date Scraped', 'City', 'Type', 'Locality', 'Area_marlas', 'Price_rupees_crores', 'Agency']).copy()\n",
    "\n"
   ]
  },
  {
   "cell_type": "code",
   "execution_count": 53,
   "metadata": {},
   "outputs": [
    {
     "data": {
      "text/plain": [
       "Type\n",
       "Residential Plot     870316\n",
       "House                444816\n",
       "Flat                 252294\n",
       "Upper Portion         93075\n",
       "Lower Portion         41605\n",
       "Commercial Plot       37663\n",
       "Plot File             24721\n",
       "Room                   1980\n",
       "Farm House             1640\n",
       "Penthouse              1279\n",
       "Industrial Land         681\n",
       "Agricultural Land       680\n",
       "Plot Form                86\n",
       "Plot                     52\n",
       "Name: Property ID, dtype: int64"
      ]
     },
     "execution_count": 53,
     "metadata": {},
     "output_type": "execute_result"
    }
   ],
   "source": [
    "dupes.groupby('Type')['Property ID'].count().sort_values(ascending=False)"
   ]
  },
  {
   "cell_type": "code",
   "execution_count": 58,
   "metadata": {},
   "outputs": [],
   "source": [
    "dupe_cols = ['Type', 'Locality', 'City', 'Area_marlas', 'Beds', 'Baths', 'Price_rupees_crores', 'Date Scraped', 'Agency']"
   ]
  },
  {
   "cell_type": "code",
   "execution_count": 59,
   "metadata": {},
   "outputs": [
    {
     "data": {
      "text/plain": [
       "1191834"
      ]
     },
     "execution_count": 59,
     "metadata": {},
     "output_type": "execute_result"
    }
   ],
   "source": [
    "len(dff[dff[['Type', 'Locality', 'City', 'Area_marlas', 'Beds', 'Baths', 'Price_rupees_crores', 'Date Scraped', 'Agency']].duplicated(keep='last')].sort_values(by=['Date Scraped', 'City', 'Type', 'Locality', 'Area_marlas', 'Price_rupees_crores', 'Agency']))\n",
    "\n"
   ]
  },
  {
   "cell_type": "code",
   "execution_count": 60,
   "metadata": {},
   "outputs": [
    {
     "data": {
      "text/plain": [
       "(4523277, 39)"
      ]
     },
     "execution_count": 60,
     "metadata": {},
     "output_type": "execute_result"
    }
   ],
   "source": [
    "dff.shape"
   ]
  },
  {
   "cell_type": "code",
   "execution_count": 61,
   "metadata": {},
   "outputs": [
    {
     "data": {
      "text/plain": [
       "0.2634890589278525"
      ]
     },
     "execution_count": 61,
     "metadata": {},
     "output_type": "execute_result"
    }
   ],
   "source": [
    "1191834/4523277"
   ]
  },
  {
   "cell_type": "code",
   "execution_count": 66,
   "metadata": {
    "scrolled": true
   },
   "outputs": [],
   "source": [
    "# drop 1,191,834 rows with duplicate listings\n",
    "dff = dff[~dff[dupe_cols].duplicated()].copy()"
   ]
  },
  {
   "cell_type": "code",
   "execution_count": 67,
   "metadata": {},
   "outputs": [
    {
     "data": {
      "text/plain": [
       "(3331443, 39)"
      ]
     },
     "execution_count": 67,
     "metadata": {},
     "output_type": "execute_result"
    }
   ],
   "source": [
    "dff.shape"
   ]
  },
  {
   "cell_type": "code",
   "execution_count": 68,
   "metadata": {},
   "outputs": [
    {
     "data": {
      "text/plain": [
       "4523277"
      ]
     },
     "execution_count": 68,
     "metadata": {},
     "output_type": "execute_result"
    }
   ],
   "source": [
    "3331443+1191834"
   ]
  },
  {
   "cell_type": "markdown",
   "metadata": {},
   "source": [
    "#### Expand details"
   ]
  },
  {
   "cell_type": "code",
   "execution_count": 56,
   "metadata": {
    "scrolled": false
   },
   "outputs": [
    {
     "data": {
      "text/plain": [
       "0         <class 'dict'>\n",
       "1         <class 'dict'>\n",
       "2         <class 'dict'>\n",
       "3         <class 'dict'>\n",
       "4         <class 'dict'>\n",
       "               ...      \n",
       "140004    <class 'dict'>\n",
       "140005    <class 'dict'>\n",
       "140006    <class 'dict'>\n",
       "140007    <class 'dict'>\n",
       "140008    <class 'dict'>\n",
       "Name: Details, Length: 500207, dtype: object"
      ]
     },
     "execution_count": 56,
     "metadata": {},
     "output_type": "execute_result"
    }
   ],
   "source": [
    "dff['Details'].apply(lambda x: type(x))"
   ]
  },
  {
   "cell_type": "code",
   "execution_count": 57,
   "metadata": {
    "scrolled": true
   },
   "outputs": [],
   "source": [
    "# dff.drop(columns=['Unnamed: 0'], inplace=True)\n",
    "# dd = dff['Details'].apply(pd.Series)\n",
    "# d = dff['Details'].map(eval)"
   ]
  },
  {
   "cell_type": "code",
   "execution_count": 58,
   "metadata": {
    "scrolled": true
   },
   "outputs": [],
   "source": [
    "new_cols = pd.json_normalize(dff['Details'])"
   ]
  },
  {
   "cell_type": "code",
   "execution_count": 60,
   "metadata": {
    "scrolled": false
   },
   "outputs": [
    {
     "data": {
      "text/html": [
       "<div>\n",
       "<style scoped>\n",
       "    .dataframe tbody tr th:only-of-type {\n",
       "        vertical-align: middle;\n",
       "    }\n",
       "\n",
       "    .dataframe tbody tr th {\n",
       "        vertical-align: top;\n",
       "    }\n",
       "\n",
       "    .dataframe thead th {\n",
       "        text-align: right;\n",
       "    }\n",
       "</style>\n",
       "<table border=\"1\" class=\"dataframe\">\n",
       "  <thead>\n",
       "    <tr style=\"text-align: right;\">\n",
       "      <th></th>\n",
       "      <th>Purpose</th>\n",
       "      <th>Type</th>\n",
       "      <th>Price</th>\n",
       "      <th>Location</th>\n",
       "      <th>Area</th>\n",
       "      <th>Bedroom(s)</th>\n",
       "      <th>Bath(s)</th>\n",
       "      <th>Added</th>\n",
       "    </tr>\n",
       "  </thead>\n",
       "  <tbody>\n",
       "    <tr>\n",
       "      <th>0</th>\n",
       "      <td>For Sale</td>\n",
       "      <td>Flat</td>\n",
       "      <td>52 Lakh</td>\n",
       "      <td>Bahria Town Karachi, Karachi, Sindh</td>\n",
       "      <td>4.9 Marla</td>\n",
       "      <td>2</td>\n",
       "      <td>2</td>\n",
       "      <td>28 minutes ago</td>\n",
       "    </tr>\n",
       "    <tr>\n",
       "      <th>1</th>\n",
       "      <td>For Sale</td>\n",
       "      <td>House</td>\n",
       "      <td>86 Lakh</td>\n",
       "      <td>Bahria Town Karachi, Karachi, Sindh</td>\n",
       "      <td>8 Marla</td>\n",
       "      <td>3</td>\n",
       "      <td>3</td>\n",
       "      <td>20 minutes ago</td>\n",
       "    </tr>\n",
       "    <tr>\n",
       "      <th>2</th>\n",
       "      <td>For Sale</td>\n",
       "      <td>Flat</td>\n",
       "      <td>50 Lakh</td>\n",
       "      <td>Bahria Town Karachi, Karachi, Sindh</td>\n",
       "      <td>4.2 Marla</td>\n",
       "      <td>2</td>\n",
       "      <td>3</td>\n",
       "      <td>3 minutes ago</td>\n",
       "    </tr>\n",
       "    <tr>\n",
       "      <th>3</th>\n",
       "      <td>For Sale</td>\n",
       "      <td>House</td>\n",
       "      <td>3.8 Crore</td>\n",
       "      <td>DHA Defence, Karachi, Sindh</td>\n",
       "      <td>4.8 Marla</td>\n",
       "      <td>4</td>\n",
       "      <td>5</td>\n",
       "      <td>16 minutes ago</td>\n",
       "    </tr>\n",
       "    <tr>\n",
       "      <th>4</th>\n",
       "      <td>For Sale</td>\n",
       "      <td>House</td>\n",
       "      <td>1.89 Crore</td>\n",
       "      <td>Bahria Town Karachi, Karachi, Sindh</td>\n",
       "      <td>8 Marla</td>\n",
       "      <td>3</td>\n",
       "      <td>3</td>\n",
       "      <td>24 minutes ago</td>\n",
       "    </tr>\n",
       "  </tbody>\n",
       "</table>\n",
       "</div>"
      ],
      "text/plain": [
       "    Purpose   Type       Price                             Location  \\\n",
       "0  For Sale   Flat     52 Lakh  Bahria Town Karachi, Karachi, Sindh   \n",
       "1  For Sale  House     86 Lakh  Bahria Town Karachi, Karachi, Sindh   \n",
       "2  For Sale   Flat     50 Lakh  Bahria Town Karachi, Karachi, Sindh   \n",
       "3  For Sale  House   3.8 Crore          DHA Defence, Karachi, Sindh   \n",
       "4  For Sale  House  1.89 Crore  Bahria Town Karachi, Karachi, Sindh   \n",
       "\n",
       "        Area Bedroom(s) Bath(s)           Added  \n",
       "0  4.9 Marla          2       2  28 minutes ago  \n",
       "1    8 Marla          3       3  20 minutes ago  \n",
       "2  4.2 Marla          2       3   3 minutes ago  \n",
       "3  4.8 Marla          4       5  16 minutes ago  \n",
       "4    8 Marla          3       3  24 minutes ago  "
      ]
     },
     "execution_count": 60,
     "metadata": {},
     "output_type": "execute_result"
    }
   ],
   "source": [
    "new_cols.head()"
   ]
  },
  {
   "cell_type": "code",
   "execution_count": 61,
   "metadata": {},
   "outputs": [
    {
     "data": {
      "text/plain": [
       "(500207, 8)"
      ]
     },
     "execution_count": 61,
     "metadata": {},
     "output_type": "execute_result"
    }
   ],
   "source": [
    "# need multiple cols, one for each key\n",
    "new_cols.shape"
   ]
  },
  {
   "cell_type": "code",
   "execution_count": 62,
   "metadata": {},
   "outputs": [],
   "source": [
    "# convert to arrays to speed up concatenation\n",
    "dff_ = np.concatenate((dff.values, new_cols.values), axis=1)"
   ]
  },
  {
   "cell_type": "code",
   "execution_count": 63,
   "metadata": {},
   "outputs": [],
   "source": [
    "col_names = dff.columns.append(new_cols.columns)"
   ]
  },
  {
   "cell_type": "code",
   "execution_count": 64,
   "metadata": {},
   "outputs": [],
   "source": [
    "# merge with dff\n",
    "dff = pd.DataFrame(dff_, columns=col_names)"
   ]
  },
  {
   "cell_type": "code",
   "execution_count": 65,
   "metadata": {},
   "outputs": [
    {
     "data": {
      "text/plain": [
       "(500207, 31)"
      ]
     },
     "execution_count": 65,
     "metadata": {},
     "output_type": "execute_result"
    }
   ],
   "source": [
    "# cols should increase by 8\n",
    "dff.shape"
   ]
  },
  {
   "cell_type": "code",
   "execution_count": 66,
   "metadata": {},
   "outputs": [
    {
     "data": {
      "text/plain": [
       "Index(['Property ID', 'Title', 'Subtitle', 'Details', 'Description',\n",
       "       'Amenities', 'Agency', 'Agent', 'Titanium Agency?', 'Agency Video',\n",
       "       'Number of Images', 'Tour Video', 'Property Verified', 'Date Scraped',\n",
       "       'URL', 'Year of Construction', 'Servant Quarters', 'Parking Spaces',\n",
       "       'Double Glazed Windows', 'Central AC', 'Park', 'Jacuzzi',\n",
       "       'Date Scraped_date', 'Purpose', 'Type', 'Price', 'Location', 'Area',\n",
       "       'Bedroom(s)', 'Bath(s)', 'Added'],\n",
       "      dtype='object')"
      ]
     },
     "execution_count": 66,
     "metadata": {},
     "output_type": "execute_result"
    }
   ],
   "source": [
    "dff.columns"
   ]
  },
  {
   "cell_type": "markdown",
   "metadata": {},
   "source": [
    "#### Filter and rename columns"
   ]
  },
  {
   "cell_type": "code",
   "execution_count": 67,
   "metadata": {},
   "outputs": [],
   "source": [
    "# drop Details, Description, Amenities\n",
    "df = dff[['Property ID', 'Purpose', 'Type', 'Title', 'Subtitle', 'Location', 'Area', 'Price', 'Bedroom(s)', 'Bath(s)', 'Year of Construction', 'Servant Quarters', 'Parking Spaces', 'Double Glazed Windows', 'Central AC', 'Park', 'Jacuzzi', 'Agency', 'Agent', 'Titanium Agency?', 'Agency Video', 'Number of Images', 'Tour Video', 'Property Verified', 'Date Scraped', 'URL', 'Added']].copy()\n",
    "\n"
   ]
  },
  {
   "cell_type": "code",
   "execution_count": 68,
   "metadata": {},
   "outputs": [],
   "source": [
    "df.rename(columns={'Bedroom(s)':'Beds', 'Bath(s)':'Baths'}, inplace=True)"
   ]
  },
  {
   "cell_type": "code",
   "execution_count": 69,
   "metadata": {},
   "outputs": [],
   "source": [
    "pd.set_option('display.max_columns', 100)"
   ]
  },
  {
   "cell_type": "code",
   "execution_count": 70,
   "metadata": {},
   "outputs": [
    {
     "data": {
      "text/html": [
       "<div>\n",
       "<style scoped>\n",
       "    .dataframe tbody tr th:only-of-type {\n",
       "        vertical-align: middle;\n",
       "    }\n",
       "\n",
       "    .dataframe tbody tr th {\n",
       "        vertical-align: top;\n",
       "    }\n",
       "\n",
       "    .dataframe thead th {\n",
       "        text-align: right;\n",
       "    }\n",
       "</style>\n",
       "<table border=\"1\" class=\"dataframe\">\n",
       "  <thead>\n",
       "    <tr style=\"text-align: right;\">\n",
       "      <th></th>\n",
       "      <th>Property ID</th>\n",
       "      <th>Purpose</th>\n",
       "      <th>Type</th>\n",
       "      <th>Title</th>\n",
       "      <th>Subtitle</th>\n",
       "      <th>Location</th>\n",
       "      <th>Area</th>\n",
       "      <th>Price</th>\n",
       "      <th>Beds</th>\n",
       "      <th>Baths</th>\n",
       "      <th>Year of Construction</th>\n",
       "      <th>Servant Quarters</th>\n",
       "      <th>Parking Spaces</th>\n",
       "      <th>Double Glazed Windows</th>\n",
       "      <th>Central AC</th>\n",
       "      <th>Park</th>\n",
       "      <th>Jacuzzi</th>\n",
       "      <th>Agency</th>\n",
       "      <th>Agent</th>\n",
       "      <th>Titanium Agency?</th>\n",
       "      <th>Agency Video</th>\n",
       "      <th>Number of Images</th>\n",
       "      <th>Tour Video</th>\n",
       "      <th>Property Verified</th>\n",
       "      <th>Date Scraped</th>\n",
       "      <th>URL</th>\n",
       "      <th>Added</th>\n",
       "    </tr>\n",
       "  </thead>\n",
       "  <tbody>\n",
       "    <tr>\n",
       "      <th>0</th>\n",
       "      <td>Flat 26526717</td>\n",
       "      <td>For Sale</td>\n",
       "      <td>Flat</td>\n",
       "      <td>Beautiful Apartment Is Available For Sale In Reasonable Price</td>\n",
       "      <td>Bahria Heights, Bahria Town Karachi, Karachi, Sindh</td>\n",
       "      <td>Bahria Town Karachi, Karachi, Sindh</td>\n",
       "      <td>4.9 Marla</td>\n",
       "      <td>52 Lakh</td>\n",
       "      <td>2</td>\n",
       "      <td>2</td>\n",
       "      <td>NaN</td>\n",
       "      <td>NaN</td>\n",
       "      <td>NaN</td>\n",
       "      <td>No</td>\n",
       "      <td>No</td>\n",
       "      <td>No</td>\n",
       "      <td>No</td>\n",
       "      <td>Salaam Estate &amp; Builders</td>\n",
       "      <td>Rana Arsalan</td>\n",
       "      <td>True</td>\n",
       "      <td>True</td>\n",
       "      <td>10</td>\n",
       "      <td>False</td>\n",
       "      <td>False</td>\n",
       "      <td>2020-12-01 13:49:04</td>\n",
       "      <td>https://www.zameen.com/Property/bahria_town_karachi_bahria_heights_beautiful_apartment_is_availa...</td>\n",
       "      <td>28 minutes ago</td>\n",
       "    </tr>\n",
       "    <tr>\n",
       "      <th>1</th>\n",
       "      <td>House 26481937</td>\n",
       "      <td>For Sale</td>\n",
       "      <td>House</td>\n",
       "      <td>3 Beds Villa For Sale In Bahria Town Karachi</td>\n",
       "      <td>Bahria Town - Precinct 31, Bahria Town Karachi, Karachi, Sindh</td>\n",
       "      <td>Bahria Town Karachi, Karachi, Sindh</td>\n",
       "      <td>8 Marla</td>\n",
       "      <td>86 Lakh</td>\n",
       "      <td>3</td>\n",
       "      <td>3</td>\n",
       "      <td>NaN</td>\n",
       "      <td>NaN</td>\n",
       "      <td>NaN</td>\n",
       "      <td>No</td>\n",
       "      <td>No</td>\n",
       "      <td>No</td>\n",
       "      <td>No</td>\n",
       "      <td>Sub Ki Property</td>\n",
       "      <td>SUB KI PROPERTY</td>\n",
       "      <td>True</td>\n",
       "      <td>False</td>\n",
       "      <td>11</td>\n",
       "      <td>False</td>\n",
       "      <td>False</td>\n",
       "      <td>2020-12-01 13:49:04</td>\n",
       "      <td>https://www.zameen.com/Property/bahria_town_karachi_bahria_town_precinct_31_3_beds_villa_for_sal...</td>\n",
       "      <td>20 minutes ago</td>\n",
       "    </tr>\n",
       "  </tbody>\n",
       "</table>\n",
       "</div>"
      ],
      "text/plain": [
       "      Property ID   Purpose   Type  \\\n",
       "0   Flat 26526717  For Sale   Flat   \n",
       "1  House 26481937  For Sale  House   \n",
       "\n",
       "                                                           Title  \\\n",
       "0  Beautiful Apartment Is Available For Sale In Reasonable Price   \n",
       "1                   3 Beds Villa For Sale In Bahria Town Karachi   \n",
       "\n",
       "                                                         Subtitle  \\\n",
       "0             Bahria Heights, Bahria Town Karachi, Karachi, Sindh   \n",
       "1  Bahria Town - Precinct 31, Bahria Town Karachi, Karachi, Sindh   \n",
       "\n",
       "                              Location       Area    Price Beds Baths  \\\n",
       "0  Bahria Town Karachi, Karachi, Sindh  4.9 Marla  52 Lakh    2     2   \n",
       "1  Bahria Town Karachi, Karachi, Sindh    8 Marla  86 Lakh    3     3   \n",
       "\n",
       "  Year of Construction Servant Quarters Parking Spaces Double Glazed Windows  \\\n",
       "0                  NaN              NaN            NaN                    No   \n",
       "1                  NaN              NaN            NaN                    No   \n",
       "\n",
       "  Central AC Park Jacuzzi                    Agency            Agent  \\\n",
       "0         No   No      No  Salaam Estate & Builders     Rana Arsalan   \n",
       "1         No   No      No           Sub Ki Property  SUB KI PROPERTY   \n",
       "\n",
       "  Titanium Agency? Agency Video Number of Images Tour Video Property Verified  \\\n",
       "0             True         True               10      False             False   \n",
       "1             True        False               11      False             False   \n",
       "\n",
       "         Date Scraped  \\\n",
       "0 2020-12-01 13:49:04   \n",
       "1 2020-12-01 13:49:04   \n",
       "\n",
       "                                                                                                   URL  \\\n",
       "0  https://www.zameen.com/Property/bahria_town_karachi_bahria_heights_beautiful_apartment_is_availa...   \n",
       "1  https://www.zameen.com/Property/bahria_town_karachi_bahria_town_precinct_31_3_beds_villa_for_sal...   \n",
       "\n",
       "            Added  \n",
       "0  28 minutes ago  \n",
       "1  20 minutes ago  "
      ]
     },
     "execution_count": 70,
     "metadata": {},
     "output_type": "execute_result"
    }
   ],
   "source": [
    "df.head(2)"
   ]
  },
  {
   "cell_type": "code",
   "execution_count": 71,
   "metadata": {},
   "outputs": [
    {
     "data": {
      "text/plain": [
       "(500207, 27)"
      ]
     },
     "execution_count": 71,
     "metadata": {},
     "output_type": "execute_result"
    }
   ],
   "source": [
    "df.shape"
   ]
  },
  {
   "cell_type": "markdown",
   "metadata": {},
   "source": [
    "## Cleanup columns"
   ]
  },
  {
   "cell_type": "code",
   "execution_count": 72,
   "metadata": {},
   "outputs": [
    {
     "data": {
      "text/plain": [
       "Property ID                   0\n",
       "Purpose                       0\n",
       "Type                          0\n",
       "Title                         3\n",
       "Subtitle                      0\n",
       "Location                      0\n",
       "Area                          0\n",
       "Price                         0\n",
       "Beds                          0\n",
       "Baths                         0\n",
       "Year of Construction     436354\n",
       "Servant Quarters         445401\n",
       "Parking Spaces           431285\n",
       "Double Glazed Windows         0\n",
       "Central AC                    0\n",
       "Park                          0\n",
       "Jacuzzi                       0\n",
       "Agency                    55917\n",
       "Agent                     55920\n",
       "Titanium Agency?              0\n",
       "Agency Video                  0\n",
       "Number of Images              0\n",
       "Tour Video                    0\n",
       "Property Verified             0\n",
       "Date Scraped                  0\n",
       "URL                           0\n",
       "Added                         0\n",
       "dtype: int64"
      ]
     },
     "execution_count": 72,
     "metadata": {},
     "output_type": "execute_result"
    }
   ],
   "source": [
    "df.isna().sum()"
   ]
  },
  {
   "cell_type": "markdown",
   "metadata": {},
   "source": [
    "#### Year of Construction"
   ]
  },
  {
   "cell_type": "code",
   "execution_count": 73,
   "metadata": {},
   "outputs": [
    {
     "data": {
      "text/plain": [
       "0.8723468484047604"
      ]
     },
     "execution_count": 73,
     "metadata": {},
     "output_type": "execute_result"
    }
   ],
   "source": [
    "len(df[df['Year of Construction'].isna()])/len(df)"
   ]
  },
  {
   "cell_type": "code",
   "execution_count": 74,
   "metadata": {
    "scrolled": true
   },
   "outputs": [],
   "source": [
    "df['Year of Construction'] = df['Year of Construction'].astype('float')"
   ]
  },
  {
   "cell_type": "code",
   "execution_count": 75,
   "metadata": {},
   "outputs": [
    {
     "data": {
      "text/plain": [
       "count    63853.000000\n",
       "mean      2011.951811\n",
       "std        118.535923\n",
       "min          0.000000\n",
       "25%       2017.000000\n",
       "50%       2019.000000\n",
       "75%       2020.000000\n",
       "max       7654.000000\n",
       "Name: Year of Construction, dtype: float64"
      ]
     },
     "execution_count": 75,
     "metadata": {},
     "output_type": "execute_result"
    }
   ],
   "source": [
    "df['Year of Construction'].describe()"
   ]
  },
  {
   "cell_type": "code",
   "execution_count": 76,
   "metadata": {
    "scrolled": true
   },
   "outputs": [],
   "source": [
    "df['Year of Construction'] = np.where(df['Year of Construction'] == '0000', np.nan, df['Year of Construction'])"
   ]
  },
  {
   "cell_type": "code",
   "execution_count": 77,
   "metadata": {},
   "outputs": [],
   "source": [
    "df['Year of Construction'] = np.where(df['Year of Construction'] == '5015', np.nan, df['Year of Construction'])"
   ]
  },
  {
   "cell_type": "code",
   "execution_count": 78,
   "metadata": {},
   "outputs": [],
   "source": [
    "df['Year of Construction'] = np.where(df['Year of Construction'] == '2915', np.nan, df['Year of Construction'])"
   ]
  },
  {
   "cell_type": "code",
   "execution_count": 79,
   "metadata": {},
   "outputs": [],
   "source": [
    "df['Year of Construction'] = np.where((df['Year of Construction'] > 2020) | (df['Year of Construction'] < 1900), np.nan, df['Year of Construction'])"
   ]
  },
  {
   "cell_type": "code",
   "execution_count": 80,
   "metadata": {
    "scrolled": true
   },
   "outputs": [],
   "source": [
    "df['Year of Construction'] = pd.to_datetime(df['Year of Construction'], format='%Y')"
   ]
  },
  {
   "cell_type": "code",
   "execution_count": 81,
   "metadata": {},
   "outputs": [
    {
     "name": "stderr",
     "output_type": "stream",
     "text": [
      "/Users/abdur_rehman/miniconda3/envs/ml/lib/python3.6/site-packages/ipykernel_launcher.py:1: FutureWarning: Treating datetime data as categorical rather than numeric in `.describe` is deprecated and will be removed in a future version of pandas. Specify `datetime_is_numeric=True` to silence this warning and adopt the future behavior now.\n",
      "  \"\"\"Entry point for launching an IPython kernel.\n"
     ]
    },
    {
     "data": {
      "text/plain": [
       "count                   61782\n",
       "unique                     55\n",
       "top       2020-01-01 00:00:00\n",
       "freq                    28338\n",
       "first     1909-01-01 00:00:00\n",
       "last      2020-01-01 00:00:00\n",
       "Name: Year of Construction, dtype: object"
      ]
     },
     "execution_count": 81,
     "metadata": {},
     "output_type": "execute_result"
    }
   ],
   "source": [
    "df['Year of Construction'].describe()"
   ]
  },
  {
   "cell_type": "code",
   "execution_count": 83,
   "metadata": {
    "scrolled": true
   },
   "outputs": [],
   "source": [
    "# very interesting!\n",
    "# df[df['Year of Construction'] < '1990']"
   ]
  },
  {
   "cell_type": "markdown",
   "metadata": {},
   "source": [
    "#### Date Scraped"
   ]
  },
  {
   "cell_type": "code",
   "execution_count": 84,
   "metadata": {
    "scrolled": true
   },
   "outputs": [
    {
     "data": {
      "text/plain": [
       "2020-12-01 17:22:17    19\n",
       "2020-12-30 20:43:31    19\n",
       "2020-12-30 20:25:40    18\n",
       "2020-12-30 20:12:51    18\n",
       "2020-12-30 18:54:30    18\n",
       "2020-12-15 08:08:42    18\n",
       "2020-12-01 14:59:36    18\n",
       "2020-12-15 06:55:14    17\n",
       "2020-12-01 14:56:43    17\n",
       "2020-12-15 07:08:17    17\n",
       "Name: Date Scraped, dtype: int64"
      ]
     },
     "execution_count": 84,
     "metadata": {},
     "output_type": "execute_result"
    }
   ],
   "source": [
    "df['Date Scraped'].value_counts()[:10]"
   ]
  },
  {
   "cell_type": "code",
   "execution_count": 85,
   "metadata": {},
   "outputs": [],
   "source": [
    "df['Date Scraped'] = pd.to_datetime(df['Date Scraped'])"
   ]
  },
  {
   "cell_type": "code",
   "execution_count": 86,
   "metadata": {},
   "outputs": [],
   "source": [
    "df['Date Scraped'] = df['Date Scraped'].dt.date"
   ]
  },
  {
   "cell_type": "markdown",
   "metadata": {},
   "source": [
    "#### Added Date"
   ]
  },
  {
   "cell_type": "code",
   "execution_count": 87,
   "metadata": {},
   "outputs": [],
   "source": [
    "pd.set_option('min_rows', 100)"
   ]
  },
  {
   "cell_type": "code",
   "execution_count": 88,
   "metadata": {
    "scrolled": false
   },
   "outputs": [
    {
     "data": {
      "text/plain": [
       "2 weeks ago     0.128195\n",
       "1 week ago      0.115828\n",
       "3 weeks ago     0.078262\n",
       "1 month ago     0.073122\n",
       "2 months ago    0.066714\n",
       "3 days ago      0.055523\n",
       "4 days ago      0.053286\n",
       "2 days ago      0.049204\n",
       "1 day ago       0.048640\n",
       "4 weeks ago     0.048026\n",
       "6 days ago      0.044370\n",
       "5 days ago      0.041893\n",
       "3 months ago    0.035317\n",
       "4 months ago    0.018846\n",
       "5 months ago    0.013776\n",
       "4 hours ago     0.007487\n",
       "6 months ago    0.006779\n",
       "23 hours ago    0.006299\n",
       "3 hours ago     0.006125\n",
       "19 hours ago    0.006026\n",
       "Name: Added, dtype: float64"
      ]
     },
     "execution_count": 88,
     "metadata": {},
     "output_type": "execute_result"
    }
   ],
   "source": [
    "df['Added'].value_counts(normalize=True)[:20]"
   ]
  },
  {
   "cell_type": "markdown",
   "metadata": {},
   "source": [
    "#### Fix weeks in Added"
   ]
  },
  {
   "cell_type": "code",
   "execution_count": 89,
   "metadata": {
    "scrolled": true
   },
   "outputs": [
    {
     "data": {
      "text/plain": [
       "2 weeks ago    0.346182\n",
       "1 week ago     0.312786\n",
       "3 weeks ago    0.211340\n",
       "4 weeks ago    0.129691\n",
       "Name: Added, dtype: float64"
      ]
     },
     "execution_count": 89,
     "metadata": {},
     "output_type": "execute_result"
    }
   ],
   "source": [
    "df[df['Added'].str.contains('week|weeks')]['Added'].value_counts(normalize=True)"
   ]
  },
  {
   "cell_type": "code",
   "execution_count": 90,
   "metadata": {},
   "outputs": [],
   "source": [
    "df['Added'] = df['Added'].str.replace('ago', '')"
   ]
  },
  {
   "cell_type": "code",
   "execution_count": 91,
   "metadata": {},
   "outputs": [],
   "source": [
    "df.reset_index(drop=True, inplace=True)"
   ]
  },
  {
   "cell_type": "code",
   "execution_count": 92,
   "metadata": {},
   "outputs": [
    {
     "data": {
      "text/html": [
       "<div>\n",
       "<style scoped>\n",
       "    .dataframe tbody tr th:only-of-type {\n",
       "        vertical-align: middle;\n",
       "    }\n",
       "\n",
       "    .dataframe tbody tr th {\n",
       "        vertical-align: top;\n",
       "    }\n",
       "\n",
       "    .dataframe thead th {\n",
       "        text-align: right;\n",
       "    }\n",
       "</style>\n",
       "<table border=\"1\" class=\"dataframe\">\n",
       "  <thead>\n",
       "    <tr style=\"text-align: right;\">\n",
       "      <th></th>\n",
       "      <th>Property ID</th>\n",
       "      <th>Purpose</th>\n",
       "      <th>Type</th>\n",
       "      <th>Title</th>\n",
       "      <th>Subtitle</th>\n",
       "      <th>Location</th>\n",
       "      <th>Area</th>\n",
       "      <th>Price</th>\n",
       "      <th>Beds</th>\n",
       "      <th>Baths</th>\n",
       "      <th>Year of Construction</th>\n",
       "      <th>Servant Quarters</th>\n",
       "      <th>Parking Spaces</th>\n",
       "      <th>Double Glazed Windows</th>\n",
       "      <th>Central AC</th>\n",
       "      <th>Park</th>\n",
       "      <th>Jacuzzi</th>\n",
       "      <th>Agency</th>\n",
       "      <th>Agent</th>\n",
       "      <th>Titanium Agency?</th>\n",
       "      <th>Agency Video</th>\n",
       "      <th>Number of Images</th>\n",
       "      <th>Tour Video</th>\n",
       "      <th>Property Verified</th>\n",
       "      <th>Date Scraped</th>\n",
       "      <th>URL</th>\n",
       "      <th>Added</th>\n",
       "    </tr>\n",
       "  </thead>\n",
       "  <tbody>\n",
       "  </tbody>\n",
       "</table>\n",
       "</div>"
      ],
      "text/plain": [
       "Empty DataFrame\n",
       "Columns: [Property ID, Purpose, Type, Title, Subtitle, Location, Area, Price, Beds, Baths, Year of Construction, Servant Quarters, Parking Spaces, Double Glazed Windows, Central AC, Park, Jacuzzi, Agency, Agent, Titanium Agency?, Agency Video, Number of Images, Tour Video, Property Verified, Date Scraped, URL, Added]\n",
       "Index: []"
      ]
     },
     "execution_count": 92,
     "metadata": {},
     "output_type": "execute_result"
    }
   ],
   "source": [
    "# check\n",
    "# df[df.index.duplicated()]"
   ]
  },
  {
   "cell_type": "code",
   "execution_count": 93,
   "metadata": {
    "scrolled": true
   },
   "outputs": [],
   "source": [
    "df['weeks'] = df[df['Added'].str.contains('week|weeks')]['Added'].apply(lambda x: x[0])"
   ]
  },
  {
   "cell_type": "code",
   "execution_count": 94,
   "metadata": {},
   "outputs": [],
   "source": [
    "df['weeks'] = df[df['weeks'].notna()]['weeks'].astype(int)"
   ]
  },
  {
   "cell_type": "code",
   "execution_count": 96,
   "metadata": {},
   "outputs": [
    {
     "data": {
      "text/plain": [
       "2.0    0.346182\n",
       "1.0    0.312786\n",
       "3.0    0.211340\n",
       "4.0    0.129691\n",
       "Name: weeks, dtype: float64"
      ]
     },
     "execution_count": 96,
     "metadata": {},
     "output_type": "execute_result"
    }
   ],
   "source": [
    "df['weeks'].value_counts(normalize=True)"
   ]
  },
  {
   "cell_type": "code",
   "execution_count": 97,
   "metadata": {
    "scrolled": true
   },
   "outputs": [],
   "source": [
    "df['weeks'] = pd.to_timedelta(df['weeks'], unit='W')"
   ]
  },
  {
   "cell_type": "markdown",
   "metadata": {},
   "source": [
    "#### Fix months in Added"
   ]
  },
  {
   "cell_type": "code",
   "execution_count": 98,
   "metadata": {},
   "outputs": [
    {
     "data": {
      "text/plain": [
       "1 month       0.325806\n",
       "2 months      0.297257\n",
       "3 months      0.157363\n",
       "4 months      0.083972\n",
       "5 months      0.061383\n",
       "6 months      0.030206\n",
       "10 months     0.011981\n",
       "9 months      0.010342\n",
       "7 months      0.009549\n",
       "8 months      0.006556\n",
       "11 months     0.005585\n",
       "Name: Added, dtype: float64"
      ]
     },
     "execution_count": 98,
     "metadata": {},
     "output_type": "execute_result"
    }
   ],
   "source": [
    "df[df['Added'].str.contains('month|months')]['Added'].value_counts(normalize=True)"
   ]
  },
  {
   "cell_type": "code",
   "execution_count": 99,
   "metadata": {},
   "outputs": [],
   "source": [
    "df['months'] = df[df['Added'].str.contains('month|months')]['Added'].apply(lambda x: x.split(' ')[0])"
   ]
  },
  {
   "cell_type": "code",
   "execution_count": 100,
   "metadata": {},
   "outputs": [
    {
     "data": {
      "text/plain": [
       "1     0.325806\n",
       "2     0.297257\n",
       "3     0.157363\n",
       "4     0.083972\n",
       "5     0.061383\n",
       "6     0.030206\n",
       "10    0.011981\n",
       "9     0.010342\n",
       "7     0.009549\n",
       "8     0.006556\n",
       "11    0.005585\n",
       "Name: months, dtype: float64"
      ]
     },
     "execution_count": 100,
     "metadata": {},
     "output_type": "execute_result"
    }
   ],
   "source": [
    "df['months'].value_counts(normalize=True)"
   ]
  },
  {
   "cell_type": "code",
   "execution_count": 101,
   "metadata": {},
   "outputs": [],
   "source": [
    "df['months'] = df[df['months'].notna()]['months'].astype(int)"
   ]
  },
  {
   "cell_type": "code",
   "execution_count": 102,
   "metadata": {},
   "outputs": [],
   "source": [
    "df['months'] = df['months']*30"
   ]
  },
  {
   "cell_type": "code",
   "execution_count": 103,
   "metadata": {
    "scrolled": true
   },
   "outputs": [],
   "source": [
    "df['months'] = pd.to_timedelta(df['months'], unit='D')"
   ]
  },
  {
   "cell_type": "markdown",
   "metadata": {},
   "source": [
    "#### Fix years in Added"
   ]
  },
  {
   "cell_type": "code",
   "execution_count": 104,
   "metadata": {},
   "outputs": [
    {
     "data": {
      "text/plain": [
       "1 year      0.628099\n",
       "2 years     0.236915\n",
       "3 years     0.048209\n",
       "7 years     0.038567\n",
       "4 years     0.016529\n",
       "6 years     0.013774\n",
       "8 years     0.011019\n",
       "5 years     0.006887\n",
       "Name: Added, dtype: float64"
      ]
     },
     "execution_count": 104,
     "metadata": {},
     "output_type": "execute_result"
    }
   ],
   "source": [
    "df[df['Added'].str.contains('year|years')]['Added'].value_counts(normalize=True)"
   ]
  },
  {
   "cell_type": "code",
   "execution_count": 105,
   "metadata": {},
   "outputs": [],
   "source": [
    "df['years'] = df[df['Added'].str.contains('year|years')]['Added'].apply(lambda x: x.split(' ')[0])"
   ]
  },
  {
   "cell_type": "code",
   "execution_count": 106,
   "metadata": {},
   "outputs": [
    {
     "data": {
      "text/plain": [
       "1    0.628099\n",
       "2    0.236915\n",
       "3    0.048209\n",
       "7    0.038567\n",
       "4    0.016529\n",
       "6    0.013774\n",
       "8    0.011019\n",
       "5    0.006887\n",
       "Name: years, dtype: float64"
      ]
     },
     "execution_count": 106,
     "metadata": {},
     "output_type": "execute_result"
    }
   ],
   "source": [
    "df['years'].value_counts(normalize=True)"
   ]
  },
  {
   "cell_type": "code",
   "execution_count": 107,
   "metadata": {},
   "outputs": [],
   "source": [
    "df['years'] = df[df['years'].notna()]['years'].astype(float)"
   ]
  },
  {
   "cell_type": "code",
   "execution_count": 108,
   "metadata": {},
   "outputs": [],
   "source": [
    "df['years'] = df['years']*365.25"
   ]
  },
  {
   "cell_type": "code",
   "execution_count": 109,
   "metadata": {
    "scrolled": true
   },
   "outputs": [],
   "source": [
    "df['years'] = pd.to_timedelta(df['years'], unit='D')"
   ]
  },
  {
   "cell_type": "markdown",
   "metadata": {},
   "source": [
    "#### Create timedelta"
   ]
  },
  {
   "cell_type": "code",
   "execution_count": 110,
   "metadata": {},
   "outputs": [],
   "source": [
    "df['Added_td'] = np.timedelta64('NaT')"
   ]
  },
  {
   "cell_type": "code",
   "execution_count": 111,
   "metadata": {
    "scrolled": true
   },
   "outputs": [],
   "source": [
    "# add weeks and months to new col\n",
    "df['Added_td'] = np.where(df['Added'].str.contains('week|weeks'), df['weeks'], df['Added_td'])\n",
    "df['Added_td'] = np.where(df['Added'].str.contains('month|months'), df['months'], df['Added_td'])\n",
    "df['Added_td'] = np.where(df['Added'].str.contains('year|years'), df['years'], df['Added_td'])"
   ]
  },
  {
   "cell_type": "code",
   "execution_count": 112,
   "metadata": {
    "scrolled": false
   },
   "outputs": [
    {
     "data": {
      "text/plain": [
       "14 days 00:00:00      64124\n",
       "7 days 00:00:00       57938\n",
       "21 days 00:00:00      39147\n",
       "30 days 00:00:00      36576\n",
       "60 days 00:00:00      33371\n",
       "28 days 00:00:00      24023\n",
       "90 days 00:00:00      17666\n",
       "120 days 00:00:00      9427\n",
       "150 days 00:00:00      6891\n",
       "180 days 00:00:00      3391\n",
       "300 days 00:00:00      1345\n",
       "270 days 00:00:00      1161\n",
       "210 days 00:00:00      1072\n",
       "240 days 00:00:00       736\n",
       "330 days 00:00:00       627\n",
       "365 days 06:00:00       456\n",
       "730 days 12:00:00       172\n",
       "1095 days 18:00:00       35\n",
       "2556 days 18:00:00       28\n",
       "1461 days 00:00:00       12\n",
       "2191 days 12:00:00       10\n",
       "2922 days 00:00:00        8\n",
       "1826 days 06:00:00        5\n",
       "Name: Added_td, dtype: int64"
      ]
     },
     "execution_count": 112,
     "metadata": {},
     "output_type": "execute_result"
    }
   ],
   "source": [
    "df['Added_td'].value_counts()"
   ]
  },
  {
   "cell_type": "code",
   "execution_count": 113,
   "metadata": {},
   "outputs": [
    {
     "data": {
      "text/plain": [
       "0"
      ]
     },
     "execution_count": 113,
     "metadata": {},
     "output_type": "execute_result"
    }
   ],
   "source": [
    "(df['Added_td'] == 'NaT').sum()"
   ]
  },
  {
   "cell_type": "code",
   "execution_count": 114,
   "metadata": {
    "scrolled": true
   },
   "outputs": [],
   "source": [
    "df['Added_td'] = df['Added_td'].astype(str)"
   ]
  },
  {
   "cell_type": "code",
   "execution_count": 115,
   "metadata": {},
   "outputs": [],
   "source": [
    "df['Added_td'] = np.where(df['Added_td'] == 'NaT', df['Added'], df['Added_td'])"
   ]
  },
  {
   "cell_type": "code",
   "execution_count": 117,
   "metadata": {
    "scrolled": false
   },
   "outputs": [
    {
     "data": {
      "text/plain": [
       "0          28 minutes \n",
       "1          20 minutes \n",
       "2           3 minutes \n",
       "3          16 minutes \n",
       "4          24 minutes \n",
       "5           3 minutes \n",
       "6           2 minutes \n",
       "7          50 minutes \n",
       "8          49 minutes \n",
       "9          43 minutes \n",
       "10         47 minutes \n",
       "11         19 minutes \n",
       "12         49 minutes \n",
       "13         24 minutes \n",
       "14    60 days 00:00:00\n",
       "15          8 minutes \n",
       "16          8 minutes \n",
       "17          7 minutes \n",
       "18          8 minutes \n",
       "19         30 minutes \n",
       "20    60 days 00:00:00\n",
       "21         29 minutes \n",
       "22         30 minutes \n",
       "23         29 minutes \n",
       "24         28 minutes \n",
       "Name: Added_td, dtype: object"
      ]
     },
     "execution_count": 117,
     "metadata": {},
     "output_type": "execute_result"
    }
   ],
   "source": [
    "df['Added_td'][:25]"
   ]
  },
  {
   "cell_type": "code",
   "execution_count": 118,
   "metadata": {
    "scrolled": true
   },
   "outputs": [],
   "source": [
    "df['Added_td'] = pd.to_timedelta(df['Added_td'])"
   ]
  },
  {
   "cell_type": "markdown",
   "metadata": {},
   "source": [
    "#### Add Date Last Updated"
   ]
  },
  {
   "cell_type": "code",
   "execution_count": 119,
   "metadata": {},
   "outputs": [],
   "source": [
    "df['Date Last Updated'] = np.where(df['Added_td'] < '1 day', df['Date Scraped'], np.timedelta64('NaT'))"
   ]
  },
  {
   "cell_type": "code",
   "execution_count": 120,
   "metadata": {},
   "outputs": [
    {
     "name": "stderr",
     "output_type": "stream",
     "text": [
      "/Users/abdur_rehman/miniconda3/envs/ml/lib/python3.6/site-packages/pandas/core/arrays/datetimelike.py:1345: PerformanceWarning: Adding/subtracting object-dtype array to TimedeltaArray not vectorized\n",
      "  PerformanceWarning,\n"
     ]
    }
   ],
   "source": [
    "df['Date Last Updated'] = np.where(df['Date Last Updated'].isnull(), df['Date Scraped'] - df['Added_td'], df['Date Last Updated'])\n",
    "\n"
   ]
  },
  {
   "cell_type": "code",
   "execution_count": 121,
   "metadata": {
    "scrolled": true
   },
   "outputs": [
    {
     "data": {
      "text/plain": [
       "2020-12-01    40623\n",
       "2020-11-24    35164\n",
       "2020-11-17    30314\n",
       "2020-11-30    22956\n",
       "2020-12-15    22635\n",
       "Name: Date Last Updated, dtype: int64"
      ]
     },
     "execution_count": 121,
     "metadata": {},
     "output_type": "execute_result"
    }
   ],
   "source": [
    "df['Date Last Updated'].value_counts()[:5]"
   ]
  },
  {
   "cell_type": "markdown",
   "metadata": {},
   "source": [
    "#### Add nans"
   ]
  },
  {
   "cell_type": "code",
   "execution_count": 122,
   "metadata": {
    "scrolled": true
   },
   "outputs": [],
   "source": [
    "# ASSUMPTION: missing values indicate 0\n",
    "df['Servant Quarters'] = np.where(df['Servant Quarters'] == '', np.nan, df['Servant Quarters'])"
   ]
  },
  {
   "cell_type": "code",
   "execution_count": 123,
   "metadata": {
    "scrolled": false
   },
   "outputs": [
    {
     "data": {
      "text/plain": [
       "Property ID                   0\n",
       "Purpose                       0\n",
       "Type                          0\n",
       "Title                         3\n",
       "Subtitle                      0\n",
       "Location                      0\n",
       "Area                          0\n",
       "Price                         0\n",
       "Beds                          0\n",
       "Baths                         0\n",
       "Year of Construction     438425\n",
       "Servant Quarters         445401\n",
       "Parking Spaces           431285\n",
       "Double Glazed Windows         0\n",
       "Central AC                    0\n",
       "Park                          0\n",
       "Jacuzzi                       0\n",
       "Agency                    55917\n",
       "Agent                     55920\n",
       "Titanium Agency?              0\n",
       "Agency Video                  0\n",
       "Number of Images              0\n",
       "Tour Video                    0\n",
       "Property Verified             0\n",
       "Date Scraped                  0\n",
       "URL                           0\n",
       "Added                         0\n",
       "weeks                    314975\n",
       "months                   387944\n",
       "years                    499481\n",
       "Added_td                      0\n",
       "Date Last Updated             0\n",
       "dtype: int64"
      ]
     },
     "execution_count": 123,
     "metadata": {},
     "output_type": "execute_result"
    }
   ],
   "source": [
    "df.isna().sum()"
   ]
  },
  {
   "cell_type": "code",
   "execution_count": 124,
   "metadata": {},
   "outputs": [],
   "source": [
    "df.drop(columns=['Added_td', 'years', 'months', 'weeks'], inplace=True)"
   ]
  },
  {
   "cell_type": "markdown",
   "metadata": {},
   "source": [
    "#### Title"
   ]
  },
  {
   "cell_type": "code",
   "execution_count": 126,
   "metadata": {},
   "outputs": [
    {
     "data": {
      "text/html": [
       "<div>\n",
       "<style scoped>\n",
       "    .dataframe tbody tr th:only-of-type {\n",
       "        vertical-align: middle;\n",
       "    }\n",
       "\n",
       "    .dataframe tbody tr th {\n",
       "        vertical-align: top;\n",
       "    }\n",
       "\n",
       "    .dataframe thead th {\n",
       "        text-align: right;\n",
       "    }\n",
       "</style>\n",
       "<table border=\"1\" class=\"dataframe\">\n",
       "  <thead>\n",
       "    <tr style=\"text-align: right;\">\n",
       "      <th></th>\n",
       "      <th>Property ID</th>\n",
       "      <th>Purpose</th>\n",
       "      <th>Type</th>\n",
       "      <th>Title</th>\n",
       "      <th>Subtitle</th>\n",
       "      <th>Location</th>\n",
       "      <th>Area</th>\n",
       "      <th>Price</th>\n",
       "      <th>Beds</th>\n",
       "      <th>Baths</th>\n",
       "      <th>Year of Construction</th>\n",
       "      <th>Servant Quarters</th>\n",
       "      <th>Parking Spaces</th>\n",
       "      <th>Double Glazed Windows</th>\n",
       "      <th>Central AC</th>\n",
       "      <th>Park</th>\n",
       "      <th>Jacuzzi</th>\n",
       "      <th>Agency</th>\n",
       "      <th>Agent</th>\n",
       "      <th>Titanium Agency?</th>\n",
       "      <th>Agency Video</th>\n",
       "      <th>Number of Images</th>\n",
       "      <th>Tour Video</th>\n",
       "      <th>Property Verified</th>\n",
       "      <th>Date Scraped</th>\n",
       "      <th>URL</th>\n",
       "      <th>Added</th>\n",
       "      <th>Date Last Updated</th>\n",
       "    </tr>\n",
       "  </thead>\n",
       "  <tbody>\n",
       "    <tr>\n",
       "      <th>30029</th>\n",
       "      <td>Residential Plot 23666223</td>\n",
       "      <td>For Sale</td>\n",
       "      <td>Residential Plot</td>\n",
       "      <td>None</td>\n",
       "      <td>E-12/1, E-12, Islamabad, Islamabad Capital</td>\n",
       "      <td>E-12, Islamabad, Islamabad Capital</td>\n",
       "      <td>4 Marla</td>\n",
       "      <td>65 Lakh</td>\n",
       "      <td>-</td>\n",
       "      <td>-</td>\n",
       "      <td>NaT</td>\n",
       "      <td>NaN</td>\n",
       "      <td>NaN</td>\n",
       "      <td>No</td>\n",
       "      <td>No</td>\n",
       "      <td>No</td>\n",
       "      <td>No</td>\n",
       "      <td>Dubai Estates &amp; Builder Pvt Ltd</td>\n",
       "      <td>Ch Waqas</td>\n",
       "      <td>False</td>\n",
       "      <td>False</td>\n",
       "      <td>0</td>\n",
       "      <td>False</td>\n",
       "      <td>False</td>\n",
       "      <td>2020-12-01</td>\n",
       "      <td>https://www.zameen.com/Property/e_12_e_12_1___-23666223-8177-2.html</td>\n",
       "      <td>5 months</td>\n",
       "      <td>2020-07-04</td>\n",
       "    </tr>\n",
       "    <tr>\n",
       "      <th>230453</th>\n",
       "      <td>Residential Plot 23666223</td>\n",
       "      <td>For Sale</td>\n",
       "      <td>Residential Plot</td>\n",
       "      <td>None</td>\n",
       "      <td>E-12/1, E-12, Islamabad, Islamabad Capital</td>\n",
       "      <td>E-12, Islamabad, Islamabad Capital</td>\n",
       "      <td>4 Marla</td>\n",
       "      <td>65 Lakh</td>\n",
       "      <td>-</td>\n",
       "      <td>-</td>\n",
       "      <td>NaT</td>\n",
       "      <td>NaN</td>\n",
       "      <td>NaN</td>\n",
       "      <td>No</td>\n",
       "      <td>No</td>\n",
       "      <td>No</td>\n",
       "      <td>No</td>\n",
       "      <td>Dubai Estates &amp; Builder Pvt Ltd</td>\n",
       "      <td>Ch Waqas</td>\n",
       "      <td>False</td>\n",
       "      <td>False</td>\n",
       "      <td>0</td>\n",
       "      <td>False</td>\n",
       "      <td>False</td>\n",
       "      <td>2020-12-15</td>\n",
       "      <td>https://www.zameen.com/Property/e_12_e_12_1___-23666223-8177-2.html</td>\n",
       "      <td>5 months</td>\n",
       "      <td>2020-07-18</td>\n",
       "    </tr>\n",
       "    <tr>\n",
       "      <th>393473</th>\n",
       "      <td>Residential Plot 23666223</td>\n",
       "      <td>For Sale</td>\n",
       "      <td>Residential Plot</td>\n",
       "      <td>None</td>\n",
       "      <td>E-12/1, E-12, Islamabad, Islamabad Capital</td>\n",
       "      <td>E-12, Islamabad, Islamabad Capital</td>\n",
       "      <td>4 Marla</td>\n",
       "      <td>65 Lakh</td>\n",
       "      <td>-</td>\n",
       "      <td>-</td>\n",
       "      <td>NaT</td>\n",
       "      <td>NaN</td>\n",
       "      <td>NaN</td>\n",
       "      <td>No</td>\n",
       "      <td>No</td>\n",
       "      <td>No</td>\n",
       "      <td>No</td>\n",
       "      <td>Dubai Estates &amp; Builder Pvt Ltd</td>\n",
       "      <td>Ch Waqas</td>\n",
       "      <td>False</td>\n",
       "      <td>False</td>\n",
       "      <td>0</td>\n",
       "      <td>False</td>\n",
       "      <td>False</td>\n",
       "      <td>2020-12-30</td>\n",
       "      <td>https://www.zameen.com/Property/e_12_e_12_1___-23666223-8177-2.html</td>\n",
       "      <td>6 months</td>\n",
       "      <td>2020-07-03</td>\n",
       "    </tr>\n",
       "  </tbody>\n",
       "</table>\n",
       "</div>"
      ],
      "text/plain": [
       "                      Property ID   Purpose              Type Title  \\\n",
       "30029   Residential Plot 23666223  For Sale  Residential Plot  None   \n",
       "230453  Residential Plot 23666223  For Sale  Residential Plot  None   \n",
       "393473  Residential Plot 23666223  For Sale  Residential Plot  None   \n",
       "\n",
       "                                          Subtitle  \\\n",
       "30029   E-12/1, E-12, Islamabad, Islamabad Capital   \n",
       "230453  E-12/1, E-12, Islamabad, Islamabad Capital   \n",
       "393473  E-12/1, E-12, Islamabad, Islamabad Capital   \n",
       "\n",
       "                                  Location     Area    Price Beds Baths  \\\n",
       "30029   E-12, Islamabad, Islamabad Capital  4 Marla  65 Lakh    -     -   \n",
       "230453  E-12, Islamabad, Islamabad Capital  4 Marla  65 Lakh    -     -   \n",
       "393473  E-12, Islamabad, Islamabad Capital  4 Marla  65 Lakh    -     -   \n",
       "\n",
       "       Year of Construction Servant Quarters Parking Spaces  \\\n",
       "30029                   NaT              NaN            NaN   \n",
       "230453                  NaT              NaN            NaN   \n",
       "393473                  NaT              NaN            NaN   \n",
       "\n",
       "       Double Glazed Windows Central AC Park Jacuzzi  \\\n",
       "30029                     No         No   No      No   \n",
       "230453                    No         No   No      No   \n",
       "393473                    No         No   No      No   \n",
       "\n",
       "                                 Agency     Agent Titanium Agency?  \\\n",
       "30029   Dubai Estates & Builder Pvt Ltd  Ch Waqas            False   \n",
       "230453  Dubai Estates & Builder Pvt Ltd  Ch Waqas            False   \n",
       "393473  Dubai Estates & Builder Pvt Ltd  Ch Waqas            False   \n",
       "\n",
       "       Agency Video Number of Images Tour Video Property Verified  \\\n",
       "30029         False                0      False             False   \n",
       "230453        False                0      False             False   \n",
       "393473        False                0      False             False   \n",
       "\n",
       "       Date Scraped  \\\n",
       "30029    2020-12-01   \n",
       "230453   2020-12-15   \n",
       "393473   2020-12-30   \n",
       "\n",
       "                                                                        URL  \\\n",
       "30029   https://www.zameen.com/Property/e_12_e_12_1___-23666223-8177-2.html   \n",
       "230453  https://www.zameen.com/Property/e_12_e_12_1___-23666223-8177-2.html   \n",
       "393473  https://www.zameen.com/Property/e_12_e_12_1___-23666223-8177-2.html   \n",
       "\n",
       "            Added Date Last Updated  \n",
       "30029   5 months         2020-07-04  \n",
       "230453  5 months         2020-07-18  \n",
       "393473  6 months         2020-07-03  "
      ]
     },
     "execution_count": 126,
     "metadata": {},
     "output_type": "execute_result"
    }
   ],
   "source": [
    "# plots\n",
    "df[df['Title'].isna()]"
   ]
  },
  {
   "cell_type": "code",
   "execution_count": 127,
   "metadata": {},
   "outputs": [],
   "source": [
    "df = df[~df['Title'].isna()].copy()"
   ]
  },
  {
   "cell_type": "markdown",
   "metadata": {},
   "source": [
    "#### Type"
   ]
  },
  {
   "cell_type": "code",
   "execution_count": 128,
   "metadata": {},
   "outputs": [
    {
     "data": {
      "text/plain": [
       "Residential Plot     0.439619\n",
       "House                0.284422\n",
       "Flat                 0.136718\n",
       "Upper Portion        0.051603\n",
       "Commercial Plot      0.034426\n",
       "Lower Portion        0.029376\n",
       "Plot File            0.014428\n",
       "Farm House           0.002561\n",
       "Industrial Land      0.001909\n",
       "Room                 0.001873\n",
       "Agricultural Land    0.001417\n",
       "Penthouse            0.001144\n",
       "Plot Form            0.000228\n",
       "Plot                 0.000148\n",
       "Home                 0.000128\n",
       "Name: Type, dtype: float64"
      ]
     },
     "execution_count": 128,
     "metadata": {},
     "output_type": "execute_result"
    }
   ],
   "source": [
    "df['Type'].value_counts(normalize=True)"
   ]
  },
  {
   "cell_type": "code",
   "execution_count": 129,
   "metadata": {},
   "outputs": [],
   "source": [
    "df['Type'] = np.where(df['Type'] == 'Home', 'House', df['Type'])"
   ]
  },
  {
   "cell_type": "markdown",
   "metadata": {},
   "source": [
    "#### Add Locality, City"
   ]
  },
  {
   "cell_type": "code",
   "execution_count": 130,
   "metadata": {},
   "outputs": [],
   "source": [
    "df['Locality'] = df['Location'].apply(lambda x: x.split(', ')[0])"
   ]
  },
  {
   "cell_type": "code",
   "execution_count": 131,
   "metadata": {},
   "outputs": [],
   "source": [
    "df['City'] = df['Location'].apply(lambda x: x.split(', ')[-2])"
   ]
  },
  {
   "cell_type": "markdown",
   "metadata": {},
   "source": [
    "#### Fix Area"
   ]
  },
  {
   "cell_type": "code",
   "execution_count": 132,
   "metadata": {
    "scrolled": true
   },
   "outputs": [],
   "source": [
    "df['Area_marlas'] = df['Area']"
   ]
  },
  {
   "cell_type": "code",
   "execution_count": 133,
   "metadata": {},
   "outputs": [],
   "source": [
    "df['marlas'] = np.where(df['Area'].str.contains('Marla'), df['Area'], np.nan)\n",
    "df['marlas'] = df['marlas'].str.replace(' Marla', '')\n",
    "df['marlas'] = df['marlas'].astype(float)"
   ]
  },
  {
   "cell_type": "code",
   "execution_count": 134,
   "metadata": {},
   "outputs": [
    {
     "data": {
      "text/plain": [
       "146176"
      ]
     },
     "execution_count": 134,
     "metadata": {},
     "output_type": "execute_result"
    }
   ],
   "source": [
    "df['marlas'].isna().sum()"
   ]
  },
  {
   "cell_type": "code",
   "execution_count": 135,
   "metadata": {},
   "outputs": [],
   "source": [
    "df['kanals'] = np.where(df['Area'].str.contains('Kanal'), df['Area'], np.nan)\n",
    "df['kanals'] = df['kanals'].str.replace(' Kanal', '').str.replace(',', '')\n",
    "df['kanals'] = df['kanals'].astype(float)\n",
    "df['kanals'] = df['kanals'].fillna(0)\n",
    "# 1 kanal = 20 marlas\n",
    "df['kanals'] = df['kanals']*20"
   ]
  },
  {
   "cell_type": "code",
   "execution_count": 136,
   "metadata": {},
   "outputs": [
    {
     "data": {
      "text/plain": [
       "146175"
      ]
     },
     "execution_count": 136,
     "metadata": {},
     "output_type": "execute_result"
    }
   ],
   "source": [
    "# check\n",
    "len(df[df['kanals'] > 0])"
   ]
  },
  {
   "cell_type": "code",
   "execution_count": 137,
   "metadata": {},
   "outputs": [],
   "source": [
    "df['Area_marlas'] = np.where(df['marlas'].isna(), df['kanals'], df['marlas'])"
   ]
  },
  {
   "cell_type": "code",
   "execution_count": 138,
   "metadata": {},
   "outputs": [
    {
     "data": {
      "text/plain": [
       "count    5.002040e+05\n",
       "mean     3.291099e+02\n",
       "std      4.934991e+04\n",
       "min      0.000000e+00\n",
       "25%      5.000000e+00\n",
       "50%      1.000000e+01\n",
       "75%      2.000000e+01\n",
       "max      9.544372e+06\n",
       "Name: Area_marlas, dtype: float64"
      ]
     },
     "execution_count": 138,
     "metadata": {},
     "output_type": "execute_result"
    }
   ],
   "source": [
    "df['Area_marlas'].describe()"
   ]
  },
  {
   "cell_type": "markdown",
   "metadata": {},
   "source": [
    "#### Price"
   ]
  },
  {
   "cell_type": "code",
   "execution_count": 139,
   "metadata": {},
   "outputs": [],
   "source": [
    "df['Price_rupees'] = df['Price']"
   ]
  },
  {
   "cell_type": "code",
   "execution_count": 140,
   "metadata": {},
   "outputs": [],
   "source": [
    "df['Price_rupees'] = df['Price_rupees'].str.replace(' Thousand', '000')"
   ]
  },
  {
   "cell_type": "code",
   "execution_count": 141,
   "metadata": {},
   "outputs": [],
   "source": [
    "df['lakhs'] = np.where(df['Price'].str.contains('Lakh'), df['Price'], np.nan)\n",
    "df['lakhs'] = df['lakhs'].str.replace(' Lakh', '')\n",
    "df['lakhs'] = df['lakhs'].astype(float)\n",
    "# 1 lakh = 100k\n",
    "df['lakhs'] = df['lakhs']*100e3\n",
    "df['lakhs'] = df['lakhs'].astype(str)"
   ]
  },
  {
   "cell_type": "code",
   "execution_count": 142,
   "metadata": {},
   "outputs": [],
   "source": [
    "df['crores'] = np.where(df['Price'].str.contains('Crore'), df['Price'], np.nan)\n",
    "df['crores'] = df['crores'].str.replace(' Crore', '')\n",
    "df['crores'] = df['crores'].astype(float)\n",
    "# 1 crore = 10 million\n",
    "df['crores'] = df['crores']*10e6\n",
    "df['crores'] = df['crores'].astype(str)"
   ]
  },
  {
   "cell_type": "code",
   "execution_count": 143,
   "metadata": {},
   "outputs": [],
   "source": [
    "df['arabs'] = np.where(df['Price'].str.contains('Arab'), df['Price'], np.nan)\n",
    "df['arabs'] = df['arabs'].str.replace(' Arab', '')\n",
    "df['arabs'] = df['arabs'].astype(float)\n",
    "# 1 arab = 1 billion\n",
    "df['arabs'] = df['arabs']*1e9\n",
    "df['arabs'] = df['arabs'].astype(str)"
   ]
  },
  {
   "cell_type": "code",
   "execution_count": 144,
   "metadata": {},
   "outputs": [],
   "source": [
    "df['Price_rupees'] = np.where(df['Price_rupees'].str.contains('Lakh'), df['lakhs'], df['Price_rupees'])\n",
    "df['Price_rupees'] = np.where(df['Price_rupees'].str.contains('Crore'), df['crores'], df['Price_rupees'])\n",
    "df['Price_rupees'] = np.where(df['Price_rupees'].str.contains('Arab'), df['arabs'], df['Price_rupees'])"
   ]
  },
  {
   "cell_type": "code",
   "execution_count": 145,
   "metadata": {},
   "outputs": [
    {
     "data": {
      "text/plain": [
       "0"
      ]
     },
     "execution_count": 145,
     "metadata": {},
     "output_type": "execute_result"
    }
   ],
   "source": [
    "# plots\n",
    "(df['Price_rupees'] == 'Contact for price').sum()"
   ]
  },
  {
   "cell_type": "code",
   "execution_count": 146,
   "metadata": {},
   "outputs": [
    {
     "data": {
      "text/html": [
       "<div>\n",
       "<style scoped>\n",
       "    .dataframe tbody tr th:only-of-type {\n",
       "        vertical-align: middle;\n",
       "    }\n",
       "\n",
       "    .dataframe tbody tr th {\n",
       "        vertical-align: top;\n",
       "    }\n",
       "\n",
       "    .dataframe thead th {\n",
       "        text-align: right;\n",
       "    }\n",
       "</style>\n",
       "<table border=\"1\" class=\"dataframe\">\n",
       "  <thead>\n",
       "    <tr style=\"text-align: right;\">\n",
       "      <th></th>\n",
       "      <th>Property ID</th>\n",
       "      <th>Purpose</th>\n",
       "      <th>Type</th>\n",
       "      <th>Title</th>\n",
       "      <th>Subtitle</th>\n",
       "      <th>Location</th>\n",
       "      <th>Area</th>\n",
       "      <th>Price</th>\n",
       "      <th>Beds</th>\n",
       "      <th>Baths</th>\n",
       "      <th>Year of Construction</th>\n",
       "      <th>Servant Quarters</th>\n",
       "      <th>Parking Spaces</th>\n",
       "      <th>Double Glazed Windows</th>\n",
       "      <th>Central AC</th>\n",
       "      <th>Park</th>\n",
       "      <th>Jacuzzi</th>\n",
       "      <th>Agency</th>\n",
       "      <th>Agent</th>\n",
       "      <th>Titanium Agency?</th>\n",
       "      <th>Agency Video</th>\n",
       "      <th>Number of Images</th>\n",
       "      <th>Tour Video</th>\n",
       "      <th>Property Verified</th>\n",
       "      <th>Date Scraped</th>\n",
       "      <th>URL</th>\n",
       "      <th>Added</th>\n",
       "      <th>Date Last Updated</th>\n",
       "      <th>Locality</th>\n",
       "      <th>City</th>\n",
       "      <th>Area_marlas</th>\n",
       "      <th>marlas</th>\n",
       "      <th>kanals</th>\n",
       "      <th>Price_rupees</th>\n",
       "      <th>lakhs</th>\n",
       "      <th>crores</th>\n",
       "      <th>arabs</th>\n",
       "    </tr>\n",
       "  </thead>\n",
       "  <tbody>\n",
       "  </tbody>\n",
       "</table>\n",
       "</div>"
      ],
      "text/plain": [
       "Empty DataFrame\n",
       "Columns: [Property ID, Purpose, Type, Title, Subtitle, Location, Area, Price, Beds, Baths, Year of Construction, Servant Quarters, Parking Spaces, Double Glazed Windows, Central AC, Park, Jacuzzi, Agency, Agent, Titanium Agency?, Agency Video, Number of Images, Tour Video, Property Verified, Date Scraped, URL, Added, Date Last Updated, Locality, City, Area_marlas, marlas, kanals, Price_rupees, lakhs, crores, arabs]\n",
       "Index: []"
      ]
     },
     "execution_count": 146,
     "metadata": {},
     "output_type": "execute_result"
    }
   ],
   "source": [
    "df[df['Price_rupees'] == 'Contact for price']"
   ]
  },
  {
   "cell_type": "code",
   "execution_count": 147,
   "metadata": {},
   "outputs": [],
   "source": [
    "# convert into nan, then drop them\n",
    "df['Price_rupees'] = np.where(df['Price_rupees'] == 'Contact for price', np.nan, df['Price_rupees'])"
   ]
  },
  {
   "cell_type": "code",
   "execution_count": 148,
   "metadata": {},
   "outputs": [],
   "source": [
    "df = df[~df['Price_rupees'].isna()].copy()"
   ]
  },
  {
   "cell_type": "code",
   "execution_count": 149,
   "metadata": {
    "scrolled": true
   },
   "outputs": [],
   "source": [
    "df['Price_rupees'] = df['Price_rupees'].astype(float).astype(int)"
   ]
  },
  {
   "cell_type": "code",
   "execution_count": 150,
   "metadata": {},
   "outputs": [
    {
     "data": {
      "text/plain": [
       "count    5.002040e+05\n",
       "mean     2.563661e+07\n",
       "std      2.455885e+08\n",
       "min      1.000000e+00\n",
       "25%      2.400000e+06\n",
       "50%      8.000000e+06\n",
       "75%      2.000000e+07\n",
       "max      4.668000e+10\n",
       "Name: Price_rupees, dtype: float64"
      ]
     },
     "execution_count": 150,
     "metadata": {},
     "output_type": "execute_result"
    }
   ],
   "source": [
    "df['Price_rupees'].describe()"
   ]
  },
  {
   "cell_type": "code",
   "execution_count": 71,
   "metadata": {},
   "outputs": [],
   "source": [
    "df = dff.copy()"
   ]
  },
  {
   "cell_type": "code",
   "execution_count": 72,
   "metadata": {},
   "outputs": [
    {
     "data": {
      "text/plain": [
       "(3331443, 39)"
      ]
     },
     "execution_count": 72,
     "metadata": {},
     "output_type": "execute_result"
    }
   ],
   "source": [
    "df.shape"
   ]
  },
  {
   "cell_type": "code",
   "execution_count": 87,
   "metadata": {},
   "outputs": [],
   "source": [
    "df['Price_rupees'] = df['Price_rupees'].astype(float)"
   ]
  },
  {
   "cell_type": "code",
   "execution_count": 88,
   "metadata": {
    "scrolled": true
   },
   "outputs": [],
   "source": [
    "df['Price_rupees_crores'] = df['Price_rupees']/1e7"
   ]
  },
  {
   "cell_type": "code",
   "execution_count": 89,
   "metadata": {},
   "outputs": [],
   "source": [
    "df['Price_rupees_lakhs'] = df['Price_rupees']/1e5"
   ]
  },
  {
   "cell_type": "code",
   "execution_count": 90,
   "metadata": {
    "scrolled": true
   },
   "outputs": [],
   "source": [
    "df['Price_per_marla'] = df['Price_rupees_lakhs'] / df['Area_marlas'].astype(float)"
   ]
  },
  {
   "cell_type": "code",
   "execution_count": 91,
   "metadata": {},
   "outputs": [
    {
     "data": {
      "text/html": [
       "<div>\n",
       "<style scoped>\n",
       "    .dataframe tbody tr th:only-of-type {\n",
       "        vertical-align: middle;\n",
       "    }\n",
       "\n",
       "    .dataframe tbody tr th {\n",
       "        vertical-align: top;\n",
       "    }\n",
       "\n",
       "    .dataframe thead th {\n",
       "        text-align: right;\n",
       "    }\n",
       "</style>\n",
       "<table border=\"1\" class=\"dataframe\">\n",
       "  <thead>\n",
       "    <tr style=\"text-align: right;\">\n",
       "      <th></th>\n",
       "      <th>Price_rupees</th>\n",
       "      <th>Price_rupees_crores</th>\n",
       "      <th>Price_rupees_lakhs</th>\n",
       "      <th>Price_per_marla</th>\n",
       "    </tr>\n",
       "  </thead>\n",
       "  <tbody>\n",
       "    <tr>\n",
       "      <th>count</th>\n",
       "      <td>3.331337e+06</td>\n",
       "      <td>3.331337e+06</td>\n",
       "      <td>3.331337e+06</td>\n",
       "      <td>3.331337e+06</td>\n",
       "    </tr>\n",
       "    <tr>\n",
       "      <th>mean</th>\n",
       "      <td>2.853339e+07</td>\n",
       "      <td>2.853339e+00</td>\n",
       "      <td>2.853339e+02</td>\n",
       "      <td>1.646272e+01</td>\n",
       "    </tr>\n",
       "    <tr>\n",
       "      <th>std</th>\n",
       "      <td>2.469382e+08</td>\n",
       "      <td>2.469382e+01</td>\n",
       "      <td>2.469382e+03</td>\n",
       "      <td>5.730560e+01</td>\n",
       "    </tr>\n",
       "    <tr>\n",
       "      <th>min</th>\n",
       "      <td>1.000000e+00</td>\n",
       "      <td>1.000000e-07</td>\n",
       "      <td>1.000000e-05</td>\n",
       "      <td>2.619345e-11</td>\n",
       "    </tr>\n",
       "    <tr>\n",
       "      <th>25%</th>\n",
       "      <td>2.100000e+06</td>\n",
       "      <td>2.100000e-01</td>\n",
       "      <td>2.100000e+01</td>\n",
       "      <td>2.750000e+00</td>\n",
       "    </tr>\n",
       "    <tr>\n",
       "      <th>50%</th>\n",
       "      <td>8.682000e+06</td>\n",
       "      <td>8.682000e-01</td>\n",
       "      <td>8.682000e+01</td>\n",
       "      <td>1.050000e+01</td>\n",
       "    </tr>\n",
       "    <tr>\n",
       "      <th>75%</th>\n",
       "      <td>2.250000e+07</td>\n",
       "      <td>2.250000e+00</td>\n",
       "      <td>2.250000e+02</td>\n",
       "      <td>2.280000e+01</td>\n",
       "    </tr>\n",
       "    <tr>\n",
       "      <th>max</th>\n",
       "      <td>4.668000e+10</td>\n",
       "      <td>4.668000e+03</td>\n",
       "      <td>4.668000e+05</td>\n",
       "      <td>9.336000e+04</td>\n",
       "    </tr>\n",
       "  </tbody>\n",
       "</table>\n",
       "</div>"
      ],
      "text/plain": [
       "       Price_rupees  Price_rupees_crores  Price_rupees_lakhs  Price_per_marla\n",
       "count  3.331337e+06         3.331337e+06        3.331337e+06     3.331337e+06\n",
       "mean   2.853339e+07         2.853339e+00        2.853339e+02     1.646272e+01\n",
       "std    2.469382e+08         2.469382e+01        2.469382e+03     5.730560e+01\n",
       "min    1.000000e+00         1.000000e-07        1.000000e-05     2.619345e-11\n",
       "25%    2.100000e+06         2.100000e-01        2.100000e+01     2.750000e+00\n",
       "50%    8.682000e+06         8.682000e-01        8.682000e+01     1.050000e+01\n",
       "75%    2.250000e+07         2.250000e+00        2.250000e+02     2.280000e+01\n",
       "max    4.668000e+10         4.668000e+03        4.668000e+05     9.336000e+04"
      ]
     },
     "execution_count": 91,
     "metadata": {},
     "output_type": "execute_result"
    }
   ],
   "source": [
    "df[['Price_rupees', 'Price_rupees_crores', 'Price_rupees_lakhs', 'Price_per_marla']].describe()"
   ]
  },
  {
   "cell_type": "code",
   "execution_count": 92,
   "metadata": {},
   "outputs": [],
   "source": [
    "if len(df[df['Price_per_marla'] == np.inf]) > 0:\n",
    "    df = df[df['Price_per_marla'] != np.inf].copy()"
   ]
  },
  {
   "cell_type": "markdown",
   "metadata": {},
   "source": [
    "#### Year of Construction --> Age"
   ]
  },
  {
   "cell_type": "code",
   "execution_count": 151,
   "metadata": {},
   "outputs": [],
   "source": [
    "df['Year of Construction'] = pd.to_datetime(df['Year of Construction'])"
   ]
  },
  {
   "cell_type": "code",
   "execution_count": 152,
   "metadata": {},
   "outputs": [
    {
     "data": {
      "text/plain": [
       "dtype('<M8[ns]')"
      ]
     },
     "execution_count": 152,
     "metadata": {},
     "output_type": "execute_result"
    }
   ],
   "source": [
    "df['Year of Construction'].dtype"
   ]
  },
  {
   "cell_type": "code",
   "execution_count": 153,
   "metadata": {},
   "outputs": [],
   "source": [
    "# now – year of property construction\n",
    "df['Age'] = np.datetime64('2021') -  df['Year of Construction']"
   ]
  },
  {
   "cell_type": "code",
   "execution_count": 154,
   "metadata": {},
   "outputs": [
    {
     "data": {
      "text/plain": [
       "dtype('<m8[ns]')"
      ]
     },
     "execution_count": 154,
     "metadata": {},
     "output_type": "execute_result"
    }
   ],
   "source": [
    "df['Age'].dtype"
   ]
  },
  {
   "cell_type": "code",
   "execution_count": 155,
   "metadata": {},
   "outputs": [],
   "source": [
    "# convert into years\n",
    "df['Age'] = df['Age'].apply(lambda x: x.days/365.25)"
   ]
  },
  {
   "cell_type": "code",
   "execution_count": 156,
   "metadata": {},
   "outputs": [],
   "source": [
    "df['Age'] = df['Age'].round(2).astype(float)"
   ]
  },
  {
   "cell_type": "code",
   "execution_count": 157,
   "metadata": {},
   "outputs": [
    {
     "data": {
      "text/plain": [
       "1.0     0.458677\n",
       "2.0     0.148975\n",
       "3.0     0.097941\n",
       "4.0     0.045758\n",
       "6.0     0.044155\n",
       "11.0    0.040157\n",
       "5.0     0.034962\n",
       "7.0     0.021867\n",
       "9.0     0.017675\n",
       "21.0    0.015684\n",
       "16.0    0.013143\n",
       "8.0     0.009954\n",
       "13.0    0.009048\n",
       "10.0    0.004985\n",
       "Name: Age, dtype: float64"
      ]
     },
     "execution_count": 157,
     "metadata": {},
     "output_type": "execute_result"
    }
   ],
   "source": [
    "df['Age'].value_counts(normalize=True)[:10]"
   ]
  },
  {
   "cell_type": "markdown",
   "metadata": {},
   "source": [
    "#### Add Freshness"
   ]
  },
  {
   "cell_type": "code",
   "execution_count": 158,
   "metadata": {},
   "outputs": [
    {
     "data": {
      "text/plain": [
       "2020-12-15    0.376442\n",
       "2020-12-01    0.343656\n",
       "2020-12-30    0.279902\n",
       "Name: Date Scraped, dtype: float64"
      ]
     },
     "execution_count": 158,
     "metadata": {},
     "output_type": "execute_result"
    }
   ],
   "source": [
    "df['Date Scraped'].value_counts(normalize=True)"
   ]
  },
  {
   "cell_type": "code",
   "execution_count": 159,
   "metadata": {},
   "outputs": [],
   "source": [
    "df['Date Scraped'] = df['Date Scraped'].astype('datetime64')\n",
    "df['Date Last Updated'] = df['Date Last Updated'].astype('datetime64')"
   ]
  },
  {
   "cell_type": "code",
   "execution_count": 160,
   "metadata": {},
   "outputs": [],
   "source": [
    "df['Freshness_days'] = df['Date Scraped'] - df['Date Last Updated']"
   ]
  },
  {
   "cell_type": "code",
   "execution_count": 161,
   "metadata": {},
   "outputs": [
    {
     "data": {
      "text/plain": [
       "14 days    0.128196\n",
       "7 days     0.115829\n",
       "0 days     0.110891\n",
       "21 days    0.078262\n",
       "30 days    0.073122\n",
       "60 days    0.066715\n",
       "3 days     0.055523\n",
       "4 days     0.053286\n",
       "2 days     0.049204\n",
       "1 days     0.048640\n",
       "Name: Freshness_days, dtype: float64"
      ]
     },
     "execution_count": 161,
     "metadata": {},
     "output_type": "execute_result"
    }
   ],
   "source": [
    "df['Freshness_days'].value_counts(normalize=True)[:10]"
   ]
  },
  {
   "cell_type": "code",
   "execution_count": 162,
   "metadata": {
    "scrolled": true
   },
   "outputs": [],
   "source": [
    "df['Freshness_days'] = df['Freshness_days'].apply(lambda x: x.days)"
   ]
  },
  {
   "cell_type": "code",
   "execution_count": 163,
   "metadata": {},
   "outputs": [
    {
     "data": {
      "text/plain": [
       "14    0.128196\n",
       "7     0.115829\n",
       "0     0.110891\n",
       "21    0.078262\n",
       "30    0.073122\n",
       "60    0.066715\n",
       "3     0.055523\n",
       "4     0.053286\n",
       "2     0.049204\n",
       "1     0.048640\n",
       "Name: Freshness_days, dtype: float64"
      ]
     },
     "execution_count": 163,
     "metadata": {},
     "output_type": "execute_result"
    }
   ],
   "source": [
    "df['Freshness_days'].value_counts(normalize=True)[:10]"
   ]
  },
  {
   "cell_type": "code",
   "execution_count": 164,
   "metadata": {},
   "outputs": [],
   "source": [
    "df['Fresh'] = (df['Freshness_days'] == 0) * 1"
   ]
  },
  {
   "cell_type": "code",
   "execution_count": 165,
   "metadata": {
    "scrolled": true
   },
   "outputs": [],
   "source": [
    "fresh_counts = df.groupby('Property ID')['Fresh'].sum().reset_index().sort_values(by='Fresh', ascending=False)"
   ]
  },
  {
   "cell_type": "code",
   "execution_count": 166,
   "metadata": {},
   "outputs": [
    {
     "data": {
      "text/html": [
       "<div>\n",
       "<style scoped>\n",
       "    .dataframe tbody tr th:only-of-type {\n",
       "        vertical-align: middle;\n",
       "    }\n",
       "\n",
       "    .dataframe tbody tr th {\n",
       "        vertical-align: top;\n",
       "    }\n",
       "\n",
       "    .dataframe thead th {\n",
       "        text-align: right;\n",
       "    }\n",
       "</style>\n",
       "<table border=\"1\" class=\"dataframe\">\n",
       "  <thead>\n",
       "    <tr style=\"text-align: right;\">\n",
       "      <th></th>\n",
       "      <th>Property ID</th>\n",
       "      <th>Fresh</th>\n",
       "    </tr>\n",
       "  </thead>\n",
       "  <tbody>\n",
       "    <tr>\n",
       "      <th>83551</th>\n",
       "      <td>House 25871083</td>\n",
       "      <td>3</td>\n",
       "    </tr>\n",
       "    <tr>\n",
       "      <th>92319</th>\n",
       "      <td>House 26207070</td>\n",
       "      <td>3</td>\n",
       "    </tr>\n",
       "    <tr>\n",
       "      <th>210612</th>\n",
       "      <td>Residential Plot 26375653</td>\n",
       "      <td>3</td>\n",
       "    </tr>\n",
       "    <tr>\n",
       "      <th>88539</th>\n",
       "      <td>House 26081909</td>\n",
       "      <td>3</td>\n",
       "    </tr>\n",
       "    <tr>\n",
       "      <th>71200</th>\n",
       "      <td>House 24999717</td>\n",
       "      <td>3</td>\n",
       "    </tr>\n",
       "  </tbody>\n",
       "</table>\n",
       "</div>"
      ],
      "text/plain": [
       "                      Property ID  Fresh\n",
       "83551              House 25871083      3\n",
       "92319              House 26207070      3\n",
       "210612  Residential Plot 26375653      3\n",
       "88539              House 26081909      3\n",
       "71200              House 24999717      3"
      ]
     },
     "execution_count": 166,
     "metadata": {},
     "output_type": "execute_result"
    }
   ],
   "source": [
    "fresh_counts[:5]"
   ]
  },
  {
   "cell_type": "code",
   "execution_count": 167,
   "metadata": {},
   "outputs": [],
   "source": [
    "# TODO: update according to data\n",
    "# fix bad values (probably due to non-standardized scrape times)\n",
    "# fresh_counts.iloc[0,1] = 8\n",
    "# fresh_counts.iloc[1,1] = 8\n",
    "# fresh_counts.iloc[2,1] = 8"
   ]
  },
  {
   "cell_type": "code",
   "execution_count": 168,
   "metadata": {},
   "outputs": [
    {
     "data": {
      "text/plain": [
       "3"
      ]
     },
     "execution_count": 168,
     "metadata": {},
     "output_type": "execute_result"
    }
   ],
   "source": [
    "df['Date Scraped'].nunique()"
   ]
  },
  {
   "cell_type": "code",
   "execution_count": 169,
   "metadata": {},
   "outputs": [],
   "source": [
    "fresh_counts['Prob_Fresh'] = fresh_counts['Fresh']/df['Date Scraped'].nunique()"
   ]
  },
  {
   "cell_type": "code",
   "execution_count": 170,
   "metadata": {},
   "outputs": [],
   "source": [
    "df = df.merge(fresh_counts[['Property ID', 'Prob_Fresh']], on='Property ID')"
   ]
  },
  {
   "cell_type": "code",
   "execution_count": 171,
   "metadata": {
    "scrolled": true
   },
   "outputs": [
    {
     "data": {
      "text/plain": [
       "0.0    424103\n",
       "0.3     71982\n",
       "0.7      3828\n",
       "1.0       291\n",
       "Name: Prob_Fresh, dtype: int64"
      ]
     },
     "execution_count": 171,
     "metadata": {},
     "output_type": "execute_result"
    }
   ],
   "source": [
    "df['Prob_Fresh'].round(1).value_counts()"
   ]
  },
  {
   "cell_type": "markdown",
   "metadata": {},
   "source": [
    "#### Fix Beds, Baths"
   ]
  },
  {
   "cell_type": "code",
   "execution_count": 172,
   "metadata": {},
   "outputs": [],
   "source": [
    "df['Beds'] = np.where(df['Beds'] == '-', np.nan, df['Beds'])\n",
    "df['Beds'] = df[df['Beds'].notna()]['Beds'].astype(float)"
   ]
  },
  {
   "cell_type": "code",
   "execution_count": 173,
   "metadata": {},
   "outputs": [],
   "source": [
    "df['Baths'] = np.where(df['Baths'] == '-', np.nan, df['Baths'])\n",
    "df['Baths'] = df[df['Baths'].notna()]['Baths'].astype(float)"
   ]
  },
  {
   "cell_type": "code",
   "execution_count": 175,
   "metadata": {},
   "outputs": [],
   "source": [
    "df = df[['Property ID', 'Purpose', 'Type', 'Title', 'Subtitle', 'Location',\n",
    "    'Area', 'Price', 'Beds', 'Baths', 'Year of Construction',\n",
    "    'Servant Quarters', 'Parking Spaces', 'Double Glazed Windows',\n",
    "    'Central AC', 'Park', 'Jacuzzi', 'Agency', 'Agent',\n",
    "    'Titanium Agency?', 'Agency Video', 'Number of Images', 'Tour Video',\n",
    "    'Property Verified', 'Date Scraped', 'URL', 'Added',\n",
    "    'Date Last Updated', 'Locality', 'City', 'Area_marlas', 'Price_rupees', \n",
    "    'Age', 'Freshness_days', 'Prob_Fresh']].copy()"
   ]
  },
  {
   "cell_type": "code",
   "execution_count": null,
   "metadata": {},
   "outputs": [],
   "source": []
  }
 ],
 "metadata": {
  "kernelspec": {
   "display_name": "Python 3",
   "language": "python",
   "name": "python3"
  },
  "language_info": {
   "codemirror_mode": {
    "name": "ipython",
    "version": 3
   },
   "file_extension": ".py",
   "mimetype": "text/x-python",
   "name": "python",
   "nbconvert_exporter": "python",
   "pygments_lexer": "ipython3",
   "version": "3.6.13"
  }
 },
 "nbformat": 4,
 "nbformat_minor": 4
}
