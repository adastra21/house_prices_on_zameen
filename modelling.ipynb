{
 "cells": [
  {
   "cell_type": "code",
   "execution_count": 1,
   "metadata": {},
   "outputs": [],
   "source": [
    "import numpy as np\n",
    "import pandas as pd\n",
    "\n",
    "import matplotlib.pylab as plt\n",
    "import seaborn as sns"
   ]
  },
  {
   "cell_type": "code",
   "execution_count": 2,
   "metadata": {
    "scrolled": true
   },
   "outputs": [],
   "source": [
    "df = pd.read_csv('data/zameen-dec2020-clean-deduped.csv', index_col=0, dtype=np.str)"
   ]
  },
  {
   "cell_type": "markdown",
   "metadata": {},
   "source": [
    "### Fix dtypes"
   ]
  },
  {
   "cell_type": "markdown",
   "metadata": {},
   "source": [
    "#### Remove missing values"
   ]
  },
  {
   "cell_type": "code",
   "execution_count": 3,
   "metadata": {
    "scrolled": false
   },
   "outputs": [
    {
     "data": {
      "text/plain": [
       "Purpose                        0\n",
       "Type                           0\n",
       "Title                          0\n",
       "Subtitle                       0\n",
       "Location                       0\n",
       "Area                           0\n",
       "Price                          0\n",
       "Beds                     1511304\n",
       "Baths                    1553344\n",
       "Year of Construction     2823905\n",
       "Servant Quarters         2883909\n",
       "Parking Spaces           2779888\n",
       "Double Glazed Windows          0\n",
       "Central AC                     0\n",
       "Park                           0\n",
       "Jacuzzi                        0\n",
       "Agency                    368360\n",
       "Agent                     368374\n",
       "Titanium Agency?               0\n",
       "Agency Video                   0\n",
       "Number of Images               0\n",
       "Tour Video                     0\n",
       "Property Verified              0\n",
       "Date Scraped                   0\n",
       "URL                            0\n",
       "Added                          0\n",
       "Date Last Updated              0\n",
       "Locality                       0\n",
       "City                           0\n",
       "Area_marlas                    0\n",
       "Price_rupees                   0\n",
       "Age                      2823905\n",
       "Freshness_days                 0\n",
       "Prob_Fresh                     0\n",
       "Price_rupees_crores            0\n",
       "Price_rupees_lakhs             0\n",
       "Price_per_marla                0\n",
       "Date Scraped_date              0\n",
       "dtype: int64"
      ]
     },
     "execution_count": 3,
     "metadata": {},
     "output_type": "execute_result"
    }
   ],
   "source": [
    "df.isna().sum()"
   ]
  },
  {
   "cell_type": "code",
   "execution_count": 4,
   "metadata": {},
   "outputs": [],
   "source": [
    "# remove listings w/o bed and baths\n",
    "# baths first, then beds\n",
    "df = df[~df['Baths'].isna()].copy()\n",
    "df = df[~df['Beds'].isna()].copy()"
   ]
  },
  {
   "cell_type": "code",
   "execution_count": 5,
   "metadata": {},
   "outputs": [
    {
     "data": {
      "text/plain": [
       "Purpose                  object\n",
       "Type                     object\n",
       "Title                    object\n",
       "Subtitle                 object\n",
       "Location                 object\n",
       "Area                     object\n",
       "Price                    object\n",
       "Beds                     object\n",
       "Baths                    object\n",
       "Year of Construction     object\n",
       "Servant Quarters         object\n",
       "Parking Spaces           object\n",
       "Double Glazed Windows    object\n",
       "Central AC               object\n",
       "Park                     object\n",
       "Jacuzzi                  object\n",
       "Agency                   object\n",
       "Agent                    object\n",
       "Titanium Agency?         object\n",
       "Agency Video             object\n",
       "Number of Images         object\n",
       "Tour Video               object\n",
       "Property Verified        object\n",
       "Date Scraped             object\n",
       "URL                      object\n",
       "Added                    object\n",
       "Date Last Updated        object\n",
       "Locality                 object\n",
       "City                     object\n",
       "Area_marlas              object\n",
       "Price_rupees             object\n",
       "Age                      object\n",
       "Freshness_days           object\n",
       "Prob_Fresh               object\n",
       "Price_rupees_crores      object\n",
       "Price_rupees_lakhs       object\n",
       "Price_per_marla          object\n",
       "Date Scraped_date        object\n",
       "dtype: object"
      ]
     },
     "execution_count": 5,
     "metadata": {},
     "output_type": "execute_result"
    }
   ],
   "source": [
    "df.dtypes"
   ]
  },
  {
   "cell_type": "code",
   "execution_count": 6,
   "metadata": {
    "scrolled": true
   },
   "outputs": [],
   "source": [
    "# fix datatypes\n",
    "df['Beds'] = df['Beds'].astype(str).str.replace('.0', '', regex=False).astype(int)\n",
    "df['Baths'] = df['Baths'].astype(str).str.replace('.0', '', regex=False).astype(int)\n",
    "\n",
    "df['Area_marlas'] = df['Area_marlas'].astype(float)\n",
    "df['Price_per_marla'] = df['Price_per_marla'].astype(float)\n",
    "df['Price_rupees_lakhs'] = df['Price_rupees_lakhs'].astype(float)\n",
    "\n",
    "df['Number of Images'] = df['Number of Images'].astype(int)\n",
    "\n",
    "df['Freshness_days'] = df['Freshness_days'].astype(int)\n",
    "df['Age'] = df['Age'].astype(float)\n",
    "df['Prob_Fresh'] = df['Prob_Fresh'].astype(float)\n",
    "\n",
    "df['Date Last Updated'] = pd.to_datetime(df['Date Last Updated'])"
   ]
  },
  {
   "cell_type": "markdown",
   "metadata": {},
   "source": [
    "### Filter to one day, sales, houses"
   ]
  },
  {
   "cell_type": "code",
   "execution_count": 7,
   "metadata": {},
   "outputs": [],
   "source": [
    "# 2020-12-08 has the most scrapes\n",
    "df = df[df['Date Scraped'] == '2020-12-08'].copy()"
   ]
  },
  {
   "cell_type": "code",
   "execution_count": 8,
   "metadata": {},
   "outputs": [
    {
     "data": {
      "text/plain": [
       "For Sale    0.551801\n",
       "For Rent    0.448199\n",
       "Name: Purpose, dtype: float64"
      ]
     },
     "execution_count": 8,
     "metadata": {},
     "output_type": "execute_result"
    }
   ],
   "source": [
    "df['Purpose'].value_counts(normalize=True)"
   ]
  },
  {
   "cell_type": "code",
   "execution_count": 9,
   "metadata": {},
   "outputs": [],
   "source": [
    "df = df[df['Purpose'] == 'For Sale'].copy()"
   ]
  },
  {
   "cell_type": "code",
   "execution_count": 10,
   "metadata": {
    "scrolled": true
   },
   "outputs": [
    {
     "data": {
      "text/plain": [
       "House                29004\n",
       "Flat                 11745\n",
       "Upper Portion          959\n",
       "Lower Portion          360\n",
       "Farm House             190\n",
       "Penthouse              122\n",
       "Residential Plot        12\n",
       "Plot File                7\n",
       "Commercial Plot          6\n",
       "Agricultural Land        1\n",
       "Room                     1\n",
       "Name: Type, dtype: int64"
      ]
     },
     "execution_count": 10,
     "metadata": {},
     "output_type": "execute_result"
    }
   ],
   "source": [
    "df['Type'].astype(str).value_counts()"
   ]
  },
  {
   "cell_type": "code",
   "execution_count": 11,
   "metadata": {},
   "outputs": [],
   "source": [
    "df = df[df['Type'].isin(['House'])].copy()"
   ]
  },
  {
   "cell_type": "code",
   "execution_count": 12,
   "metadata": {},
   "outputs": [
    {
     "data": {
      "text/plain": [
       "(29004, 38)"
      ]
     },
     "execution_count": 12,
     "metadata": {},
     "output_type": "execute_result"
    }
   ],
   "source": [
    "df.shape"
   ]
  },
  {
   "cell_type": "code",
   "execution_count": 13,
   "metadata": {},
   "outputs": [
    {
     "data": {
      "text/plain": [
       "Lahore       0.487278\n",
       "Karachi      0.268894\n",
       "Islamabad    0.243828\n",
       "Name: City, dtype: float64"
      ]
     },
     "execution_count": 13,
     "metadata": {},
     "output_type": "execute_result"
    }
   ],
   "source": [
    "df['City'].value_counts(normalize=True)"
   ]
  },
  {
   "cell_type": "code",
   "execution_count": 14,
   "metadata": {},
   "outputs": [],
   "source": [
    "df = df[df['City'].isin(['Lahore'])].copy()"
   ]
  },
  {
   "cell_type": "code",
   "execution_count": 15,
   "metadata": {},
   "outputs": [],
   "source": [
    "df.reset_index(inplace=True)"
   ]
  },
  {
   "cell_type": "code",
   "execution_count": 16,
   "metadata": {
    "scrolled": true
   },
   "outputs": [],
   "source": [
    "df1 = df[['Property ID', 'Type', 'Beds', 'Baths', 'Park', 'Jacuzzi', 'Servant Quarters', 'Parking Spaces', \n",
    "          'Double Glazed Windows','Central AC', 'Agency', 'Titanium Agency?', 'Agency Video', 'Number of Images', \n",
    "          'Tour Video','Property Verified', 'Locality', 'City', 'Area_marlas', 'Price_rupees_lakhs', \n",
    "          'Price_rupees_crores','Price_per_marla', 'Freshness_days', 'Age', 'Prob_Fresh', \n",
    "          'Date Last Updated']].copy()"
   ]
  },
  {
   "cell_type": "code",
   "execution_count": 17,
   "metadata": {},
   "outputs": [],
   "source": [
    "# fill agencies not listed\n",
    "df1['Agency'] = np.where(df1['Agency'].isna(), 'No Agency Listed', df1['Agency'])"
   ]
  },
  {
   "cell_type": "markdown",
   "metadata": {},
   "source": [
    "#### Remove price outliers"
   ]
  },
  {
   "cell_type": "code",
   "execution_count": 18,
   "metadata": {},
   "outputs": [],
   "source": [
    "df1['Price_rupees_crores'] = df1['Price_rupees_crores'].astype(float)"
   ]
  },
  {
   "cell_type": "code",
   "execution_count": 19,
   "metadata": {},
   "outputs": [
    {
     "data": {
      "text/plain": [
       "<AxesSubplot:>"
      ]
     },
     "execution_count": 19,
     "metadata": {},
     "output_type": "execute_result"
    },
    {
     "data": {
      "image/png": "[encoded data removed]",
      "text/plain": [
       "<Figure size 432x288 with 1 Axes>"
      ]
     },
     "metadata": {
      "needs_background": "light"
     },
     "output_type": "display_data"
    }
   ],
   "source": [
    "df['Price_per_marla'].hist()"
   ]
  },
  {
   "cell_type": "code",
   "execution_count": 20,
   "metadata": {},
   "outputs": [
    {
     "data": {
      "text/plain": [
       "<AxesSubplot:>"
      ]
     },
     "execution_count": 20,
     "metadata": {},
     "output_type": "execute_result"
    },
    {
     "data": {
      "image/png": "[encoded data removed]",
      "text/plain": [
       "<Figure size 432x288 with 1 Axes>"
      ]
     },
     "metadata": {
      "needs_background": "light"
     },
     "output_type": "display_data"
    }
   ],
   "source": [
    "df1[df1['Price_rupees_crores'] < 20]['Price_per_marla'].hist()"
   ]
  },
  {
   "cell_type": "code",
   "execution_count": 21,
   "metadata": {},
   "outputs": [
    {
     "data": {
      "text/plain": [
       "<AxesSubplot:>"
      ]
     },
     "execution_count": 21,
     "metadata": {},
     "output_type": "execute_result"
    },
    {
     "data": {
      "image/png": "[encoded data removed]",
      "text/plain": [
       "<Figure size 432x288 with 1 Axes>"
      ]
     },
     "metadata": {
      "needs_background": "light"
     },
     "output_type": "display_data"
    }
   ],
   "source": [
    "df1[df1['Price_rupees_crores'] > 20]['Price_per_marla'].hist()"
   ]
  },
  {
   "cell_type": "code",
   "execution_count": 22,
   "metadata": {},
   "outputs": [
    {
     "data": {
      "text/plain": [
       "count    14133.000000\n",
       "mean         3.355811\n",
       "std          4.197246\n",
       "min          0.006000\n",
       "25%          1.250000\n",
       "50%          2.250000\n",
       "75%          4.350000\n",
       "max        250.000000\n",
       "Name: Price_rupees_crores, dtype: float64"
      ]
     },
     "execution_count": 22,
     "metadata": {},
     "output_type": "execute_result"
    }
   ],
   "source": [
    "df1['Price_rupees_crores'].describe()"
   ]
  },
  {
   "cell_type": "code",
   "execution_count": 23,
   "metadata": {},
   "outputs": [
    {
     "data": {
      "text/plain": [
       "<AxesSubplot:>"
      ]
     },
     "execution_count": 23,
     "metadata": {},
     "output_type": "execute_result"
    },
    {
     "data": {
      "image/png": "[encoded data removed]",
      "text/plain": [
       "<Figure size 432x288 with 1 Axes>"
      ]
     },
     "metadata": {
      "needs_background": "light"
     },
     "output_type": "display_data"
    }
   ],
   "source": [
    "df1['Price_rupees_crores'].hist(range=(0,20))"
   ]
  },
  {
   "cell_type": "code",
   "execution_count": 24,
   "metadata": {},
   "outputs": [],
   "source": [
    "# q1 = df1['Price_rupees_crores'].quantile(q=0.25)\n",
    "# q3 = df1['Price_rupees_crores'].quantile(q=0.75)"
   ]
  },
  {
   "cell_type": "code",
   "execution_count": 25,
   "metadata": {},
   "outputs": [],
   "source": [
    "# df1.shape"
   ]
  },
  {
   "cell_type": "code",
   "execution_count": 26,
   "metadata": {
    "scrolled": true
   },
   "outputs": [],
   "source": [
    "# df1 = df1[(df1['Price_rupees_crores'] > q1) & (df1['Price_rupees_crores'] < q3)].copy()"
   ]
  },
  {
   "cell_type": "code",
   "execution_count": 27,
   "metadata": {},
   "outputs": [],
   "source": [
    "# df1.shape"
   ]
  },
  {
   "cell_type": "code",
   "execution_count": 28,
   "metadata": {
    "scrolled": true
   },
   "outputs": [
    {
     "data": {
      "text/plain": [
       "95"
      ]
     },
     "execution_count": 28,
     "metadata": {},
     "output_type": "execute_result"
    }
   ],
   "source": [
    "len(df1[df1['Price_rupees_crores'].astype(float) > 20])"
   ]
  },
  {
   "cell_type": "code",
   "execution_count": 29,
   "metadata": {
    "scrolled": true
   },
   "outputs": [],
   "source": [
    "# drop rows with outlier prices\n",
    "df1 = df1[df1['Price_rupees_crores'].astype(float) <= 20].copy()"
   ]
  },
  {
   "cell_type": "code",
   "execution_count": 31,
   "metadata": {},
   "outputs": [
    {
     "data": {
      "text/plain": [
       "(14038, 26)"
      ]
     },
     "execution_count": 31,
     "metadata": {},
     "output_type": "execute_result"
    }
   ],
   "source": [
    "df1.shape"
   ]
  },
  {
   "cell_type": "code",
   "execution_count": 32,
   "metadata": {},
   "outputs": [
    {
     "data": {
      "text/plain": [
       "14038"
      ]
     },
     "execution_count": 32,
     "metadata": {},
     "output_type": "execute_result"
    }
   ],
   "source": [
    "df1['Property ID'].nunique()"
   ]
  },
  {
   "cell_type": "markdown",
   "metadata": {},
   "source": [
    "### Convert into dummies"
   ]
  },
  {
   "cell_type": "code",
   "execution_count": 134,
   "metadata": {},
   "outputs": [
    {
     "data": {
      "text/plain": [
       "Index(['Property ID', 'Type', 'Beds', 'Baths', 'Park', 'Jacuzzi',\n",
       "       'Servant Quarters', 'Parking Spaces', 'Double Glazed Windows',\n",
       "       'Central AC', 'Agency', 'Titanium Agency?', 'Agency Video',\n",
       "       'Number of Images', 'Tour Video', 'Property Verified', 'Locality',\n",
       "       'City', 'Area_marlas', 'Price_rupees_lakhs', 'Price_rupees_crores',\n",
       "       'Price_per_marla', 'Freshness_days', 'Age', 'Prob_Fresh',\n",
       "       'Date Last Updated'],\n",
       "      dtype='object')"
      ]
     },
     "execution_count": 134,
     "metadata": {},
     "output_type": "execute_result"
    }
   ],
   "source": [
    "df1.columns"
   ]
  },
  {
   "cell_type": "code",
   "execution_count": 135,
   "metadata": {},
   "outputs": [],
   "source": [
    "df1 = pd.concat([df1, pd.get_dummies(df1['Type'])], axis=1)"
   ]
  },
  {
   "cell_type": "code",
   "execution_count": 136,
   "metadata": {},
   "outputs": [],
   "source": [
    "dummy_cols = ['Park', 'Jacuzzi', 'Double Glazed Windows', 'Central AC', 'Titanium Agency?', 'Agency Video', 'Tour Video', 'Property Verified']\n"
   ]
  },
  {
   "cell_type": "code",
   "execution_count": 137,
   "metadata": {},
   "outputs": [],
   "source": [
    "for dummy_col in dummy_cols:\n",
    "    df1[dummy_col] = df1[dummy_col] == 'Yes'\n",
    "    df1[dummy_col] = df1[dummy_col] * 1"
   ]
  },
  {
   "cell_type": "code",
   "execution_count": 138,
   "metadata": {},
   "outputs": [],
   "source": [
    "df1 = pd.concat([df1, pd.get_dummies(df1['City'])], axis=1)"
   ]
  },
  {
   "cell_type": "code",
   "execution_count": 139,
   "metadata": {
    "scrolled": true
   },
   "outputs": [],
   "source": [
    "df1['Age_group'] = pd.cut(df1['Age'].astype(float), bins=[-1,0,1,5,100], labels=['New', 'Less than 1 years old', \n",
    "                                                                           '1-5 years old', '5+ years old'])"
   ]
  },
  {
   "cell_type": "code",
   "execution_count": 140,
   "metadata": {},
   "outputs": [],
   "source": [
    "df1 = pd.concat([df1, pd.get_dummies(df1['Age_group'])], axis=1)"
   ]
  },
  {
   "cell_type": "code",
   "execution_count": 141,
   "metadata": {},
   "outputs": [],
   "source": [
    "df1['Images exist'] = np.where(df1['Number of Images'].astype(int) > 0, 1, 0)"
   ]
  },
  {
   "cell_type": "markdown",
   "metadata": {},
   "source": [
    "#### Freshness"
   ]
  },
  {
   "cell_type": "code",
   "execution_count": 142,
   "metadata": {},
   "outputs": [
    {
     "data": {
      "text/plain": [
       "0.0    0.528921\n",
       "0.1    0.331814\n",
       "0.2    0.083773\n",
       "0.3    0.031059\n",
       "0.4    0.013677\n",
       "0.5    0.007124\n",
       "0.6    0.002849\n",
       "0.7    0.000784\n",
       "Name: Prob_Fresh, dtype: float64"
      ]
     },
     "execution_count": 142,
     "metadata": {},
     "output_type": "execute_result"
    }
   ],
   "source": [
    "df1['Prob_Fresh'].astype(float).round(1).value_counts(normalize=True)"
   ]
  },
  {
   "cell_type": "markdown",
   "metadata": {},
   "source": [
    "### Impute missing values"
   ]
  },
  {
   "cell_type": "markdown",
   "metadata": {},
   "source": [
    "#### Age"
   ]
  },
  {
   "cell_type": "code",
   "execution_count": 143,
   "metadata": {},
   "outputs": [],
   "source": [
    "df1['Age_imputed'] = df1['Age'].astype('float').interpolate(method='values')"
   ]
  },
  {
   "cell_type": "code",
   "execution_count": 144,
   "metadata": {},
   "outputs": [
    {
     "data": {
      "text/plain": [
       "<AxesSubplot:>"
      ]
     },
     "execution_count": 144,
     "metadata": {},
     "output_type": "execute_result"
    },
    {
     "data": {
      "image/png": "[encoded data removed]",
      "text/plain": [
       "<Figure size 432x288 with 1 Axes>"
      ]
     },
     "metadata": {
      "needs_background": "light"
     },
     "output_type": "display_data"
    }
   ],
   "source": [
    "df1['Age_imputed'].hist()"
   ]
  },
  {
   "cell_type": "code",
   "execution_count": 145,
   "metadata": {},
   "outputs": [
    {
     "data": {
      "text/plain": [
       "0"
      ]
     },
     "execution_count": 145,
     "metadata": {},
     "output_type": "execute_result"
    }
   ],
   "source": [
    "df1['Age_imputed'].isna().sum()"
   ]
  },
  {
   "cell_type": "code",
   "execution_count": 146,
   "metadata": {
    "scrolled": true
   },
   "outputs": [],
   "source": [
    "# drop 9 rows that could not be imputed for age\n",
    "df1 = df1[~df1['Age_imputed'].isna()].copy()"
   ]
  },
  {
   "cell_type": "markdown",
   "metadata": {},
   "source": [
    "#### Servant quarters"
   ]
  },
  {
   "cell_type": "code",
   "execution_count": 147,
   "metadata": {},
   "outputs": [
    {
     "data": {
      "text/plain": [
       "0.645533551788004"
      ]
     },
     "execution_count": 147,
     "metadata": {},
     "output_type": "execute_result"
    }
   ],
   "source": [
    "df1['Servant Quarters'].isna().sum()/len(df1)"
   ]
  },
  {
   "cell_type": "code",
   "execution_count": 148,
   "metadata": {
    "scrolled": true
   },
   "outputs": [],
   "source": [
    "df1['Servant Quarters_imputed'] = df1['Servant Quarters'].astype(float).interpolate(method='values')"
   ]
  },
  {
   "cell_type": "code",
   "execution_count": 149,
   "metadata": {},
   "outputs": [
    {
     "data": {
      "text/plain": [
       "<AxesSubplot:>"
      ]
     },
     "execution_count": 149,
     "metadata": {},
     "output_type": "execute_result"
    },
    {
     "data": {
      "image/png": "[encoded data removed]",
      "text/plain": [
       "<Figure size 432x288 with 1 Axes>"
      ]
     },
     "metadata": {
      "needs_background": "light"
     },
     "output_type": "display_data"
    }
   ],
   "source": [
    "df1['Servant Quarters_imputed'].hist()"
   ]
  },
  {
   "cell_type": "code",
   "execution_count": 150,
   "metadata": {},
   "outputs": [
    {
     "data": {
      "text/plain": [
       "0"
      ]
     },
     "execution_count": 150,
     "metadata": {},
     "output_type": "execute_result"
    }
   ],
   "source": [
    "df1['Servant Quarters_imputed'].isna().sum()"
   ]
  },
  {
   "cell_type": "code",
   "execution_count": 151,
   "metadata": {},
   "outputs": [],
   "source": [
    "df1 = df1[~df1['Servant Quarters_imputed'].isna()].copy()"
   ]
  },
  {
   "cell_type": "markdown",
   "metadata": {},
   "source": [
    "#### Parking spaces"
   ]
  },
  {
   "cell_type": "code",
   "execution_count": 152,
   "metadata": {},
   "outputs": [
    {
     "data": {
      "text/plain": [
       "0.6392648525430973"
      ]
     },
     "execution_count": 152,
     "metadata": {},
     "output_type": "execute_result"
    }
   ],
   "source": [
    "df1['Parking Spaces'].isna().sum()/len(df1)"
   ]
  },
  {
   "cell_type": "code",
   "execution_count": 153,
   "metadata": {},
   "outputs": [],
   "source": [
    "df1['Parking Spaces_imputed'] = df1['Parking Spaces'].astype(float).interpolate(method='values')"
   ]
  },
  {
   "cell_type": "code",
   "execution_count": 154,
   "metadata": {},
   "outputs": [
    {
     "data": {
      "text/plain": [
       "<AxesSubplot:>"
      ]
     },
     "execution_count": 154,
     "metadata": {},
     "output_type": "execute_result"
    },
    {
     "data": {
      "image/png": "[encoded data removed]",
      "text/plain": [
       "<Figure size 432x288 with 1 Axes>"
      ]
     },
     "metadata": {
      "needs_background": "light"
     },
     "output_type": "display_data"
    }
   ],
   "source": [
    "df1['Parking Spaces_imputed'].hist()"
   ]
  },
  {
   "cell_type": "code",
   "execution_count": 155,
   "metadata": {},
   "outputs": [
    {
     "data": {
      "text/plain": [
       "0"
      ]
     },
     "execution_count": 155,
     "metadata": {},
     "output_type": "execute_result"
    }
   ],
   "source": [
    "df1['Parking Spaces_imputed'].isna().sum()"
   ]
  },
  {
   "cell_type": "code",
   "execution_count": 156,
   "metadata": {},
   "outputs": [],
   "source": [
    "df1 = df1[~df1['Parking Spaces_imputed'].isna()].copy()"
   ]
  },
  {
   "cell_type": "code",
   "execution_count": 157,
   "metadata": {
    "scrolled": true
   },
   "outputs": [],
   "source": [
    "df1.drop(columns=['Age', 'Servant Quarters', 'Parking Spaces'], inplace=True)"
   ]
  },
  {
   "cell_type": "code",
   "execution_count": 158,
   "metadata": {},
   "outputs": [
    {
     "data": {
      "text/plain": [
       "(14038, 34)"
      ]
     },
     "execution_count": 158,
     "metadata": {},
     "output_type": "execute_result"
    }
   ],
   "source": [
    "df1.shape"
   ]
  },
  {
   "cell_type": "markdown",
   "metadata": {},
   "source": [
    "#### Top agencies"
   ]
  },
  {
   "cell_type": "code",
   "execution_count": 159,
   "metadata": {
    "scrolled": true
   },
   "outputs": [
    {
     "name": "stderr",
     "output_type": "stream",
     "text": [
      "/Users/abdur_rehman/miniconda3/envs/ml/lib/python3.6/site-packages/ipykernel_launcher.py:1: FutureWarning: Indexing with multiple keys (implicitly converted to a tuple of keys) will be deprecated, use a list instead.\n",
      "  \"\"\"Entry point for launching an IPython kernel.\n"
     ]
    }
   ],
   "source": [
    "top_agencies = df1.groupby(['City', 'Agency', 'Titanium Agency?', 'Agency Video'])['Type', 'Price_rupees_crores', 'Freshness_days'].agg({'Type':'count', 'Price_rupees_crores':'mean', 'Freshness_days':'median'}).reset_index()\n",
    "\n"
   ]
  },
  {
   "cell_type": "code",
   "execution_count": 160,
   "metadata": {},
   "outputs": [],
   "source": [
    "top_agencies.rename(columns={'Type': 'Number of Properties', \n",
    "                             'Price_rupees_crores': 'Mean Property Price', \n",
    "                             'Freshness_days': 'Median Freshness'}, inplace=True)"
   ]
  },
  {
   "cell_type": "code",
   "execution_count": 161,
   "metadata": {},
   "outputs": [],
   "source": [
    "top_agencies = top_agencies[top_agencies['Number of Properties'] >= 50].copy()"
   ]
  },
  {
   "cell_type": "code",
   "execution_count": 162,
   "metadata": {
    "scrolled": true
   },
   "outputs": [],
   "source": [
    "top_agencies.sort_values(by=['City', 'Number of Properties', 'Mean Property Price', 'Median Freshness'], \n",
    "                         ascending=[True, False, False, True], inplace=True)\n"
   ]
  },
  {
   "cell_type": "code",
   "execution_count": 163,
   "metadata": {},
   "outputs": [],
   "source": [
    "top_agencies = top_agencies[top_agencies['Agency'] != 'No Agency Listed']"
   ]
  },
  {
   "cell_type": "code",
   "execution_count": 164,
   "metadata": {},
   "outputs": [],
   "source": [
    "top_agencies.reset_index(drop=True, inplace=True)"
   ]
  },
  {
   "cell_type": "code",
   "execution_count": 165,
   "metadata": {
    "scrolled": true
   },
   "outputs": [
    {
     "data": {
      "text/html": [
       "<div>\n",
       "<style scoped>\n",
       "    .dataframe tbody tr th:only-of-type {\n",
       "        vertical-align: middle;\n",
       "    }\n",
       "\n",
       "    .dataframe tbody tr th {\n",
       "        vertical-align: top;\n",
       "    }\n",
       "\n",
       "    .dataframe thead th {\n",
       "        text-align: right;\n",
       "    }\n",
       "</style>\n",
       "<table border=\"1\" class=\"dataframe\">\n",
       "  <thead>\n",
       "    <tr style=\"text-align: right;\">\n",
       "      <th></th>\n",
       "      <th>Titanium Agency?</th>\n",
       "      <th>Agency Video</th>\n",
       "      <th>Number of Properties</th>\n",
       "      <th>Mean Property Price</th>\n",
       "      <th>Median Freshness</th>\n",
       "    </tr>\n",
       "  </thead>\n",
       "  <tbody>\n",
       "    <tr>\n",
       "      <th>count</th>\n",
       "      <td>38.0</td>\n",
       "      <td>38.0</td>\n",
       "      <td>38.000000</td>\n",
       "      <td>38.000000</td>\n",
       "      <td>38.000000</td>\n",
       "    </tr>\n",
       "    <tr>\n",
       "      <th>mean</th>\n",
       "      <td>0.0</td>\n",
       "      <td>0.0</td>\n",
       "      <td>76.131579</td>\n",
       "      <td>4.332080</td>\n",
       "      <td>9.263158</td>\n",
       "    </tr>\n",
       "    <tr>\n",
       "      <th>std</th>\n",
       "      <td>0.0</td>\n",
       "      <td>0.0</td>\n",
       "      <td>26.484234</td>\n",
       "      <td>1.513818</td>\n",
       "      <td>11.325490</td>\n",
       "    </tr>\n",
       "    <tr>\n",
       "      <th>min</th>\n",
       "      <td>0.0</td>\n",
       "      <td>0.0</td>\n",
       "      <td>50.000000</td>\n",
       "      <td>0.517284</td>\n",
       "      <td>0.000000</td>\n",
       "    </tr>\n",
       "    <tr>\n",
       "      <th>25%</th>\n",
       "      <td>0.0</td>\n",
       "      <td>0.0</td>\n",
       "      <td>55.000000</td>\n",
       "      <td>3.089142</td>\n",
       "      <td>3.125000</td>\n",
       "    </tr>\n",
       "    <tr>\n",
       "      <th>50%</th>\n",
       "      <td>0.0</td>\n",
       "      <td>0.0</td>\n",
       "      <td>68.000000</td>\n",
       "      <td>4.642885</td>\n",
       "      <td>5.000000</td>\n",
       "    </tr>\n",
       "    <tr>\n",
       "      <th>75%</th>\n",
       "      <td>0.0</td>\n",
       "      <td>0.0</td>\n",
       "      <td>90.000000</td>\n",
       "      <td>5.421748</td>\n",
       "      <td>7.000000</td>\n",
       "    </tr>\n",
       "    <tr>\n",
       "      <th>max</th>\n",
       "      <td>0.0</td>\n",
       "      <td>0.0</td>\n",
       "      <td>142.000000</td>\n",
       "      <td>7.125882</td>\n",
       "      <td>60.000000</td>\n",
       "    </tr>\n",
       "  </tbody>\n",
       "</table>\n",
       "</div>"
      ],
      "text/plain": [
       "       Titanium Agency?  Agency Video  Number of Properties  \\\n",
       "count              38.0          38.0             38.000000   \n",
       "mean                0.0           0.0             76.131579   \n",
       "std                 0.0           0.0             26.484234   \n",
       "min                 0.0           0.0             50.000000   \n",
       "25%                 0.0           0.0             55.000000   \n",
       "50%                 0.0           0.0             68.000000   \n",
       "75%                 0.0           0.0             90.000000   \n",
       "max                 0.0           0.0            142.000000   \n",
       "\n",
       "       Mean Property Price  Median Freshness  \n",
       "count            38.000000         38.000000  \n",
       "mean              4.332080          9.263158  \n",
       "std               1.513818         11.325490  \n",
       "min               0.517284          0.000000  \n",
       "25%               3.089142          3.125000  \n",
       "50%               4.642885          5.000000  \n",
       "75%               5.421748          7.000000  \n",
       "max               7.125882         60.000000  "
      ]
     },
     "execution_count": 165,
     "metadata": {},
     "output_type": "execute_result"
    }
   ],
   "source": [
    "top_agencies.describe()"
   ]
  },
  {
   "cell_type": "code",
   "execution_count": 166,
   "metadata": {},
   "outputs": [],
   "source": [
    "top_agencies = top_agencies.groupby('City').head(1)"
   ]
  },
  {
   "cell_type": "code",
   "execution_count": 167,
   "metadata": {},
   "outputs": [],
   "source": [
    "top_agencies = top_agencies['Agency'].tolist()"
   ]
  },
  {
   "cell_type": "code",
   "execution_count": 168,
   "metadata": {},
   "outputs": [
    {
     "data": {
      "text/plain": [
       "['Leads Estates']"
      ]
     },
     "execution_count": 168,
     "metadata": {},
     "output_type": "execute_result"
    }
   ],
   "source": [
    "top_agencies"
   ]
  },
  {
   "cell_type": "code",
   "execution_count": 169,
   "metadata": {},
   "outputs": [],
   "source": [
    "df_agencies = df1[df1['Agency'].isin(top_agencies)]"
   ]
  },
  {
   "cell_type": "code",
   "execution_count": 170,
   "metadata": {},
   "outputs": [],
   "source": [
    "df1 = pd.concat([df1, pd.get_dummies(df_agencies['Agency'])], axis=1)"
   ]
  },
  {
   "cell_type": "code",
   "execution_count": 171,
   "metadata": {},
   "outputs": [],
   "source": [
    "# fill na's with 0 for the recently added agency cols\n",
    "df1.iloc[:,-3:] = df1.iloc[:,-3:].fillna(0)"
   ]
  },
  {
   "cell_type": "code",
   "execution_count": 172,
   "metadata": {},
   "outputs": [],
   "source": [
    "pd.set_option('display.max_columns', None)"
   ]
  },
  {
   "cell_type": "markdown",
   "metadata": {},
   "source": [
    "#### Top localities"
   ]
  },
  {
   "cell_type": "code",
   "execution_count": 173,
   "metadata": {
    "scrolled": false
   },
   "outputs": [
    {
     "name": "stderr",
     "output_type": "stream",
     "text": [
      "/Users/abdur_rehman/miniconda3/envs/ml/lib/python3.6/site-packages/ipykernel_launcher.py:1: FutureWarning: Indexing with multiple keys (implicitly converted to a tuple of keys) will be deprecated, use a list instead.\n",
      "  \"\"\"Entry point for launching an IPython kernel.\n"
     ]
    }
   ],
   "source": [
    "price_loc = df1.groupby(['City', 'Locality'])['Price_rupees_crores', 'Property ID'].agg({'Price_rupees_crores': 'mean', 'Property ID': 'count'}).reset_index()\n",
    "\n"
   ]
  },
  {
   "cell_type": "code",
   "execution_count": 174,
   "metadata": {},
   "outputs": [],
   "source": [
    "price_loc.columns = ['City', 'Locality', 'Mean Price per Property', 'Number of Properties']"
   ]
  },
  {
   "cell_type": "code",
   "execution_count": 175,
   "metadata": {},
   "outputs": [],
   "source": [
    "price_loc = price_loc[price_loc['Number of Properties'] > 100].copy()"
   ]
  },
  {
   "cell_type": "code",
   "execution_count": 176,
   "metadata": {
    "scrolled": true
   },
   "outputs": [],
   "source": [
    "price_loc.sort_values(by=['City', 'Number of Properties', 'Mean Price per Property'], ascending=[True, False, False], inplace=True)"
   ]
  },
  {
   "cell_type": "code",
   "execution_count": 177,
   "metadata": {},
   "outputs": [],
   "source": [
    "pd.set_option('min_rows', 100)"
   ]
  },
  {
   "cell_type": "code",
   "execution_count": 178,
   "metadata": {
    "scrolled": false
   },
   "outputs": [],
   "source": [
    "# just Defence\n",
    "price_loc = price_loc.groupby('City').head(3)"
   ]
  },
  {
   "cell_type": "code",
   "execution_count": 179,
   "metadata": {},
   "outputs": [],
   "source": [
    "price_loc.reset_index(drop=True, inplace=True)"
   ]
  },
  {
   "cell_type": "code",
   "execution_count": 180,
   "metadata": {
    "scrolled": true
   },
   "outputs": [
    {
     "data": {
      "text/html": [
       "<div>\n",
       "<style scoped>\n",
       "    .dataframe tbody tr th:only-of-type {\n",
       "        vertical-align: middle;\n",
       "    }\n",
       "\n",
       "    .dataframe tbody tr th {\n",
       "        vertical-align: top;\n",
       "    }\n",
       "\n",
       "    .dataframe thead th {\n",
       "        text-align: right;\n",
       "    }\n",
       "</style>\n",
       "<table border=\"1\" class=\"dataframe\">\n",
       "  <thead>\n",
       "    <tr style=\"text-align: right;\">\n",
       "      <th></th>\n",
       "      <th>City</th>\n",
       "      <th>Locality</th>\n",
       "      <th>Mean Price per Property</th>\n",
       "      <th>Number of Properties</th>\n",
       "    </tr>\n",
       "  </thead>\n",
       "  <tbody>\n",
       "    <tr>\n",
       "      <th>0</th>\n",
       "      <td>Lahore</td>\n",
       "      <td>DHA Defence</td>\n",
       "      <td>5.330061</td>\n",
       "      <td>3933</td>\n",
       "    </tr>\n",
       "    <tr>\n",
       "      <th>1</th>\n",
       "      <td>Lahore</td>\n",
       "      <td>Bahria Town</td>\n",
       "      <td>2.419871</td>\n",
       "      <td>1245</td>\n",
       "    </tr>\n",
       "    <tr>\n",
       "      <th>2</th>\n",
       "      <td>Lahore</td>\n",
       "      <td>Johar Town</td>\n",
       "      <td>2.258521</td>\n",
       "      <td>764</td>\n",
       "    </tr>\n",
       "  </tbody>\n",
       "</table>\n",
       "</div>"
      ],
      "text/plain": [
       "     City     Locality  Mean Price per Property  Number of Properties\n",
       "0  Lahore  DHA Defence                 5.330061                  3933\n",
       "1  Lahore  Bahria Town                 2.419871                  1245\n",
       "2  Lahore   Johar Town                 2.258521                   764"
      ]
     },
     "execution_count": 180,
     "metadata": {},
     "output_type": "execute_result"
    }
   ],
   "source": [
    "price_loc"
   ]
  },
  {
   "cell_type": "code",
   "execution_count": 181,
   "metadata": {
    "scrolled": false
   },
   "outputs": [
    {
     "data": {
      "image/png": "[encoded data removed]",
      "text/plain": [
       "<Figure size 432x432 with 1 Axes>"
      ]
     },
     "metadata": {
      "needs_background": "light"
     },
     "output_type": "display_data"
    }
   ],
   "source": [
    "plt.figure(figsize=(6,6))\n",
    "sns.barplot(x='Locality', y='Mean Price per Property', data=price_loc, hue='City', palette='tab10')\n",
    "plt.legend(loc='upper right')\n",
    "plt.tick_params(axis='x', which='major', labelsize=10)\n",
    "plt.xticks(rotation=45)\n",
    "plt.xlabel('')\n",
    "plt.ylabel('Mean Price per Property in Crores')\n",
    "plt.title('Top Localities by City')\n",
    "plt.show()"
   ]
  },
  {
   "cell_type": "code",
   "execution_count": 182,
   "metadata": {},
   "outputs": [],
   "source": [
    "df1['DHA Defence'] = np.where(df1['Locality'] == 'DHA Defence', 1, 0)"
   ]
  },
  {
   "cell_type": "code",
   "execution_count": 183,
   "metadata": {},
   "outputs": [],
   "source": [
    "# df1.drop(columns=['Age_group', 'New', 'Less than 1 years old', '1-5 years old', '5+ years old'], inplace=True)"
   ]
  },
  {
   "cell_type": "markdown",
   "metadata": {},
   "source": [
    "### Checks"
   ]
  },
  {
   "cell_type": "code",
   "execution_count": 184,
   "metadata": {},
   "outputs": [],
   "source": [
    "from pandas.plotting import scatter_matrix"
   ]
  },
  {
   "cell_type": "markdown",
   "metadata": {},
   "source": [
    "#### Distributions"
   ]
  },
  {
   "cell_type": "code",
   "execution_count": 185,
   "metadata": {
    "scrolled": false
   },
   "outputs": [
    {
     "data": {
      "image/png": "[encoded data removed]",
      "text/plain": [
       "<Figure size 864x864 with 30 Axes>"
      ]
     },
     "metadata": {
      "needs_background": "light"
     },
     "output_type": "display_data"
    }
   ],
   "source": [
    "df1.hist(figsize=(12,12))\n",
    "plt.show()"
   ]
  },
  {
   "cell_type": "markdown",
   "metadata": {},
   "source": [
    "#### Multicollinearity"
   ]
  },
  {
   "cell_type": "code",
   "execution_count": 186,
   "metadata": {},
   "outputs": [
    {
     "data": {
      "text/plain": [
       "Baths                       0.549198\n",
       "Beds                        0.526621\n",
       "Price_per_marla             0.496451\n",
       "DHA Defence                 0.456378\n",
       "Area_marlas                 0.396445\n",
       "Parking Spaces_imputed      0.323737\n",
       "Central AC                  0.268324\n",
       "Double Glazed Windows       0.258140\n",
       "Number of Images            0.257779\n",
       "Servant Quarters_imputed    0.234787\n",
       "Park                        0.189887\n",
       "New                         0.157483\n",
       "Prob_Fresh                  0.100555\n",
       "Leads Estates               0.061405\n",
       "Jacuzzi                     0.054852\n",
       "Images exist                0.054169\n",
       "5+ years old                0.049111\n",
       "Less than 1 years old       0.036977\n",
       "1-5 years old               0.006811\n",
       "Age_imputed                -0.006139\n",
       "Freshness_days             -0.019400\n",
       "Property ID                -0.029340\n",
       "Titanium Agency?                 NaN\n",
       "Agency Video                     NaN\n",
       "Tour Video                       NaN\n",
       "Property Verified                NaN\n",
       "House                            NaN\n",
       "Lahore                           NaN\n",
       "Name: Price_rupees_crores, dtype: float64"
      ]
     },
     "execution_count": 186,
     "metadata": {},
     "output_type": "execute_result"
    }
   ],
   "source": [
    "df1.corr()['Price_rupees_crores'].sort_values(ascending=False)[2:]"
   ]
  },
  {
   "cell_type": "code",
   "execution_count": 187,
   "metadata": {},
   "outputs": [
    {
     "data": {
      "text/plain": [
       "<AxesSubplot:>"
      ]
     },
     "execution_count": 187,
     "metadata": {},
     "output_type": "execute_result"
    },
    {
     "data": {
      "image/png": "[encoded data removed]",
      "text/plain": [
       "<Figure size 864x864 with 2 Axes>"
      ]
     },
     "metadata": {
      "needs_background": "light"
     },
     "output_type": "display_data"
    }
   ],
   "source": [
    "plt.figure(figsize=(12,12))\n",
    "sns.heatmap(df1.corr(), linewidth=0.05, cmap='Reds')"
   ]
  },
  {
   "cell_type": "markdown",
   "metadata": {},
   "source": [
    "#### Dependent variable"
   ]
  },
  {
   "cell_type": "code",
   "execution_count": 188,
   "metadata": {},
   "outputs": [
    {
     "data": {
      "text/plain": [
       "count    14038.000000\n",
       "mean         3.171244\n",
       "std          2.951209\n",
       "min          0.006000\n",
       "25%          1.250000\n",
       "50%          2.250000\n",
       "75%          4.300000\n",
       "max         20.000000\n",
       "Name: Price_rupees_crores, dtype: float64"
      ]
     },
     "execution_count": 188,
     "metadata": {},
     "output_type": "execute_result"
    }
   ],
   "source": [
    "df1['Price_rupees_crores'].describe()"
   ]
  },
  {
   "cell_type": "code",
   "execution_count": 189,
   "metadata": {},
   "outputs": [
    {
     "data": {
      "text/plain": [
       "<seaborn.axisgrid.FacetGrid at 0x1a3217c9e8>"
      ]
     },
     "execution_count": 189,
     "metadata": {},
     "output_type": "execute_result"
    },
    {
     "data": {
      "image/png": "[encoded data removed]",
      "text/plain": [
       "<Figure size 360x360 with 1 Axes>"
      ]
     },
     "metadata": {
      "needs_background": "light"
     },
     "output_type": "display_data"
    }
   ],
   "source": [
    "sns.displot(x='Price_rupees_crores', data=df1)"
   ]
  },
  {
   "cell_type": "markdown",
   "metadata": {},
   "source": [
    "### Modelling"
   ]
  },
  {
   "cell_type": "code",
   "execution_count": 190,
   "metadata": {},
   "outputs": [],
   "source": [
    "import statsmodels.api as sm\n",
    "from sklearn.model_selection import train_test_split\n",
    "from sklearn.linear_model import LinearRegression, Ridge"
   ]
  },
  {
   "cell_type": "code",
   "execution_count": 191,
   "metadata": {},
   "outputs": [],
   "source": [
    "y = df1['Price_rupees_crores'].values"
   ]
  },
  {
   "cell_type": "code",
   "execution_count": 192,
   "metadata": {},
   "outputs": [
    {
     "data": {
      "text/plain": [
       "array([1.45, 1.35, 5.65, ..., 5.25, 1.7 , 1.85])"
      ]
     },
     "execution_count": 192,
     "metadata": {},
     "output_type": "execute_result"
    }
   ],
   "source": [
    "y"
   ]
  },
  {
   "cell_type": "code",
   "execution_count": 193,
   "metadata": {},
   "outputs": [
    {
     "data": {
      "text/plain": [
       "Index(['Property ID', 'Type', 'Beds', 'Baths', 'Park', 'Jacuzzi',\n",
       "       'Double Glazed Windows', 'Central AC', 'Agency', 'Titanium Agency?',\n",
       "       'Agency Video', 'Number of Images', 'Tour Video', 'Property Verified',\n",
       "       'Locality', 'City', 'Area_marlas', 'Price_rupees_lakhs',\n",
       "       'Price_rupees_crores', 'Price_per_marla', 'Freshness_days',\n",
       "       'Prob_Fresh', 'Date Last Updated', 'House', 'Lahore', 'Age_group',\n",
       "       'New', 'Less than 1 years old', '1-5 years old', '5+ years old',\n",
       "       'Images exist', 'Age_imputed', 'Servant Quarters_imputed',\n",
       "       'Parking Spaces_imputed', 'Leads Estates', 'DHA Defence'],\n",
       "      dtype='object')"
      ]
     },
     "execution_count": 193,
     "metadata": {},
     "output_type": "execute_result"
    }
   ],
   "source": [
    "df1.columns"
   ]
  },
  {
   "cell_type": "code",
   "execution_count": 194,
   "metadata": {
    "scrolled": true
   },
   "outputs": [],
   "source": [
    "cols = [\n",
    "# fundamentals\n",
    "         'Beds', 'Baths', 'Area_marlas',\n",
    "# amenities\n",
    "    'Servant Quarters_imputed', \n",
    "    'Parking Spaces_imputed', \n",
    "    'Age_imputed', \n",
    "#     'New',\n",
    "# location\n",
    "#         'Islamabad', 'Karachi',\n",
    "# locality\n",
    "         'DHA Defence',\n",
    "# description\n",
    "         'Park', \n",
    "#     'Jacuzzi', \n",
    "#     'Double Glazed Windows', \n",
    "#     'Central AC',\n",
    "# agency\n",
    "# 'Grace Associates', 'Property Inn (PVT) Limited'\n",
    "# platform – agency\n",
    "#          'Titanium Agency?', 'Agency Video',\n",
    "# platform – listing\n",
    "#          'Images exist', \n",
    "#     'Number of Images',\n",
    "#     'Tour Video',\n",
    "# platform – activity\n",
    "#          'Freshness_days'\n",
    "]"
   ]
  },
  {
   "cell_type": "code",
   "execution_count": 195,
   "metadata": {
    "scrolled": true
   },
   "outputs": [],
   "source": [
    "X = df1[cols].values"
   ]
  },
  {
   "cell_type": "code",
   "execution_count": 196,
   "metadata": {},
   "outputs": [
    {
     "data": {
      "text/plain": [
       "array([[ 3.,  4.,  5., ...,  0.,  0.,  0.],\n",
       "       [ 3.,  3.,  5., ...,  0.,  0.,  0.],\n",
       "       [ 5.,  6., 20., ...,  0.,  1.,  0.],\n",
       "       ...,\n",
       "       [ 5.,  6., 20., ...,  0.,  1.,  0.],\n",
       "       [ 5.,  6., 10., ...,  0.,  0.,  0.],\n",
       "       [ 5.,  6., 10., ...,  0.,  0.,  0.]])"
      ]
     },
     "execution_count": 196,
     "metadata": {},
     "output_type": "execute_result"
    }
   ],
   "source": [
    "X"
   ]
  },
  {
   "cell_type": "code",
   "execution_count": 197,
   "metadata": {},
   "outputs": [],
   "source": [
    "X_train, X_test, y_train, y_test = train_test_split(X, y, test_size=0.4, random_state=786)"
   ]
  },
  {
   "cell_type": "code",
   "execution_count": 198,
   "metadata": {},
   "outputs": [
    {
     "data": {
      "text/plain": [
       "((8422, 8), (5616, 8))"
      ]
     },
     "execution_count": 198,
     "metadata": {},
     "output_type": "execute_result"
    }
   ],
   "source": [
    "X_train.shape, X_test.shape"
   ]
  },
  {
   "cell_type": "code",
   "execution_count": 199,
   "metadata": {},
   "outputs": [
    {
     "data": {
      "text/plain": [
       "((8422,), (5616,))"
      ]
     },
     "execution_count": 199,
     "metadata": {},
     "output_type": "execute_result"
    }
   ],
   "source": [
    "y_train.shape, y_test.shape"
   ]
  },
  {
   "cell_type": "markdown",
   "metadata": {},
   "source": [
    "##### sklearn – linear regression"
   ]
  },
  {
   "cell_type": "code",
   "execution_count": 200,
   "metadata": {},
   "outputs": [],
   "source": [
    "from sklearn.linear_model import LinearRegression\n",
    "from sklearn.metrics import mean_squared_error"
   ]
  },
  {
   "cell_type": "code",
   "execution_count": 201,
   "metadata": {},
   "outputs": [
    {
     "name": "stdout",
     "output_type": "stream",
     "text": [
      "0.34218981527158654\n"
     ]
    }
   ],
   "source": [
    "lreg0 = LinearRegression(fit_intercept=True)\n",
    "lreg0 = lreg0.fit(X_train, y_train)\n",
    "\n",
    "# same as statsmodels\n",
    "# print(lreg0.intercept_)\n",
    "\n",
    "# same as statsmodels\n",
    "# print(lreg0.coef_)\n",
    "\n",
    "print(lreg0.score(X_test, y_test))"
   ]
  },
  {
   "cell_type": "code",
   "execution_count": 202,
   "metadata": {
    "scrolled": true
   },
   "outputs": [
    {
     "name": "stdout",
     "output_type": "stream",
     "text": [
      "5.884719637301706 2.4258441082026905\n"
     ]
    }
   ],
   "source": [
    "y_preds = lreg0.predict(X_test)\n",
    "mse = mean_squared_error(y_test, y_preds)\n",
    "rmse = np.sqrt(mse)\n",
    "print(mse, rmse)"
   ]
  },
  {
   "cell_type": "code",
   "execution_count": 203,
   "metadata": {},
   "outputs": [],
   "source": [
    "# results_coeffs = pd.concat([pd.Series(np.array(cols)), pd.Series(lreg0.coef_)], axis=1)\n",
    "# results_coeffs.rename(columns={0:'Feature', 1:'Importance'}, inplace=True)\n",
    "# results_coeffs = results_coeffs.sort_values(by='Importance', ascending=False)"
   ]
  },
  {
   "cell_type": "markdown",
   "metadata": {},
   "source": [
    "##### statsmodels – linear regression"
   ]
  },
  {
   "cell_type": "code",
   "execution_count": 205,
   "metadata": {},
   "outputs": [],
   "source": [
    "lreg = sm.OLS(y_train, sm.add_constant(X_train)).fit()"
   ]
  },
  {
   "cell_type": "code",
   "execution_count": 206,
   "metadata": {},
   "outputs": [
    {
     "data": {
      "text/html": [
       "<table class=\"simpletable\">\n",
       "<caption>OLS Regression Results</caption>\n",
       "<tr>\n",
       "  <th>Dep. Variable:</th>            <td>y</td>        <th>  R-squared:         </th> <td>   0.533</td> \n",
       "</tr>\n",
       "<tr>\n",
       "  <th>Model:</th>                   <td>OLS</td>       <th>  Adj. R-squared:    </th> <td>   0.533</td> \n",
       "</tr>\n",
       "<tr>\n",
       "  <th>Method:</th>             <td>Least Squares</td>  <th>  F-statistic:       </th> <td>   1203.</td> \n",
       "</tr>\n",
       "<tr>\n",
       "  <th>Date:</th>             <td>Mon, 03 May 2021</td> <th>  Prob (F-statistic):</th>  <td>  0.00</td>  \n",
       "</tr>\n",
       "<tr>\n",
       "  <th>Time:</th>                 <td>23:42:44</td>     <th>  Log-Likelihood:    </th> <td> -17776.</td> \n",
       "</tr>\n",
       "<tr>\n",
       "  <th>No. Observations:</th>      <td>  8422</td>      <th>  AIC:               </th> <td>3.557e+04</td>\n",
       "</tr>\n",
       "<tr>\n",
       "  <th>Df Residuals:</th>          <td>  8413</td>      <th>  BIC:               </th> <td>3.563e+04</td>\n",
       "</tr>\n",
       "<tr>\n",
       "  <th>Df Model:</th>              <td>     8</td>      <th>                     </th>     <td> </td>    \n",
       "</tr>\n",
       "<tr>\n",
       "  <th>Covariance Type:</th>      <td>nonrobust</td>    <th>                     </th>     <td> </td>    \n",
       "</tr>\n",
       "</table>\n",
       "<table class=\"simpletable\">\n",
       "<tr>\n",
       "    <td></td>       <th>coef</th>     <th>std err</th>      <th>t</th>      <th>P>|t|</th>  <th>[0.025</th>    <th>0.975]</th>  \n",
       "</tr>\n",
       "<tr>\n",
       "  <th>const</th> <td>   -2.8340</td> <td>    0.095</td> <td>  -29.911</td> <td> 0.000</td> <td>   -3.020</td> <td>   -2.648</td>\n",
       "</tr>\n",
       "<tr>\n",
       "  <th>x1</th>    <td>    0.4470</td> <td>    0.038</td> <td>   11.888</td> <td> 0.000</td> <td>    0.373</td> <td>    0.521</td>\n",
       "</tr>\n",
       "<tr>\n",
       "  <th>x2</th>    <td>    0.3310</td> <td>    0.032</td> <td>   10.380</td> <td> 0.000</td> <td>    0.269</td> <td>    0.394</td>\n",
       "</tr>\n",
       "<tr>\n",
       "  <th>x3</th>    <td>    0.0590</td> <td>    0.002</td> <td>   38.295</td> <td> 0.000</td> <td>    0.056</td> <td>    0.062</td>\n",
       "</tr>\n",
       "<tr>\n",
       "  <th>x4</th>    <td>    0.3636</td> <td>    0.043</td> <td>    8.399</td> <td> 0.000</td> <td>    0.279</td> <td>    0.448</td>\n",
       "</tr>\n",
       "<tr>\n",
       "  <th>x5</th>    <td>    0.2481</td> <td>    0.017</td> <td>   14.349</td> <td> 0.000</td> <td>    0.214</td> <td>    0.282</td>\n",
       "</tr>\n",
       "<tr>\n",
       "  <th>x6</th>    <td>    0.0327</td> <td>    0.005</td> <td>    6.618</td> <td> 0.000</td> <td>    0.023</td> <td>    0.042</td>\n",
       "</tr>\n",
       "<tr>\n",
       "  <th>x7</th>    <td>    1.6691</td> <td>    0.054</td> <td>   30.696</td> <td> 0.000</td> <td>    1.563</td> <td>    1.776</td>\n",
       "</tr>\n",
       "<tr>\n",
       "  <th>x8</th>    <td>    0.3613</td> <td>    0.108</td> <td>    3.356</td> <td> 0.001</td> <td>    0.150</td> <td>    0.572</td>\n",
       "</tr>\n",
       "</table>\n",
       "<table class=\"simpletable\">\n",
       "<tr>\n",
       "  <th>Omnibus:</th>       <td>6256.897</td> <th>  Durbin-Watson:     </th>  <td>   2.002</td>  \n",
       "</tr>\n",
       "<tr>\n",
       "  <th>Prob(Omnibus):</th>  <td> 0.000</td>  <th>  Jarque-Bera (JB):  </th> <td>9622221.997</td>\n",
       "</tr>\n",
       "<tr>\n",
       "  <th>Skew:</th>           <td>-2.100</td>  <th>  Prob(JB):          </th>  <td>    0.00</td>  \n",
       "</tr>\n",
       "<tr>\n",
       "  <th>Kurtosis:</th>       <td>168.537</td> <th>  Cond. No.          </th>  <td>    104.</td>  \n",
       "</tr>\n",
       "</table><br/><br/>Notes:<br/>[1] Standard Errors assume that the covariance matrix of the errors is correctly specified."
      ],
      "text/plain": [
       "<class 'statsmodels.iolib.summary.Summary'>\n",
       "\"\"\"\n",
       "                            OLS Regression Results                            \n",
       "==============================================================================\n",
       "Dep. Variable:                      y   R-squared:                       0.533\n",
       "Model:                            OLS   Adj. R-squared:                  0.533\n",
       "Method:                 Least Squares   F-statistic:                     1203.\n",
       "Date:                Mon, 03 May 2021   Prob (F-statistic):               0.00\n",
       "Time:                        23:42:44   Log-Likelihood:                -17776.\n",
       "No. Observations:                8422   AIC:                         3.557e+04\n",
       "Df Residuals:                    8413   BIC:                         3.563e+04\n",
       "Df Model:                           8                                         \n",
       "Covariance Type:            nonrobust                                         \n",
       "==============================================================================\n",
       "                 coef    std err          t      P>|t|      [0.025      0.975]\n",
       "------------------------------------------------------------------------------\n",
       "const         -2.8340      0.095    -29.911      0.000      -3.020      -2.648\n",
       "x1             0.4470      0.038     11.888      0.000       0.373       0.521\n",
       "x2             0.3310      0.032     10.380      0.000       0.269       0.394\n",
       "x3             0.0590      0.002     38.295      0.000       0.056       0.062\n",
       "x4             0.3636      0.043      8.399      0.000       0.279       0.448\n",
       "x5             0.2481      0.017     14.349      0.000       0.214       0.282\n",
       "x6             0.0327      0.005      6.618      0.000       0.023       0.042\n",
       "x7             1.6691      0.054     30.696      0.000       1.563       1.776\n",
       "x8             0.3613      0.108      3.356      0.001       0.150       0.572\n",
       "==============================================================================\n",
       "Omnibus:                     6256.897   Durbin-Watson:                   2.002\n",
       "Prob(Omnibus):                  0.000   Jarque-Bera (JB):          9622221.997\n",
       "Skew:                          -2.100   Prob(JB):                         0.00\n",
       "Kurtosis:                     168.537   Cond. No.                         104.\n",
       "==============================================================================\n",
       "\n",
       "Notes:\n",
       "[1] Standard Errors assume that the covariance matrix of the errors is correctly specified.\n",
       "\"\"\""
      ]
     },
     "execution_count": 206,
     "metadata": {},
     "output_type": "execute_result"
    }
   ],
   "source": [
    "lreg.summary()"
   ]
  },
  {
   "cell_type": "code",
   "execution_count": 207,
   "metadata": {},
   "outputs": [
    {
     "data": {
      "text/plain": [
       "Index(['Property ID', 'Type', 'Beds', 'Baths', 'Park', 'Jacuzzi',\n",
       "       'Double Glazed Windows', 'Central AC', 'Agency', 'Titanium Agency?',\n",
       "       'Agency Video', 'Number of Images', 'Tour Video', 'Property Verified',\n",
       "       'Locality', 'City', 'Area_marlas', 'Price_rupees_lakhs',\n",
       "       'Price_rupees_crores', 'Price_per_marla', 'Freshness_days',\n",
       "       'Prob_Fresh', 'Date Last Updated', 'House', 'Lahore', 'Age_group',\n",
       "       'New', 'Less than 1 years old', '1-5 years old', '5+ years old',\n",
       "       'Images exist', 'Age_imputed', 'Servant Quarters_imputed',\n",
       "       'Parking Spaces_imputed', 'Leads Estates', 'DHA Defence'],\n",
       "      dtype='object')"
      ]
     },
     "execution_count": 207,
     "metadata": {},
     "output_type": "execute_result"
    }
   ],
   "source": [
    "df1.columns"
   ]
  },
  {
   "cell_type": "markdown",
   "metadata": {},
   "source": [
    "##### Decision Trees"
   ]
  },
  {
   "cell_type": "code",
   "execution_count": 208,
   "metadata": {},
   "outputs": [],
   "source": [
    "from sklearn.tree import DecisionTreeRegressor\n",
    "from sklearn.ensemble import RandomForestRegressor"
   ]
  },
  {
   "cell_type": "code",
   "execution_count": 209,
   "metadata": {},
   "outputs": [],
   "source": [
    "y = df1['Price_rupees_crores'].values"
   ]
  },
  {
   "cell_type": "code",
   "execution_count": 210,
   "metadata": {
    "scrolled": true
   },
   "outputs": [],
   "source": [
    "X = df1[cols].values"
   ]
  },
  {
   "cell_type": "code",
   "execution_count": 211,
   "metadata": {},
   "outputs": [],
   "source": [
    "# resplit\n",
    "X_train, X_test, y_train, y_test = train_test_split(X, y, test_size=0.4, random_state=786)"
   ]
  },
  {
   "cell_type": "code",
   "execution_count": 212,
   "metadata": {},
   "outputs": [],
   "source": [
    "dt = DecisionTreeRegressor(max_depth=7)"
   ]
  },
  {
   "cell_type": "code",
   "execution_count": 213,
   "metadata": {},
   "outputs": [],
   "source": [
    "dt = dt.fit(X_train, y_train)"
   ]
  },
  {
   "cell_type": "code",
   "execution_count": 214,
   "metadata": {},
   "outputs": [
    {
     "data": {
      "text/plain": [
       "0.8056736949490284"
      ]
     },
     "execution_count": 214,
     "metadata": {},
     "output_type": "execute_result"
    }
   ],
   "source": [
    "dt.score(X_test, y_test)"
   ]
  },
  {
   "cell_type": "code",
   "execution_count": 215,
   "metadata": {},
   "outputs": [],
   "source": [
    "dt_features = pd.concat([pd.Series(np.array(cols)), pd.Series(dt.feature_importances_)], axis=1)\n",
    "dt_features.rename(columns={0:'Feature', 1:'Importance'}, inplace=True)\n",
    "dt_features = dt_features.sort_values(by='Importance', ascending=False)"
   ]
  },
  {
   "cell_type": "code",
   "execution_count": 216,
   "metadata": {},
   "outputs": [
    {
     "data": {
      "text/html": [
       "<div>\n",
       "<style scoped>\n",
       "    .dataframe tbody tr th:only-of-type {\n",
       "        vertical-align: middle;\n",
       "    }\n",
       "\n",
       "    .dataframe tbody tr th {\n",
       "        vertical-align: top;\n",
       "    }\n",
       "\n",
       "    .dataframe thead th {\n",
       "        text-align: right;\n",
       "    }\n",
       "</style>\n",
       "<table border=\"1\" class=\"dataframe\">\n",
       "  <thead>\n",
       "    <tr style=\"text-align: right;\">\n",
       "      <th></th>\n",
       "      <th>Feature</th>\n",
       "      <th>Importance</th>\n",
       "    </tr>\n",
       "  </thead>\n",
       "  <tbody>\n",
       "    <tr>\n",
       "      <th>2</th>\n",
       "      <td>Area_marlas</td>\n",
       "      <td>0.925261</td>\n",
       "    </tr>\n",
       "    <tr>\n",
       "      <th>6</th>\n",
       "      <td>DHA Defence</td>\n",
       "      <td>0.029792</td>\n",
       "    </tr>\n",
       "    <tr>\n",
       "      <th>5</th>\n",
       "      <td>Age_imputed</td>\n",
       "      <td>0.018247</td>\n",
       "    </tr>\n",
       "    <tr>\n",
       "      <th>1</th>\n",
       "      <td>Baths</td>\n",
       "      <td>0.011692</td>\n",
       "    </tr>\n",
       "    <tr>\n",
       "      <th>0</th>\n",
       "      <td>Beds</td>\n",
       "      <td>0.005716</td>\n",
       "    </tr>\n",
       "    <tr>\n",
       "      <th>3</th>\n",
       "      <td>Servant Quarters_imputed</td>\n",
       "      <td>0.004821</td>\n",
       "    </tr>\n",
       "    <tr>\n",
       "      <th>4</th>\n",
       "      <td>Parking Spaces_imputed</td>\n",
       "      <td>0.004470</td>\n",
       "    </tr>\n",
       "    <tr>\n",
       "      <th>7</th>\n",
       "      <td>Park</td>\n",
       "      <td>0.000000</td>\n",
       "    </tr>\n",
       "  </tbody>\n",
       "</table>\n",
       "</div>"
      ],
      "text/plain": [
       "                    Feature  Importance\n",
       "2               Area_marlas    0.925261\n",
       "6               DHA Defence    0.029792\n",
       "5               Age_imputed    0.018247\n",
       "1                     Baths    0.011692\n",
       "0                      Beds    0.005716\n",
       "3  Servant Quarters_imputed    0.004821\n",
       "4    Parking Spaces_imputed    0.004470\n",
       "7                      Park    0.000000"
      ]
     },
     "execution_count": 216,
     "metadata": {},
     "output_type": "execute_result"
    }
   ],
   "source": [
    "dt_features"
   ]
  },
  {
   "cell_type": "code",
   "execution_count": 217,
   "metadata": {},
   "outputs": [],
   "source": [
    "mse = mean_squared_error(y_test, y_preds)"
   ]
  },
  {
   "cell_type": "code",
   "execution_count": 218,
   "metadata": {},
   "outputs": [],
   "source": [
    "rmse = np.sqrt(mse)"
   ]
  },
  {
   "cell_type": "code",
   "execution_count": 219,
   "metadata": {},
   "outputs": [
    {
     "name": "stdout",
     "output_type": "stream",
     "text": [
      "5.884719637301706 2.4258441082026905\n"
     ]
    }
   ],
   "source": [
    "print(mse, rmse)"
   ]
  },
  {
   "cell_type": "markdown",
   "metadata": {},
   "source": [
    "#### Random Forests"
   ]
  },
  {
   "cell_type": "code",
   "execution_count": 258,
   "metadata": {},
   "outputs": [],
   "source": [
    "rf = RandomForestRegressor(max_depth=10, n_estimators=100)"
   ]
  },
  {
   "cell_type": "code",
   "execution_count": 259,
   "metadata": {
    "scrolled": true
   },
   "outputs": [],
   "source": [
    "rf = rf.fit(X_train, y_train)"
   ]
  },
  {
   "cell_type": "code",
   "execution_count": 260,
   "metadata": {},
   "outputs": [
    {
     "data": {
      "text/plain": [
       "0.8354240210497677"
      ]
     },
     "execution_count": 260,
     "metadata": {},
     "output_type": "execute_result"
    }
   ],
   "source": [
    "rf.score(X_test, y_test)"
   ]
  },
  {
   "cell_type": "code",
   "execution_count": 261,
   "metadata": {},
   "outputs": [],
   "source": [
    "y_preds = rf.predict(X_test)"
   ]
  },
  {
   "cell_type": "code",
   "execution_count": 262,
   "metadata": {},
   "outputs": [],
   "source": [
    "mse = mean_squared_error(y_test, y_preds)"
   ]
  },
  {
   "cell_type": "code",
   "execution_count": 263,
   "metadata": {},
   "outputs": [],
   "source": [
    "rmse = np.sqrt(mse)"
   ]
  },
  {
   "cell_type": "code",
   "execution_count": 264,
   "metadata": {},
   "outputs": [
    {
     "name": "stdout",
     "output_type": "stream",
     "text": [
      "1.472284129435358 1.213377158774368\n"
     ]
    }
   ],
   "source": [
    "# off by more than a crore\n",
    "print(mse, rmse)"
   ]
  },
  {
   "cell_type": "markdown",
   "metadata": {},
   "source": [
    "#### Feature importances"
   ]
  },
  {
   "cell_type": "code",
   "execution_count": 227,
   "metadata": {},
   "outputs": [],
   "source": [
    "rf_features = pd.concat([pd.Series(np.array(cols)), pd.Series(rf.feature_importances_)], axis=1)\n",
    "rf_features.rename(columns={0:'Feature', 1:'Importance'}, inplace=True)\n",
    "rf_features = rf_features.sort_values(by='Importance', ascending=False)"
   ]
  },
  {
   "cell_type": "code",
   "execution_count": 228,
   "metadata": {},
   "outputs": [
    {
     "data": {
      "text/html": [
       "<div>\n",
       "<style scoped>\n",
       "    .dataframe tbody tr th:only-of-type {\n",
       "        vertical-align: middle;\n",
       "    }\n",
       "\n",
       "    .dataframe tbody tr th {\n",
       "        vertical-align: top;\n",
       "    }\n",
       "\n",
       "    .dataframe thead th {\n",
       "        text-align: right;\n",
       "    }\n",
       "</style>\n",
       "<table border=\"1\" class=\"dataframe\">\n",
       "  <thead>\n",
       "    <tr style=\"text-align: right;\">\n",
       "      <th></th>\n",
       "      <th>Feature</th>\n",
       "      <th>Importance</th>\n",
       "    </tr>\n",
       "  </thead>\n",
       "  <tbody>\n",
       "    <tr>\n",
       "      <th>2</th>\n",
       "      <td>Area_marlas</td>\n",
       "      <td>0.882606</td>\n",
       "    </tr>\n",
       "    <tr>\n",
       "      <th>5</th>\n",
       "      <td>Age_imputed</td>\n",
       "      <td>0.028348</td>\n",
       "    </tr>\n",
       "    <tr>\n",
       "      <th>6</th>\n",
       "      <td>DHA Defence</td>\n",
       "      <td>0.026917</td>\n",
       "    </tr>\n",
       "    <tr>\n",
       "      <th>4</th>\n",
       "      <td>Parking Spaces_imputed</td>\n",
       "      <td>0.019347</td>\n",
       "    </tr>\n",
       "    <tr>\n",
       "      <th>1</th>\n",
       "      <td>Baths</td>\n",
       "      <td>0.015447</td>\n",
       "    </tr>\n",
       "    <tr>\n",
       "      <th>3</th>\n",
       "      <td>Servant Quarters_imputed</td>\n",
       "      <td>0.013788</td>\n",
       "    </tr>\n",
       "    <tr>\n",
       "      <th>0</th>\n",
       "      <td>Beds</td>\n",
       "      <td>0.012585</td>\n",
       "    </tr>\n",
       "    <tr>\n",
       "      <th>7</th>\n",
       "      <td>Park</td>\n",
       "      <td>0.000960</td>\n",
       "    </tr>\n",
       "  </tbody>\n",
       "</table>\n",
       "</div>"
      ],
      "text/plain": [
       "                    Feature  Importance\n",
       "2               Area_marlas    0.882606\n",
       "5               Age_imputed    0.028348\n",
       "6               DHA Defence    0.026917\n",
       "4    Parking Spaces_imputed    0.019347\n",
       "1                     Baths    0.015447\n",
       "3  Servant Quarters_imputed    0.013788\n",
       "0                      Beds    0.012585\n",
       "7                      Park    0.000960"
      ]
     },
     "execution_count": 228,
     "metadata": {},
     "output_type": "execute_result"
    }
   ],
   "source": [
    "rf_features"
   ]
  },
  {
   "cell_type": "markdown",
   "metadata": {},
   "source": [
    "#### K-folds cross-validation"
   ]
  },
  {
   "cell_type": "code",
   "execution_count": 230,
   "metadata": {},
   "outputs": [],
   "source": [
    "from sklearn.model_selection import cross_validate"
   ]
  },
  {
   "cell_type": "code",
   "execution_count": 231,
   "metadata": {},
   "outputs": [
    {
     "name": "stdout",
     "output_type": "stream",
     "text": [
      "[0.86002287 0.82116747 0.82133962 0.83845184 0.81555363]\n",
      "0.8313070858698799\n"
     ]
    }
   ],
   "source": [
    "cv = cross_validate(rf, X, y, cv=5)\n",
    "print(cv['test_score'])\n",
    "print(cv['test_score'].mean())"
   ]
  },
  {
   "cell_type": "code",
   "execution_count": 233,
   "metadata": {},
   "outputs": [],
   "source": [
    "# tree.plot_tree(rf0, feature_names=cols, filled=True)\n",
    "# plt.show()"
   ]
  },
  {
   "cell_type": "markdown",
   "metadata": {},
   "source": [
    "#### Optimizing max_depth"
   ]
  },
  {
   "cell_type": "code",
   "execution_count": 234,
   "metadata": {},
   "outputs": [],
   "source": [
    "sns.set()"
   ]
  },
  {
   "cell_type": "code",
   "execution_count": 235,
   "metadata": {},
   "outputs": [],
   "source": [
    "xs = []\n",
    "scores = []\n",
    "\n",
    "for n in range(1,30):    \n",
    "    rf_ = RandomForestRegressor(max_depth=n)\n",
    "    rf_ = rf.fit(X_train, y_train)\n",
    "    rf_score = rf.score(X_test, y_test)\n",
    "    \n",
    "    xs.append(n)\n",
    "    scores.append(rf_score)"
   ]
  },
  {
   "cell_type": "code",
   "execution_count": 236,
   "metadata": {},
   "outputs": [
    {
     "data": {
      "text/plain": [
       "[<matplotlib.lines.Line2D at 0x1a1fdbe748>]"
      ]
     },
     "execution_count": 236,
     "metadata": {},
     "output_type": "execute_result"
    },
    {
     "data": {
      "image/png": "[encoded data removed]",
      "text/plain": [
       "<Figure size 432x288 with 1 Axes>"
      ]
     },
     "metadata": {},
     "output_type": "display_data"
    }
   ],
   "source": [
    "# max accuracy occurs potentially when max_depth = 12 or 2\n",
    "# plt.ylim([.80,.85])\n",
    "plt.plot(xs, scores)\n",
    "# plt.xlim([0,18])"
   ]
  },
  {
   "cell_type": "code",
   "execution_count": 238,
   "metadata": {},
   "outputs": [
    {
     "data": {
      "text/plain": [
       "26"
      ]
     },
     "execution_count": 238,
     "metadata": {},
     "output_type": "execute_result"
    }
   ],
   "source": [
    "xs[np.where(scores == max(scores))[0][0]]"
   ]
  },
  {
   "cell_type": "markdown",
   "metadata": {},
   "source": [
    "##### kNNs"
   ]
  },
  {
   "cell_type": "code",
   "execution_count": 833,
   "metadata": {},
   "outputs": [],
   "source": [
    "from sklearn import neighbors"
   ]
  },
  {
   "cell_type": "code",
   "execution_count": 834,
   "metadata": {
    "scrolled": true
   },
   "outputs": [],
   "source": [
    "knn = neighbors.KNeighborsRegressor(n_neighbors=10)"
   ]
  },
  {
   "cell_type": "code",
   "execution_count": 835,
   "metadata": {},
   "outputs": [],
   "source": [
    "knn = knn.fit(X_train, y_train)"
   ]
  },
  {
   "cell_type": "code",
   "execution_count": 836,
   "metadata": {},
   "outputs": [],
   "source": [
    "y_preds = knn.predict(X_test)"
   ]
  },
  {
   "cell_type": "code",
   "execution_count": 837,
   "metadata": {},
   "outputs": [
    {
     "data": {
      "text/plain": [
       "0.23852095284458752"
      ]
     },
     "execution_count": 837,
     "metadata": {},
     "output_type": "execute_result"
    }
   ],
   "source": [
    "# R^2\n",
    "knn.score(X_test, y_test)"
   ]
  },
  {
   "cell_type": "code",
   "execution_count": 838,
   "metadata": {},
   "outputs": [],
   "source": [
    "y_preds = knn.predict(X_test)"
   ]
  },
  {
   "cell_type": "code",
   "execution_count": 839,
   "metadata": {},
   "outputs": [],
   "source": [
    "mse = mean_squared_error(y_test, y_preds)"
   ]
  },
  {
   "cell_type": "code",
   "execution_count": 840,
   "metadata": {},
   "outputs": [],
   "source": [
    "rmse = np.sqrt(mse)"
   ]
  },
  {
   "cell_type": "code",
   "execution_count": 841,
   "metadata": {},
   "outputs": [
    {
     "name": "stdout",
     "output_type": "stream",
     "text": [
      "0.6115452619610046 0.7820135944860579\n"
     ]
    }
   ],
   "source": [
    "print(mse, rmse)"
   ]
  },
  {
   "cell_type": "markdown",
   "metadata": {},
   "source": [
    "#### Optimizing n_neighbors"
   ]
  },
  {
   "cell_type": "code",
   "execution_count": 314,
   "metadata": {},
   "outputs": [],
   "source": [
    "sns.set()"
   ]
  },
  {
   "cell_type": "code",
   "execution_count": 831,
   "metadata": {},
   "outputs": [],
   "source": [
    "x = []\n",
    "y = []\n",
    "\n",
    "for n in range(1,51):\n",
    "    knn = neighbors.KNeighborsRegressor(n_neighbors=n, weights='uniform')\n",
    "    knn = knn.fit(X_train, y_train)\n",
    "    score = knn.score(X_test, y_test)\n",
    "    \n",
    "    x.append(n)\n",
    "    y.append(score)"
   ]
  },
  {
   "cell_type": "code",
   "execution_count": 832,
   "metadata": {},
   "outputs": [
    {
     "data": {
      "text/plain": [
       "[<matplotlib.lines.Line2D at 0x1a2bcf4438>]"
      ]
     },
     "execution_count": 832,
     "metadata": {},
     "output_type": "execute_result"
    },
    {
     "data": {
      "image/png": "[encoded data removed]",
      "text/plain": [
       "<Figure size 432x288 with 1 Axes>"
      ]
     },
     "metadata": {},
     "output_type": "display_data"
    }
   ],
   "source": [
    "# max accuracy occurs when k=17\n",
    "plt.plot(x, y)"
   ]
  },
  {
   "cell_type": "code",
   "execution_count": null,
   "metadata": {},
   "outputs": [],
   "source": []
  }
 ],
 "metadata": {
  "kernelspec": {
   "display_name": "Python 3",
   "language": "python",
   "name": "python3"
  },
  "language_info": {
   "codemirror_mode": {
    "name": "ipython",
    "version": 3
   },
   "file_extension": ".py",
   "mimetype": "text/x-python",
   "name": "python",
   "nbconvert_exporter": "python",
   "pygments_lexer": "ipython3",
   "version": "3.6.13"
  }
 },
 "nbformat": 4,
 "nbformat_minor": 4
}
