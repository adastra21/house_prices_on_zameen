{
 "cells": [
  {
   "cell_type": "code",
   "execution_count": 1,
   "metadata": {},
   "outputs": [],
   "source": [
    "import numpy as np\n",
    "import pandas as pd\n",
    "\n",
    "import matplotlib.pylab as plt\n",
    "import seaborn as sns"
   ]
  },
  {
   "cell_type": "code",
   "execution_count": 2,
   "metadata": {
    "scrolled": true
   },
   "outputs": [
    {
     "name": "stderr",
     "output_type": "stream",
     "text": [
      "/Users/abdur_rehman/miniconda3/envs/ml/lib/python3.6/site-packages/IPython/core/interactiveshell.py:3072: DtypeWarning: Columns (10) have mixed types.Specify dtype option on import or set low_memory=False.\n",
      "  interactivity=interactivity, compiler=compiler, result=result)\n"
     ]
    }
   ],
   "source": [
    "df = pd.read_csv('data/zameen-dec2020-clean.csv')"
   ]
  },
  {
   "cell_type": "code",
   "execution_count": 3,
   "metadata": {},
   "outputs": [
    {
     "data": {
      "text/plain": [
       "(4523278, 38)"
      ]
     },
     "execution_count": 3,
     "metadata": {},
     "output_type": "execute_result"
    }
   ],
   "source": [
    "df.shape"
   ]
  },
  {
   "cell_type": "code",
   "execution_count": 4,
   "metadata": {},
   "outputs": [
    {
     "data": {
      "text/html": [
       "<div>\n",
       "<style scoped>\n",
       "    .dataframe tbody tr th:only-of-type {\n",
       "        vertical-align: middle;\n",
       "    }\n",
       "\n",
       "    .dataframe tbody tr th {\n",
       "        vertical-align: top;\n",
       "    }\n",
       "\n",
       "    .dataframe thead th {\n",
       "        text-align: right;\n",
       "    }\n",
       "</style>\n",
       "<table border=\"1\" class=\"dataframe\">\n",
       "  <thead>\n",
       "    <tr style=\"text-align: right;\">\n",
       "      <th></th>\n",
       "      <th>Property ID</th>\n",
       "      <th>Purpose</th>\n",
       "      <th>Type</th>\n",
       "      <th>Title</th>\n",
       "      <th>Subtitle</th>\n",
       "      <th>Location</th>\n",
       "      <th>Area</th>\n",
       "      <th>Price</th>\n",
       "      <th>Beds</th>\n",
       "      <th>Baths</th>\n",
       "      <th>...</th>\n",
       "      <th>Locality</th>\n",
       "      <th>City</th>\n",
       "      <th>Area_marlas</th>\n",
       "      <th>Price_rupees</th>\n",
       "      <th>Age</th>\n",
       "      <th>Freshness_days</th>\n",
       "      <th>Prob_Fresh</th>\n",
       "      <th>Price_rupees_crores</th>\n",
       "      <th>Price_rupees_lakhs</th>\n",
       "      <th>Price_per_marla</th>\n",
       "    </tr>\n",
       "  </thead>\n",
       "  <tbody>\n",
       "    <tr>\n",
       "      <th>0</th>\n",
       "      <td>26526717</td>\n",
       "      <td>For Sale</td>\n",
       "      <td>Flat</td>\n",
       "      <td>Beautiful Apartment Is Available For Sale In R...</td>\n",
       "      <td>Bahria Heights, Bahria Town Karachi, Karachi, ...</td>\n",
       "      <td>Bahria Town Karachi, Karachi, Sindh</td>\n",
       "      <td>4.9 Marla</td>\n",
       "      <td>52 Lakh</td>\n",
       "      <td>2.0</td>\n",
       "      <td>2.0</td>\n",
       "      <td>...</td>\n",
       "      <td>Bahria Town Karachi</td>\n",
       "      <td>Karachi</td>\n",
       "      <td>4.9</td>\n",
       "      <td>5200000</td>\n",
       "      <td>NaN</td>\n",
       "      <td>0</td>\n",
       "      <td>0.1</td>\n",
       "      <td>0.52</td>\n",
       "      <td>52.0</td>\n",
       "      <td>10.612245</td>\n",
       "    </tr>\n",
       "  </tbody>\n",
       "</table>\n",
       "<p>1 rows × 38 columns</p>\n",
       "</div>"
      ],
      "text/plain": [
       "   Property ID   Purpose  Type  \\\n",
       "0     26526717  For Sale  Flat   \n",
       "\n",
       "                                               Title  \\\n",
       "0  Beautiful Apartment Is Available For Sale In R...   \n",
       "\n",
       "                                            Subtitle  \\\n",
       "0  Bahria Heights, Bahria Town Karachi, Karachi, ...   \n",
       "\n",
       "                              Location       Area    Price  Beds  Baths  ...  \\\n",
       "0  Bahria Town Karachi, Karachi, Sindh  4.9 Marla  52 Lakh   2.0    2.0  ...   \n",
       "\n",
       "              Locality     City  Area_marlas Price_rupees Age Freshness_days  \\\n",
       "0  Bahria Town Karachi  Karachi          4.9      5200000 NaN              0   \n",
       "\n",
       "  Prob_Fresh Price_rupees_crores Price_rupees_lakhs  Price_per_marla  \n",
       "0        0.1                0.52               52.0        10.612245  \n",
       "\n",
       "[1 rows x 38 columns]"
      ]
     },
     "execution_count": 4,
     "metadata": {},
     "output_type": "execute_result"
    }
   ],
   "source": [
    "df.head(1)"
   ]
  },
  {
   "cell_type": "code",
   "execution_count": 5,
   "metadata": {},
   "outputs": [
    {
     "data": {
      "text/plain": [
       "Property ID                int64\n",
       "Purpose                   object\n",
       "Type                      object\n",
       "Title                     object\n",
       "Subtitle                  object\n",
       "Location                  object\n",
       "Area                      object\n",
       "Price                     object\n",
       "Beds                     float64\n",
       "Baths                    float64\n",
       "Year of Construction      object\n",
       "Servant Quarters         float64\n",
       "Parking Spaces           float64\n",
       "Double Glazed Windows     object\n",
       "Central AC                object\n",
       "Park                      object\n",
       "Jacuzzi                   object\n",
       "Agency                    object\n",
       "Agent                     object\n",
       "Titanium Agency?            bool\n",
       "Agency Video                bool\n",
       "Number of Images           int64\n",
       "Tour Video                  bool\n",
       "Property Verified           bool\n",
       "Date Scraped              object\n",
       "URL                       object\n",
       "Added                     object\n",
       "Date Last Updated         object\n",
       "Locality                  object\n",
       "City                      object\n",
       "Area_marlas              float64\n",
       "Price_rupees               int64\n",
       "Age                      float64\n",
       "Freshness_days             int64\n",
       "Prob_Fresh               float64\n",
       "Price_rupees_crores      float64\n",
       "Price_rupees_lakhs       float64\n",
       "Price_per_marla          float64\n",
       "dtype: object"
      ]
     },
     "execution_count": 5,
     "metadata": {},
     "output_type": "execute_result"
    }
   ],
   "source": [
    "df.dtypes"
   ]
  },
  {
   "cell_type": "code",
   "execution_count": 6,
   "metadata": {},
   "outputs": [
    {
     "data": {
      "text/plain": [
       "<AxesSubplot:>"
      ]
     },
     "execution_count": 6,
     "metadata": {},
     "output_type": "execute_result"
    },
    {
     "data": {
      "image/png": "[encoded data removed]",
      "text/plain": [
       "<Figure size 432x288 with 1 Axes>"
      ]
     },
     "metadata": {
      "needs_background": "light"
     },
     "output_type": "display_data"
    }
   ],
   "source": [
    "df['Date Scraped'] = pd.to_datetime(df['Date Scraped'])\n",
    "\n",
    "df['Date Scraped'] = df['Date Scraped'].dt.date\n",
    "\n",
    "df['Date Scraped'].value_counts(normalize=True).plot(kind='bar')"
   ]
  },
  {
   "cell_type": "code",
   "execution_count": 7,
   "metadata": {},
   "outputs": [],
   "source": [
    "# df['Property ID'] = df['Property ID'].apply(lambda x: x[-8:])"
   ]
  },
  {
   "cell_type": "code",
   "execution_count": 8,
   "metadata": {},
   "outputs": [],
   "source": [
    "# df['Property ID'].apply(len).value_counts(normalize=True)"
   ]
  },
  {
   "cell_type": "code",
   "execution_count": 9,
   "metadata": {
    "scrolled": true
   },
   "outputs": [],
   "source": [
    "# plots have fewer digits\n",
    "# df['Property ID'] = np.where(df['Property ID'].str.contains('[a-z]{1}'), df['Property ID'].apply(lambda x: x[2:]), df['Property ID'])"
   ]
  },
  {
   "cell_type": "code",
   "execution_count": 10,
   "metadata": {
    "scrolled": true
   },
   "outputs": [],
   "source": [
    "# df['Property ID'] = df['Property ID'].astype(int)"
   ]
  },
  {
   "cell_type": "code",
   "execution_count": 11,
   "metadata": {},
   "outputs": [],
   "source": [
    "pd.set_option('min_rows', 100)\n",
    "pd.set_option('display.max_columns', 100)"
   ]
  },
  {
   "cell_type": "code",
   "execution_count": 12,
   "metadata": {},
   "outputs": [
    {
     "data": {
      "text/html": [
       "<div>\n",
       "<style scoped>\n",
       "    .dataframe tbody tr th:only-of-type {\n",
       "        vertical-align: middle;\n",
       "    }\n",
       "\n",
       "    .dataframe tbody tr th {\n",
       "        vertical-align: top;\n",
       "    }\n",
       "\n",
       "    .dataframe thead th {\n",
       "        text-align: right;\n",
       "    }\n",
       "</style>\n",
       "<table border=\"1\" class=\"dataframe\">\n",
       "  <thead>\n",
       "    <tr style=\"text-align: right;\">\n",
       "      <th></th>\n",
       "      <th>Property ID</th>\n",
       "      <th>Purpose</th>\n",
       "      <th>Type</th>\n",
       "      <th>Title</th>\n",
       "      <th>Subtitle</th>\n",
       "      <th>Location</th>\n",
       "      <th>Area</th>\n",
       "      <th>Price</th>\n",
       "      <th>Beds</th>\n",
       "      <th>Baths</th>\n",
       "      <th>Year of Construction</th>\n",
       "      <th>Servant Quarters</th>\n",
       "      <th>Parking Spaces</th>\n",
       "      <th>Double Glazed Windows</th>\n",
       "      <th>Central AC</th>\n",
       "      <th>Park</th>\n",
       "      <th>Jacuzzi</th>\n",
       "      <th>Agency</th>\n",
       "      <th>Agent</th>\n",
       "      <th>Titanium Agency?</th>\n",
       "      <th>Agency Video</th>\n",
       "      <th>Number of Images</th>\n",
       "      <th>Tour Video</th>\n",
       "      <th>Property Verified</th>\n",
       "      <th>Date Scraped</th>\n",
       "      <th>URL</th>\n",
       "      <th>Added</th>\n",
       "      <th>Date Last Updated</th>\n",
       "      <th>Locality</th>\n",
       "      <th>City</th>\n",
       "      <th>Area_marlas</th>\n",
       "      <th>Price_rupees</th>\n",
       "      <th>Age</th>\n",
       "      <th>Freshness_days</th>\n",
       "      <th>Prob_Fresh</th>\n",
       "      <th>Price_rupees_crores</th>\n",
       "      <th>Price_rupees_lakhs</th>\n",
       "      <th>Price_per_marla</th>\n",
       "    </tr>\n",
       "  </thead>\n",
       "  <tbody>\n",
       "    <tr>\n",
       "      <th>0</th>\n",
       "      <td>26526717</td>\n",
       "      <td>For Sale</td>\n",
       "      <td>Flat</td>\n",
       "      <td>Beautiful Apartment Is Available For Sale In R...</td>\n",
       "      <td>Bahria Heights, Bahria Town Karachi, Karachi, ...</td>\n",
       "      <td>Bahria Town Karachi, Karachi, Sindh</td>\n",
       "      <td>4.9 Marla</td>\n",
       "      <td>52 Lakh</td>\n",
       "      <td>2.0</td>\n",
       "      <td>2.0</td>\n",
       "      <td>NaN</td>\n",
       "      <td>NaN</td>\n",
       "      <td>NaN</td>\n",
       "      <td>No</td>\n",
       "      <td>No</td>\n",
       "      <td>No</td>\n",
       "      <td>No</td>\n",
       "      <td>Salaam Estate &amp; Builders</td>\n",
       "      <td>Rana Arsalan</td>\n",
       "      <td>True</td>\n",
       "      <td>True</td>\n",
       "      <td>10</td>\n",
       "      <td>False</td>\n",
       "      <td>False</td>\n",
       "      <td>2020-12-01</td>\n",
       "      <td>https://www.zameen.com/Property/bahria_town_ka...</td>\n",
       "      <td>28 minutes</td>\n",
       "      <td>2020-12-01</td>\n",
       "      <td>Bahria Town Karachi</td>\n",
       "      <td>Karachi</td>\n",
       "      <td>4.9</td>\n",
       "      <td>5200000</td>\n",
       "      <td>NaN</td>\n",
       "      <td>0</td>\n",
       "      <td>0.1</td>\n",
       "      <td>0.52</td>\n",
       "      <td>52.0</td>\n",
       "      <td>10.612245</td>\n",
       "    </tr>\n",
       "    <tr>\n",
       "      <th>1</th>\n",
       "      <td>26481937</td>\n",
       "      <td>For Sale</td>\n",
       "      <td>House</td>\n",
       "      <td>3 Beds Villa For Sale In Bahria Town Karachi</td>\n",
       "      <td>Bahria Town - Precinct 31, Bahria Town Karachi...</td>\n",
       "      <td>Bahria Town Karachi, Karachi, Sindh</td>\n",
       "      <td>8 Marla</td>\n",
       "      <td>86 Lakh</td>\n",
       "      <td>3.0</td>\n",
       "      <td>3.0</td>\n",
       "      <td>NaN</td>\n",
       "      <td>NaN</td>\n",
       "      <td>NaN</td>\n",
       "      <td>No</td>\n",
       "      <td>No</td>\n",
       "      <td>No</td>\n",
       "      <td>No</td>\n",
       "      <td>Sub Ki Property</td>\n",
       "      <td>SUB KI PROPERTY</td>\n",
       "      <td>True</td>\n",
       "      <td>False</td>\n",
       "      <td>11</td>\n",
       "      <td>False</td>\n",
       "      <td>False</td>\n",
       "      <td>2020-12-01</td>\n",
       "      <td>https://www.zameen.com/Property/bahria_town_ka...</td>\n",
       "      <td>20 minutes</td>\n",
       "      <td>2020-12-01</td>\n",
       "      <td>Bahria Town Karachi</td>\n",
       "      <td>Karachi</td>\n",
       "      <td>8.0</td>\n",
       "      <td>8600000</td>\n",
       "      <td>NaN</td>\n",
       "      <td>0</td>\n",
       "      <td>0.4</td>\n",
       "      <td>0.86</td>\n",
       "      <td>86.0</td>\n",
       "      <td>10.750000</td>\n",
       "    </tr>\n",
       "  </tbody>\n",
       "</table>\n",
       "</div>"
      ],
      "text/plain": [
       "   Property ID   Purpose   Type  \\\n",
       "0     26526717  For Sale   Flat   \n",
       "1     26481937  For Sale  House   \n",
       "\n",
       "                                               Title  \\\n",
       "0  Beautiful Apartment Is Available For Sale In R...   \n",
       "1       3 Beds Villa For Sale In Bahria Town Karachi   \n",
       "\n",
       "                                            Subtitle  \\\n",
       "0  Bahria Heights, Bahria Town Karachi, Karachi, ...   \n",
       "1  Bahria Town - Precinct 31, Bahria Town Karachi...   \n",
       "\n",
       "                              Location       Area    Price  Beds  Baths  \\\n",
       "0  Bahria Town Karachi, Karachi, Sindh  4.9 Marla  52 Lakh   2.0    2.0   \n",
       "1  Bahria Town Karachi, Karachi, Sindh    8 Marla  86 Lakh   3.0    3.0   \n",
       "\n",
       "  Year of Construction  Servant Quarters  Parking Spaces  \\\n",
       "0                  NaN               NaN             NaN   \n",
       "1                  NaN               NaN             NaN   \n",
       "\n",
       "  Double Glazed Windows Central AC Park Jacuzzi                    Agency  \\\n",
       "0                    No         No   No      No  Salaam Estate & Builders   \n",
       "1                    No         No   No      No           Sub Ki Property   \n",
       "\n",
       "             Agent  Titanium Agency?  Agency Video  Number of Images  \\\n",
       "0     Rana Arsalan              True          True                10   \n",
       "1  SUB KI PROPERTY              True         False                11   \n",
       "\n",
       "   Tour Video  Property Verified Date Scraped  \\\n",
       "0       False              False   2020-12-01   \n",
       "1       False              False   2020-12-01   \n",
       "\n",
       "                                                 URL        Added  \\\n",
       "0  https://www.zameen.com/Property/bahria_town_ka...  28 minutes    \n",
       "1  https://www.zameen.com/Property/bahria_town_ka...  20 minutes    \n",
       "\n",
       "  Date Last Updated             Locality     City  Area_marlas  Price_rupees  \\\n",
       "0        2020-12-01  Bahria Town Karachi  Karachi          4.9       5200000   \n",
       "1        2020-12-01  Bahria Town Karachi  Karachi          8.0       8600000   \n",
       "\n",
       "   Age  Freshness_days  Prob_Fresh  Price_rupees_crores  Price_rupees_lakhs  \\\n",
       "0  NaN               0         0.1                 0.52                52.0   \n",
       "1  NaN               0         0.4                 0.86                86.0   \n",
       "\n",
       "   Price_per_marla  \n",
       "0        10.612245  \n",
       "1        10.750000  "
      ]
     },
     "execution_count": 12,
     "metadata": {},
     "output_type": "execute_result"
    }
   ],
   "source": [
    "df.head(2)"
   ]
  },
  {
   "cell_type": "code",
   "execution_count": 14,
   "metadata": {},
   "outputs": [
    {
     "data": {
      "text/plain": [
       "0.0     0.455353\n",
       "1.0     0.148506\n",
       "2.0     0.097228\n",
       "3.0     0.046508\n",
       "5.0     0.044543\n",
       "10.0    0.041784\n",
       "Name: Age, dtype: float64"
      ]
     },
     "execution_count": 14,
     "metadata": {},
     "output_type": "execute_result"
    }
   ],
   "source": [
    "df['Age'].astype(float).value_counts(normalize=True)[:10]"
   ]
  },
  {
   "cell_type": "markdown",
   "metadata": {},
   "source": [
    "### EDA"
   ]
  },
  {
   "cell_type": "code",
   "execution_count": 15,
   "metadata": {},
   "outputs": [],
   "source": [
    "dff = df[['Property ID', 'Purpose', 'Type', 'Locality', 'City', 'Area_marlas', 'Price_rupees_crores', \n",
    "         'Price_rupees_lakhs', 'Price_per_marla', 'Beds', 'Baths', 'Age', 'Agency', 'Agent', 'Number of Images',\n",
    "          'Date Scraped', 'Added', 'Date Last Updated', 'Property Verified', 'URL']].copy()"
   ]
  },
  {
   "cell_type": "code",
   "execution_count": 16,
   "metadata": {},
   "outputs": [
    {
     "name": "stdout",
     "output_type": "stream",
     "text": [
      "<class 'pandas.core.frame.DataFrame'>\n",
      "RangeIndex: 4523278 entries, 0 to 4523277\n",
      "Data columns (total 20 columns):\n",
      " #   Column               Dtype  \n",
      "---  ------               -----  \n",
      " 0   Property ID          int64  \n",
      " 1   Purpose              object \n",
      " 2   Type                 object \n",
      " 3   Locality             object \n",
      " 4   City                 object \n",
      " 5   Area_marlas          float64\n",
      " 6   Price_rupees_crores  float64\n",
      " 7   Price_rupees_lakhs   float64\n",
      " 8   Price_per_marla      float64\n",
      " 9   Beds                 float64\n",
      " 10  Baths                float64\n",
      " 11  Age                  float64\n",
      " 12  Agency               object \n",
      " 13  Agent                object \n",
      " 14  Number of Images     int64  \n",
      " 15  Date Scraped         object \n",
      " 16  Added                object \n",
      " 17  Date Last Updated    object \n",
      " 18  Property Verified    bool   \n",
      " 19  URL                  object \n",
      "dtypes: bool(1), float64(7), int64(2), object(10)\n",
      "memory usage: 660.0+ MB\n"
     ]
    }
   ],
   "source": [
    "dff.info()"
   ]
  },
  {
   "cell_type": "code",
   "execution_count": 17,
   "metadata": {},
   "outputs": [],
   "source": [
    "dff['Date Scraped'] = pd.to_datetime(dff['Date Scraped'])"
   ]
  },
  {
   "cell_type": "code",
   "execution_count": 18,
   "metadata": {},
   "outputs": [],
   "source": [
    "dff['Date Last Updated'] = pd.to_datetime(dff['Date Last Updated'])"
   ]
  },
  {
   "cell_type": "code",
   "execution_count": 19,
   "metadata": {},
   "outputs": [
    {
     "data": {
      "text/html": [
       "<div>\n",
       "<style scoped>\n",
       "    .dataframe tbody tr th:only-of-type {\n",
       "        vertical-align: middle;\n",
       "    }\n",
       "\n",
       "    .dataframe tbody tr th {\n",
       "        vertical-align: top;\n",
       "    }\n",
       "\n",
       "    .dataframe thead th {\n",
       "        text-align: right;\n",
       "    }\n",
       "</style>\n",
       "<table border=\"1\" class=\"dataframe\">\n",
       "  <thead>\n",
       "    <tr style=\"text-align: right;\">\n",
       "      <th></th>\n",
       "      <th>Property ID</th>\n",
       "      <th>Area_marlas</th>\n",
       "      <th>Price_rupees_crores</th>\n",
       "      <th>Price_rupees_lakhs</th>\n",
       "      <th>Price_per_marla</th>\n",
       "      <th>Beds</th>\n",
       "      <th>Baths</th>\n",
       "      <th>Age</th>\n",
       "      <th>Number of Images</th>\n",
       "    </tr>\n",
       "  </thead>\n",
       "  <tbody>\n",
       "    <tr>\n",
       "      <th>count</th>\n",
       "      <td>4.523278e+06</td>\n",
       "      <td>4.523278e+06</td>\n",
       "      <td>4.523278e+06</td>\n",
       "      <td>4.523278e+06</td>\n",
       "      <td>4.523278e+06</td>\n",
       "      <td>2.324716e+06</td>\n",
       "      <td>2.272726e+06</td>\n",
       "      <td>606264.000000</td>\n",
       "      <td>4.523278e+06</td>\n",
       "    </tr>\n",
       "    <tr>\n",
       "      <th>mean</th>\n",
       "      <td>2.542072e+07</td>\n",
       "      <td>2.797946e+02</td>\n",
       "      <td>2.504099e+00</td>\n",
       "      <td>2.504099e+02</td>\n",
       "      <td>inf</td>\n",
       "      <td>3.665915e+00</td>\n",
       "      <td>3.933290e+00</td>\n",
       "      <td>3.083922</td>\n",
       "      <td>8.385328e+00</td>\n",
       "    </tr>\n",
       "    <tr>\n",
       "      <th>std</th>\n",
       "      <td>2.198952e+06</td>\n",
       "      <td>4.491658e+04</td>\n",
       "      <td>2.174401e+01</td>\n",
       "      <td>2.174401e+03</td>\n",
       "      <td>NaN</td>\n",
       "      <td>1.615867e+00</td>\n",
       "      <td>1.797968e+00</td>\n",
       "      <td>5.643981</td>\n",
       "      <td>1.166018e+01</td>\n",
       "    </tr>\n",
       "    <tr>\n",
       "      <th>min</th>\n",
       "      <td>2.557650e+05</td>\n",
       "      <td>0.000000e+00</td>\n",
       "      <td>1.000000e-07</td>\n",
       "      <td>1.000000e-05</td>\n",
       "      <td>2.619345e-11</td>\n",
       "      <td>1.000000e+00</td>\n",
       "      <td>1.000000e+00</td>\n",
       "      <td>0.000000</td>\n",
       "      <td>0.000000e+00</td>\n",
       "    </tr>\n",
       "    <tr>\n",
       "      <th>25%</th>\n",
       "      <td>2.512672e+07</td>\n",
       "      <td>5.000000e+00</td>\n",
       "      <td>1.975000e-01</td>\n",
       "      <td>1.975000e+01</td>\n",
       "      <td>2.600000e+00</td>\n",
       "      <td>3.000000e+00</td>\n",
       "      <td>3.000000e+00</td>\n",
       "      <td>0.000000</td>\n",
       "      <td>0.000000e+00</td>\n",
       "    </tr>\n",
       "    <tr>\n",
       "      <th>50%</th>\n",
       "      <td>2.618912e+07</td>\n",
       "      <td>1.000000e+01</td>\n",
       "      <td>8.000000e-01</td>\n",
       "      <td>8.000000e+01</td>\n",
       "      <td>9.500000e+00</td>\n",
       "      <td>3.000000e+00</td>\n",
       "      <td>4.000000e+00</td>\n",
       "      <td>1.000000</td>\n",
       "      <td>3.000000e+00</td>\n",
       "    </tr>\n",
       "    <tr>\n",
       "      <th>75%</th>\n",
       "      <td>2.658332e+07</td>\n",
       "      <td>2.000000e+01</td>\n",
       "      <td>2.000000e+00</td>\n",
       "      <td>2.000000e+02</td>\n",
       "      <td>2.125000e+01</td>\n",
       "      <td>5.000000e+00</td>\n",
       "      <td>5.000000e+00</td>\n",
       "      <td>4.000000</td>\n",
       "      <td>1.300000e+01</td>\n",
       "    </tr>\n",
       "    <tr>\n",
       "      <th>max</th>\n",
       "      <td>2.718244e+07</td>\n",
       "      <td>9.544372e+06</td>\n",
       "      <td>4.668000e+03</td>\n",
       "      <td>4.668000e+05</td>\n",
       "      <td>inf</td>\n",
       "      <td>2.700000e+01</td>\n",
       "      <td>2.100000e+01</td>\n",
       "      <td>111.000000</td>\n",
       "      <td>1.000000e+02</td>\n",
       "    </tr>\n",
       "  </tbody>\n",
       "</table>\n",
       "</div>"
      ],
      "text/plain": [
       "        Property ID   Area_marlas  Price_rupees_crores  Price_rupees_lakhs  \\\n",
       "count  4.523278e+06  4.523278e+06         4.523278e+06        4.523278e+06   \n",
       "mean   2.542072e+07  2.797946e+02         2.504099e+00        2.504099e+02   \n",
       "std    2.198952e+06  4.491658e+04         2.174401e+01        2.174401e+03   \n",
       "min    2.557650e+05  0.000000e+00         1.000000e-07        1.000000e-05   \n",
       "25%    2.512672e+07  5.000000e+00         1.975000e-01        1.975000e+01   \n",
       "50%    2.618912e+07  1.000000e+01         8.000000e-01        8.000000e+01   \n",
       "75%    2.658332e+07  2.000000e+01         2.000000e+00        2.000000e+02   \n",
       "max    2.718244e+07  9.544372e+06         4.668000e+03        4.668000e+05   \n",
       "\n",
       "       Price_per_marla          Beds         Baths            Age  \\\n",
       "count     4.523278e+06  2.324716e+06  2.272726e+06  606264.000000   \n",
       "mean               inf  3.665915e+00  3.933290e+00       3.083922   \n",
       "std                NaN  1.615867e+00  1.797968e+00       5.643981   \n",
       "min       2.619345e-11  1.000000e+00  1.000000e+00       0.000000   \n",
       "25%       2.600000e+00  3.000000e+00  3.000000e+00       0.000000   \n",
       "50%       9.500000e+00  3.000000e+00  4.000000e+00       1.000000   \n",
       "75%       2.125000e+01  5.000000e+00  5.000000e+00       4.000000   \n",
       "max                inf  2.700000e+01  2.100000e+01     111.000000   \n",
       "\n",
       "       Number of Images  \n",
       "count      4.523278e+06  \n",
       "mean       8.385328e+00  \n",
       "std        1.166018e+01  \n",
       "min        0.000000e+00  \n",
       "25%        0.000000e+00  \n",
       "50%        3.000000e+00  \n",
       "75%        1.300000e+01  \n",
       "max        1.000000e+02  "
      ]
     },
     "execution_count": 19,
     "metadata": {},
     "output_type": "execute_result"
    }
   ],
   "source": [
    "dff.describe()"
   ]
  },
  {
   "cell_type": "code",
   "execution_count": 20,
   "metadata": {},
   "outputs": [
    {
     "data": {
      "text/plain": [
       "For Sale    0.786144\n",
       "For Rent    0.213856\n",
       "Name: Purpose, dtype: float64"
      ]
     },
     "execution_count": 20,
     "metadata": {},
     "output_type": "execute_result"
    }
   ],
   "source": [
    "dff['Purpose'].value_counts(normalize=True)"
   ]
  },
  {
   "cell_type": "code",
   "execution_count": 21,
   "metadata": {},
   "outputs": [],
   "source": [
    "sale = dff[dff['Purpose'] == 'For Sale'].copy()"
   ]
  },
  {
   "cell_type": "code",
   "execution_count": 22,
   "metadata": {},
   "outputs": [],
   "source": [
    "sale.drop(columns=['Purpose'], inplace=True)"
   ]
  },
  {
   "cell_type": "code",
   "execution_count": 23,
   "metadata": {},
   "outputs": [],
   "source": [
    "sale.reset_index(drop=True, inplace=True)"
   ]
  },
  {
   "cell_type": "markdown",
   "metadata": {},
   "source": [
    "### Scrapes"
   ]
  },
  {
   "cell_type": "code",
   "execution_count": 24,
   "metadata": {
    "scrolled": true
   },
   "outputs": [],
   "source": [
    "scrapes = sale.groupby(['Property ID'])['Date Scraped'].count().rename('Number of Scrapes').reset_index()"
   ]
  },
  {
   "cell_type": "code",
   "execution_count": 25,
   "metadata": {},
   "outputs": [],
   "source": [
    "scrapes = scrapes.sort_values(by='Number of Scrapes', ascending=False)"
   ]
  },
  {
   "cell_type": "code",
   "execution_count": 26,
   "metadata": {},
   "outputs": [],
   "source": [
    "sale = sale.merge(scrapes, on='Property ID')"
   ]
  },
  {
   "cell_type": "code",
   "execution_count": 27,
   "metadata": {},
   "outputs": [
    {
     "data": {
      "text/html": [
       "<div>\n",
       "<style scoped>\n",
       "    .dataframe tbody tr th:only-of-type {\n",
       "        vertical-align: middle;\n",
       "    }\n",
       "\n",
       "    .dataframe tbody tr th {\n",
       "        vertical-align: top;\n",
       "    }\n",
       "\n",
       "    .dataframe thead th {\n",
       "        text-align: right;\n",
       "    }\n",
       "</style>\n",
       "<table border=\"1\" class=\"dataframe\">\n",
       "  <thead>\n",
       "    <tr style=\"text-align: right;\">\n",
       "      <th></th>\n",
       "      <th>Property ID</th>\n",
       "      <th>Type</th>\n",
       "      <th>Locality</th>\n",
       "      <th>City</th>\n",
       "      <th>Area_marlas</th>\n",
       "      <th>Price_rupees_crores</th>\n",
       "      <th>Price_rupees_lakhs</th>\n",
       "      <th>Price_per_marla</th>\n",
       "      <th>Beds</th>\n",
       "      <th>Baths</th>\n",
       "      <th>Age</th>\n",
       "      <th>Agency</th>\n",
       "      <th>Agent</th>\n",
       "      <th>Number of Images</th>\n",
       "      <th>Date Scraped</th>\n",
       "      <th>Added</th>\n",
       "      <th>Date Last Updated</th>\n",
       "      <th>Property Verified</th>\n",
       "      <th>URL</th>\n",
       "      <th>Number of Scrapes</th>\n",
       "    </tr>\n",
       "  </thead>\n",
       "  <tbody>\n",
       "    <tr>\n",
       "      <th>0</th>\n",
       "      <td>26526717</td>\n",
       "      <td>Flat</td>\n",
       "      <td>Bahria Town Karachi</td>\n",
       "      <td>Karachi</td>\n",
       "      <td>4.9</td>\n",
       "      <td>0.52</td>\n",
       "      <td>52.0</td>\n",
       "      <td>10.612245</td>\n",
       "      <td>2.0</td>\n",
       "      <td>2.0</td>\n",
       "      <td>NaN</td>\n",
       "      <td>Salaam Estate &amp; Builders</td>\n",
       "      <td>Rana Arsalan</td>\n",
       "      <td>10</td>\n",
       "      <td>2020-12-01</td>\n",
       "      <td>28 minutes</td>\n",
       "      <td>2020-12-01</td>\n",
       "      <td>False</td>\n",
       "      <td>https://www.zameen.com/Property/bahria_town_ka...</td>\n",
       "      <td>1</td>\n",
       "    </tr>\n",
       "    <tr>\n",
       "      <th>1</th>\n",
       "      <td>26481937</td>\n",
       "      <td>House</td>\n",
       "      <td>Bahria Town Karachi</td>\n",
       "      <td>Karachi</td>\n",
       "      <td>8.0</td>\n",
       "      <td>0.86</td>\n",
       "      <td>86.0</td>\n",
       "      <td>10.750000</td>\n",
       "      <td>3.0</td>\n",
       "      <td>3.0</td>\n",
       "      <td>NaN</td>\n",
       "      <td>Sub Ki Property</td>\n",
       "      <td>SUB KI PROPERTY</td>\n",
       "      <td>11</td>\n",
       "      <td>2020-12-01</td>\n",
       "      <td>20 minutes</td>\n",
       "      <td>2020-12-01</td>\n",
       "      <td>False</td>\n",
       "      <td>https://www.zameen.com/Property/bahria_town_ka...</td>\n",
       "      <td>4</td>\n",
       "    </tr>\n",
       "    <tr>\n",
       "      <th>2</th>\n",
       "      <td>26481937</td>\n",
       "      <td>House</td>\n",
       "      <td>Bahria Town Karachi</td>\n",
       "      <td>Karachi</td>\n",
       "      <td>8.0</td>\n",
       "      <td>0.86</td>\n",
       "      <td>86.0</td>\n",
       "      <td>10.750000</td>\n",
       "      <td>3.0</td>\n",
       "      <td>3.0</td>\n",
       "      <td>NaN</td>\n",
       "      <td>Sub Ki Property</td>\n",
       "      <td>SUB KI PROPERTY</td>\n",
       "      <td>11</td>\n",
       "      <td>2020-12-02</td>\n",
       "      <td>3 hours</td>\n",
       "      <td>2020-12-02</td>\n",
       "      <td>False</td>\n",
       "      <td>https://www.zameen.com/Property/bahria_town_ka...</td>\n",
       "      <td>4</td>\n",
       "    </tr>\n",
       "    <tr>\n",
       "      <th>3</th>\n",
       "      <td>26481937</td>\n",
       "      <td>House</td>\n",
       "      <td>Bahria Town Karachi</td>\n",
       "      <td>Karachi</td>\n",
       "      <td>8.0</td>\n",
       "      <td>0.86</td>\n",
       "      <td>86.0</td>\n",
       "      <td>10.750000</td>\n",
       "      <td>3.0</td>\n",
       "      <td>3.0</td>\n",
       "      <td>NaN</td>\n",
       "      <td>Sub Ki Property</td>\n",
       "      <td>SUB KI PROPERTY</td>\n",
       "      <td>11</td>\n",
       "      <td>2020-12-03</td>\n",
       "      <td>20 hours</td>\n",
       "      <td>2020-12-03</td>\n",
       "      <td>False</td>\n",
       "      <td>https://www.zameen.com/Property/bahria_town_ka...</td>\n",
       "      <td>4</td>\n",
       "    </tr>\n",
       "    <tr>\n",
       "      <th>4</th>\n",
       "      <td>26481937</td>\n",
       "      <td>House</td>\n",
       "      <td>Bahria Town Karachi</td>\n",
       "      <td>Karachi</td>\n",
       "      <td>8.0</td>\n",
       "      <td>0.86</td>\n",
       "      <td>86.0</td>\n",
       "      <td>10.750000</td>\n",
       "      <td>3.0</td>\n",
       "      <td>3.0</td>\n",
       "      <td>NaN</td>\n",
       "      <td>Sub Ki Property</td>\n",
       "      <td>SUB KI PROPERTY</td>\n",
       "      <td>14</td>\n",
       "      <td>2020-12-04</td>\n",
       "      <td>16 hours</td>\n",
       "      <td>2020-12-04</td>\n",
       "      <td>False</td>\n",
       "      <td>https://www.zameen.com/Property/bahria_town_ka...</td>\n",
       "      <td>4</td>\n",
       "    </tr>\n",
       "  </tbody>\n",
       "</table>\n",
       "</div>"
      ],
      "text/plain": [
       "   Property ID   Type             Locality     City  Area_marlas  \\\n",
       "0     26526717   Flat  Bahria Town Karachi  Karachi          4.9   \n",
       "1     26481937  House  Bahria Town Karachi  Karachi          8.0   \n",
       "2     26481937  House  Bahria Town Karachi  Karachi          8.0   \n",
       "3     26481937  House  Bahria Town Karachi  Karachi          8.0   \n",
       "4     26481937  House  Bahria Town Karachi  Karachi          8.0   \n",
       "\n",
       "   Price_rupees_crores  Price_rupees_lakhs  Price_per_marla  Beds  Baths  Age  \\\n",
       "0                 0.52                52.0        10.612245   2.0    2.0  NaN   \n",
       "1                 0.86                86.0        10.750000   3.0    3.0  NaN   \n",
       "2                 0.86                86.0        10.750000   3.0    3.0  NaN   \n",
       "3                 0.86                86.0        10.750000   3.0    3.0  NaN   \n",
       "4                 0.86                86.0        10.750000   3.0    3.0  NaN   \n",
       "\n",
       "                     Agency            Agent  Number of Images Date Scraped  \\\n",
       "0  Salaam Estate & Builders     Rana Arsalan                10   2020-12-01   \n",
       "1           Sub Ki Property  SUB KI PROPERTY                11   2020-12-01   \n",
       "2           Sub Ki Property  SUB KI PROPERTY                11   2020-12-02   \n",
       "3           Sub Ki Property  SUB KI PROPERTY                11   2020-12-03   \n",
       "4           Sub Ki Property  SUB KI PROPERTY                14   2020-12-04   \n",
       "\n",
       "         Added Date Last Updated  Property Verified  \\\n",
       "0  28 minutes         2020-12-01              False   \n",
       "1  20 minutes         2020-12-01              False   \n",
       "2     3 hours         2020-12-02              False   \n",
       "3    20 hours         2020-12-03              False   \n",
       "4    16 hours         2020-12-04              False   \n",
       "\n",
       "                                                 URL  Number of Scrapes  \n",
       "0  https://www.zameen.com/Property/bahria_town_ka...                  1  \n",
       "1  https://www.zameen.com/Property/bahria_town_ka...                  4  \n",
       "2  https://www.zameen.com/Property/bahria_town_ka...                  4  \n",
       "3  https://www.zameen.com/Property/bahria_town_ka...                  4  \n",
       "4  https://www.zameen.com/Property/bahria_town_ka...                  4  "
      ]
     },
     "execution_count": 27,
     "metadata": {},
     "output_type": "execute_result"
    }
   ],
   "source": [
    "sale.head()"
   ]
  },
  {
   "cell_type": "code",
   "execution_count": 28,
   "metadata": {
    "scrolled": true
   },
   "outputs": [
    {
     "data": {
      "text/plain": [
       "<AxesSubplot:>"
      ]
     },
     "execution_count": 28,
     "metadata": {},
     "output_type": "execute_result"
    },
    {
     "data": {
      "image/png": "[encoded data removed]",
      "text/plain": [
       "<Figure size 432x288 with 1 Axes>"
      ]
     },
     "metadata": {
      "needs_background": "light"
     },
     "output_type": "display_data"
    }
   ],
   "source": [
    "sale['Number of Scrapes'].hist()"
   ]
  },
  {
   "cell_type": "markdown",
   "metadata": {},
   "source": [
    "#### Filter to listings scraped for at least for 2 weeks"
   ]
  },
  {
   "cell_type": "code",
   "execution_count": 29,
   "metadata": {},
   "outputs": [],
   "source": [
    "most_scraped = sale[sale['Number of Scrapes'] > 15].copy()"
   ]
  },
  {
   "cell_type": "code",
   "execution_count": 30,
   "metadata": {
    "scrolled": true
   },
   "outputs": [],
   "source": [
    "scraped_prices = most_scraped.groupby(['Property ID', 'Date Scraped'])['Price_rupees_crores'].sum().reset_index()"
   ]
  },
  {
   "cell_type": "code",
   "execution_count": 31,
   "metadata": {},
   "outputs": [
    {
     "data": {
      "text/html": [
       "<div>\n",
       "<style scoped>\n",
       "    .dataframe tbody tr th:only-of-type {\n",
       "        vertical-align: middle;\n",
       "    }\n",
       "\n",
       "    .dataframe tbody tr th {\n",
       "        vertical-align: top;\n",
       "    }\n",
       "\n",
       "    .dataframe thead th {\n",
       "        text-align: right;\n",
       "    }\n",
       "</style>\n",
       "<table border=\"1\" class=\"dataframe\">\n",
       "  <thead>\n",
       "    <tr style=\"text-align: right;\">\n",
       "      <th></th>\n",
       "      <th>Property ID</th>\n",
       "      <th>Date Scraped</th>\n",
       "      <th>Price_rupees_crores</th>\n",
       "    </tr>\n",
       "  </thead>\n",
       "  <tbody>\n",
       "    <tr>\n",
       "      <th>0</th>\n",
       "      <td>311973</td>\n",
       "      <td>2020-12-01</td>\n",
       "      <td>0.6</td>\n",
       "    </tr>\n",
       "    <tr>\n",
       "      <th>1</th>\n",
       "      <td>311973</td>\n",
       "      <td>2020-12-04</td>\n",
       "      <td>0.6</td>\n",
       "    </tr>\n",
       "    <tr>\n",
       "      <th>2</th>\n",
       "      <td>311973</td>\n",
       "      <td>2020-12-06</td>\n",
       "      <td>0.6</td>\n",
       "    </tr>\n",
       "    <tr>\n",
       "      <th>3</th>\n",
       "      <td>311973</td>\n",
       "      <td>2020-12-08</td>\n",
       "      <td>0.6</td>\n",
       "    </tr>\n",
       "    <tr>\n",
       "      <th>4</th>\n",
       "      <td>311973</td>\n",
       "      <td>2020-12-09</td>\n",
       "      <td>0.6</td>\n",
       "    </tr>\n",
       "    <tr>\n",
       "      <th>5</th>\n",
       "      <td>311973</td>\n",
       "      <td>2020-12-10</td>\n",
       "      <td>0.6</td>\n",
       "    </tr>\n",
       "    <tr>\n",
       "      <th>6</th>\n",
       "      <td>311973</td>\n",
       "      <td>2020-12-11</td>\n",
       "      <td>0.6</td>\n",
       "    </tr>\n",
       "    <tr>\n",
       "      <th>7</th>\n",
       "      <td>311973</td>\n",
       "      <td>2020-12-12</td>\n",
       "      <td>0.6</td>\n",
       "    </tr>\n",
       "    <tr>\n",
       "      <th>8</th>\n",
       "      <td>311973</td>\n",
       "      <td>2020-12-15</td>\n",
       "      <td>0.6</td>\n",
       "    </tr>\n",
       "    <tr>\n",
       "      <th>9</th>\n",
       "      <td>311973</td>\n",
       "      <td>2020-12-16</td>\n",
       "      <td>0.6</td>\n",
       "    </tr>\n",
       "  </tbody>\n",
       "</table>\n",
       "</div>"
      ],
      "text/plain": [
       "   Property ID Date Scraped  Price_rupees_crores\n",
       "0       311973   2020-12-01                  0.6\n",
       "1       311973   2020-12-04                  0.6\n",
       "2       311973   2020-12-06                  0.6\n",
       "3       311973   2020-12-08                  0.6\n",
       "4       311973   2020-12-09                  0.6\n",
       "5       311973   2020-12-10                  0.6\n",
       "6       311973   2020-12-11                  0.6\n",
       "7       311973   2020-12-12                  0.6\n",
       "8       311973   2020-12-15                  0.6\n",
       "9       311973   2020-12-16                  0.6"
      ]
     },
     "execution_count": 31,
     "metadata": {},
     "output_type": "execute_result"
    }
   ],
   "source": [
    "scraped_prices[:10]"
   ]
  },
  {
   "cell_type": "code",
   "execution_count": 32,
   "metadata": {},
   "outputs": [
    {
     "data": {
      "text/plain": [
       "(2108253, 3)"
      ]
     },
     "execution_count": 32,
     "metadata": {},
     "output_type": "execute_result"
    }
   ],
   "source": [
    "scraped_prices.shape"
   ]
  },
  {
   "cell_type": "code",
   "execution_count": 116,
   "metadata": {},
   "outputs": [],
   "source": [
    "top1000 = scraped_prices['Property ID'].unique()[:1000]"
   ]
  },
  {
   "cell_type": "code",
   "execution_count": 117,
   "metadata": {},
   "outputs": [],
   "source": [
    "top_scraped_prices = scraped_prices[scraped_prices['Property ID'].isin(top1000)].copy()"
   ]
  },
  {
   "cell_type": "code",
   "execution_count": 118,
   "metadata": {},
   "outputs": [
    {
     "data": {
      "image/png": "[encoded data removed]",
      "text/plain": [
       "<Figure size 432x288 with 1 Axes>"
      ]
     },
     "metadata": {},
     "output_type": "display_data"
    }
   ],
   "source": [
    "# plt.figure(figsize=(8,6))\n",
    "sns.lineplot(x='Date Scraped', y='Price_rupees_crores', data=top_scraped_prices, ci=None)\n",
    "plt.xticks(rotation=45, ha='right')\n",
    "plt.show()"
   ]
  },
  {
   "cell_type": "code",
   "execution_count": 154,
   "metadata": {},
   "outputs": [],
   "source": [
    "pivot_scraped_prices = scraped_prices.pivot(index='Date Scraped', columns='Property ID', values='Price_rupees_crores')\n",
    "\n"
   ]
  },
  {
   "cell_type": "code",
   "execution_count": 155,
   "metadata": {
    "scrolled": true
   },
   "outputs": [
    {
     "name": "stderr",
     "output_type": "stream",
     "text": [
      "/Users/abdur_rehman/miniconda3/envs/ml/lib/python3.6/site-packages/ipykernel_launcher.py:1: FutureWarning: DataFrame.mean and DataFrame.median with numeric_only=None will include datetime64 and datetime64tz columns in a future version.\n",
      "  \"\"\"Entry point for launching an IPython kernel.\n"
     ]
    }
   ],
   "source": [
    "mean_pchange = pivot_scraped_prices.pct_change().reset_index().mean()"
   ]
  },
  {
   "cell_type": "code",
   "execution_count": 156,
   "metadata": {
    "scrolled": true
   },
   "outputs": [],
   "source": [
    "mean_pchange = mean_pchange.rename('pchange').reset_index().sort_values('pchange', ascending=False)"
   ]
  },
  {
   "cell_type": "code",
   "execution_count": 157,
   "metadata": {},
   "outputs": [],
   "source": [
    "pd.set_option('display.max_rows', 1000)"
   ]
  },
  {
   "cell_type": "code",
   "execution_count": 160,
   "metadata": {},
   "outputs": [
    {
     "data": {
      "text/plain": [
       "(97207, 2)"
      ]
     },
     "execution_count": 160,
     "metadata": {},
     "output_type": "execute_result"
    }
   ],
   "source": [
    "mean_pchange.shape"
   ]
  },
  {
   "cell_type": "code",
   "execution_count": 163,
   "metadata": {},
   "outputs": [
    {
     "data": {
      "text/plain": [
       "(3.2662256833355623, 2.0255742899173925)"
      ]
     },
     "execution_count": 163,
     "metadata": {},
     "output_type": "execute_result"
    }
   ],
   "source": [
    "3175/97207 * 100, 1969/97207 * 100"
   ]
  },
  {
   "cell_type": "code",
   "execution_count": 158,
   "metadata": {
    "scrolled": true
   },
   "outputs": [
    {
     "data": {
      "text/plain": [
       "(3175, 2)"
      ]
     },
     "execution_count": 158,
     "metadata": {},
     "output_type": "execute_result"
    }
   ],
   "source": [
    "mean_pchange[mean_pchange['pchange'] > 0].shape"
   ]
  },
  {
   "cell_type": "code",
   "execution_count": 159,
   "metadata": {},
   "outputs": [
    {
     "data": {
      "text/plain": [
       "(1969, 2)"
      ]
     },
     "execution_count": 159,
     "metadata": {},
     "output_type": "execute_result"
    }
   ],
   "source": [
    "mean_pchange[mean_pchange['pchange'] < 0].shape"
   ]
  },
  {
   "cell_type": "markdown",
   "metadata": {},
   "source": [
    "#### Isolate Area"
   ]
  },
  {
   "cell_type": "code",
   "execution_count": 35,
   "metadata": {
    "scrolled": true
   },
   "outputs": [
    {
     "data": {
      "text/plain": [
       "<AxesSubplot:>"
      ]
     },
     "execution_count": 35,
     "metadata": {},
     "output_type": "execute_result"
    },
    {
     "data": {
      "image/png": "[encoded data removed]",
      "text/plain": [
       "<Figure size 432x288 with 1 Axes>"
      ]
     },
     "metadata": {
      "needs_background": "light"
     },
     "output_type": "display_data"
    }
   ],
   "source": [
    "sale['Area_marlas'].round(0).hist(range=(0,100))"
   ]
  },
  {
   "cell_type": "code",
   "execution_count": 36,
   "metadata": {},
   "outputs": [],
   "source": [
    "most_scraped['Area_group'] = pd.cut(most_scraped['Area_marlas'],bins=[0,5,10,15,20,30,40,120], \n",
    "                                    include_lowest=True, \n",
    "                                    labels=['0-5', '5-10', '10-15', '15-20', '20-30', '30-40', '40-120'])"
   ]
  },
  {
   "cell_type": "code",
   "execution_count": 37,
   "metadata": {},
   "outputs": [],
   "source": [
    "scraped_prices_marlas = most_scraped.groupby(['Date Scraped', 'Area_group'])['Price_rupees_crores'].mean().reset_index()"
   ]
  },
  {
   "cell_type": "code",
   "execution_count": 38,
   "metadata": {},
   "outputs": [
    {
     "data": {
      "image/png": "[encoded data removed]",
      "text/plain": [
       "<Figure size 576x432 with 1 Axes>"
      ]
     },
     "metadata": {
      "needs_background": "light"
     },
     "output_type": "display_data"
    }
   ],
   "source": [
    "plt.figure(figsize=(8,6))\n",
    "sns.lineplot(x='Date Scraped', y='Price_rupees_crores', hue='Area_group', data=scraped_prices_marlas)\n",
    "plt.xticks(rotation=45, ha='right')\n",
    "plt.show()"
   ]
  },
  {
   "cell_type": "markdown",
   "metadata": {},
   "source": [
    "#### Isolate City"
   ]
  },
  {
   "cell_type": "code",
   "execution_count": 39,
   "metadata": {},
   "outputs": [],
   "source": [
    "scraped_prices_city = most_scraped.groupby(['Date Scraped', 'City'])['Price_rupees_crores'].mean().reset_index()"
   ]
  },
  {
   "cell_type": "code",
   "execution_count": 40,
   "metadata": {},
   "outputs": [
    {
     "data": {
      "image/png": "[encoded data removed]",
      "text/plain": [
       "<Figure size 576x432 with 1 Axes>"
      ]
     },
     "metadata": {
      "needs_background": "light"
     },
     "output_type": "display_data"
    }
   ],
   "source": [
    "plt.figure(figsize=(8,6))\n",
    "sns.lineplot(x='Date Scraped', y='Price_rupees_crores', hue='City', data=scraped_prices_city)\n",
    "plt.xticks(rotation=45, ha='right')\n",
    "plt.show()"
   ]
  },
  {
   "cell_type": "code",
   "execution_count": 41,
   "metadata": {},
   "outputs": [],
   "source": [
    "# Islamabad appears to be driving the spike"
   ]
  },
  {
   "cell_type": "code",
   "execution_count": 42,
   "metadata": {},
   "outputs": [],
   "source": [
    "islo = most_scraped[most_scraped['City'] == 'Islamabad'].copy()"
   ]
  },
  {
   "cell_type": "code",
   "execution_count": 43,
   "metadata": {},
   "outputs": [],
   "source": [
    "scraped_prices_type = islo.groupby(['Date Scraped', 'Type'])['Price_rupees_crores'].mean().reset_index()"
   ]
  },
  {
   "cell_type": "code",
   "execution_count": 44,
   "metadata": {},
   "outputs": [
    {
     "data": {
      "image/png": "[encoded data removed]",
      "text/plain": [
       "<Figure size 720x576 with 1 Axes>"
      ]
     },
     "metadata": {
      "needs_background": "light"
     },
     "output_type": "display_data"
    }
   ],
   "source": [
    "plt.figure(figsize=(10,8))\n",
    "sns.lineplot(x='Date Scraped', y='Price_rupees_crores', hue='Type', data=scraped_prices_type,\n",
    "            palette='colorblind')\n",
    "plt.xticks(rotation=45, ha='right')\n",
    "plt.show()"
   ]
  },
  {
   "cell_type": "code",
   "execution_count": 45,
   "metadata": {},
   "outputs": [
    {
     "data": {
      "text/plain": [
       "Residential Plot     340515\n",
       "House                218199\n",
       "Flat                  85871\n",
       "Commercial Plot       24519\n",
       "Plot File             12198\n",
       "Farm House             4874\n",
       "Agricultural Land      1265\n",
       "Penthouse               764\n",
       "Industrial Land         546\n",
       "Upper Portion           240\n",
       "Plot                    113\n",
       "Lower Portion            78\n",
       "Plot Form                42\n",
       "Room                     28\n",
       "Name: Type, dtype: int64"
      ]
     },
     "execution_count": 45,
     "metadata": {},
     "output_type": "execute_result"
    }
   ],
   "source": [
    "islo['Type'].value_counts()"
   ]
  },
  {
   "cell_type": "code",
   "execution_count": 46,
   "metadata": {
    "scrolled": true
   },
   "outputs": [
    {
     "data": {
      "text/plain": [
       "1.0     4436\n",
       "2.0     2935\n",
       "0.0     1014\n",
       "3.0     1000\n",
       "4.0      832\n",
       "9.0      637\n",
       "5.0      272\n",
       "10.0     271\n",
       "6.0      268\n",
       "7.0      246\n",
       "8.0      145\n",
       "12.0      67\n",
       "11.0      64\n",
       "17.0      62\n",
       "14.0      44\n",
       "16.0      37\n",
       "13.0      22\n",
       "26.0       1\n",
       "Name: Price_per_marla, dtype: int64"
      ]
     },
     "execution_count": 46,
     "metadata": {},
     "output_type": "execute_result"
    }
   ],
   "source": [
    "# ASSUMPTION: these are residential plots\n",
    "islo[islo['Type'].str.contains('^Plot$|Plot Form|Plot File')]['Price_per_marla'].round(0).value_counts()"
   ]
  },
  {
   "cell_type": "code",
   "execution_count": 47,
   "metadata": {},
   "outputs": [],
   "source": [
    "islo['Type'] = np.where(islo['Type'].str.contains('^Plot$|Plot Form|Plot File'),'Residential Plot', islo['Type'])"
   ]
  },
  {
   "cell_type": "code",
   "execution_count": 48,
   "metadata": {},
   "outputs": [],
   "source": [
    "# remove listings with 0 marlas\n",
    "islo = islo[islo['Price_per_marla'] != np.inf].copy()"
   ]
  },
  {
   "cell_type": "code",
   "execution_count": 49,
   "metadata": {},
   "outputs": [
    {
     "data": {
      "text/plain": [
       "Type\n",
       "Agricultural Land     1.954659\n",
       "Commercial Plot      65.063117\n",
       "Farm House            6.816116\n",
       "Flat                 20.256709\n",
       "House                32.336205\n",
       "Industrial Land      28.813389\n",
       "Lower Portion        32.035256\n",
       "Penthouse            24.658442\n",
       "Residential Plot      8.879012\n",
       "Room                 25.000000\n",
       "Upper Portion        13.861161\n",
       "Name: Price_per_marla, dtype: float64"
      ]
     },
     "execution_count": 49,
     "metadata": {},
     "output_type": "execute_result"
    }
   ],
   "source": [
    "# diff between commercial and residential plots looks ok\n",
    "islo.groupby('Type')['Price_per_marla'].mean()"
   ]
  },
  {
   "cell_type": "code",
   "execution_count": 50,
   "metadata": {},
   "outputs": [],
   "source": [
    "pivot = scraped_prices_type.pivot(index='Date Scraped', columns='Type', values='Price_rupees_crores')"
   ]
  },
  {
   "cell_type": "code",
   "execution_count": 51,
   "metadata": {},
   "outputs": [],
   "source": [
    "pivot_pc = pivot.pct_change()"
   ]
  },
  {
   "cell_type": "code",
   "execution_count": 52,
   "metadata": {},
   "outputs": [
    {
     "data": {
      "text/plain": [
       "<AxesSubplot:xlabel='Date Scraped'>"
      ]
     },
     "execution_count": 52,
     "metadata": {},
     "output_type": "execute_result"
    },
    {
     "data": {
      "image/png": "[encoded data removed]",
      "text/plain": [
       "<Figure size 576x432 with 1 Axes>"
      ]
     },
     "metadata": {
      "needs_background": "light"
     },
     "output_type": "display_data"
    }
   ],
   "source": [
    "pivot_pc.plot(figsize=(8,6))"
   ]
  },
  {
   "cell_type": "markdown",
   "metadata": {},
   "source": [
    "### Find duplicate listings to account for strategic behavior by realtors"
   ]
  },
  {
   "cell_type": "code",
   "execution_count": 53,
   "metadata": {},
   "outputs": [
    {
     "data": {
      "text/plain": [
       "Lahore       0.388873\n",
       "Karachi      0.314331\n",
       "Islamabad    0.296796\n",
       "Name: City, dtype: float64"
      ]
     },
     "execution_count": 53,
     "metadata": {},
     "output_type": "execute_result"
    }
   ],
   "source": [
    "# Lahore has the most listings\n",
    "sale['City'].value_counts(normalize=True)"
   ]
  },
  {
   "cell_type": "code",
   "execution_count": 54,
   "metadata": {},
   "outputs": [],
   "source": [
    "lahore = sale[sale['City'] == 'Lahore'].copy()"
   ]
  },
  {
   "cell_type": "code",
   "execution_count": 55,
   "metadata": {},
   "outputs": [],
   "source": [
    "# filter to scrapes for one day\n",
    "lahore = lahore[lahore['Date Scraped'].astype(str) == '2020-12-08'].copy()"
   ]
  },
  {
   "cell_type": "code",
   "execution_count": 56,
   "metadata": {},
   "outputs": [
    {
     "data": {
      "text/plain": [
       "(71172, 20)"
      ]
     },
     "execution_count": 56,
     "metadata": {},
     "output_type": "execute_result"
    }
   ],
   "source": [
    "lahore.shape"
   ]
  },
  {
   "cell_type": "code",
   "execution_count": 58,
   "metadata": {},
   "outputs": [],
   "source": [
    "lahore = lahore[lahore['Type'].str.contains('^House$|^Flat$')].copy()"
   ]
  },
  {
   "cell_type": "code",
   "execution_count": 59,
   "metadata": {},
   "outputs": [
    {
     "data": {
      "text/plain": [
       "House    0.92734\n",
       "Flat     0.07266\n",
       "Name: Type, dtype: float64"
      ]
     },
     "execution_count": 59,
     "metadata": {},
     "output_type": "execute_result"
    }
   ],
   "source": [
    "lahore['Type'].value_counts(normalize=True)"
   ]
  },
  {
   "cell_type": "code",
   "execution_count": 60,
   "metadata": {},
   "outputs": [],
   "source": [
    "pd.set_option('max_colwidth', 200)"
   ]
  },
  {
   "cell_type": "code",
   "execution_count": 173,
   "metadata": {},
   "outputs": [],
   "source": [
    "# de-duplication\n",
    "# same images?\n",
    "# same text?\n",
    "# same specs + price?\n",
    "# same specs + agent/agency?"
   ]
  },
  {
   "cell_type": "code",
   "execution_count": 61,
   "metadata": {},
   "outputs": [
    {
     "data": {
      "text/plain": [
       "22282"
      ]
     },
     "execution_count": 61,
     "metadata": {},
     "output_type": "execute_result"
    }
   ],
   "source": [
    "len(lahore)"
   ]
  },
  {
   "cell_type": "code",
   "execution_count": 62,
   "metadata": {},
   "outputs": [
    {
     "data": {
      "text/plain": [
       "11326"
      ]
     },
     "execution_count": 62,
     "metadata": {},
     "output_type": "execute_result"
    }
   ],
   "source": [
    "len(lahore[lahore[['Type', 'Locality', 'Area_marlas', 'Beds', 'Baths', 'Price_rupees_crores']].duplicated(keep='first')])"
   ]
  },
  {
   "cell_type": "code",
   "execution_count": 63,
   "metadata": {},
   "outputs": [],
   "source": [
    "# len(lahore[lahore[['Type', 'Locality', 'Area_marlas', 'Beds', 'Baths', 'Agency', 'Agent']].duplicated(keep='first')])"
   ]
  },
  {
   "cell_type": "code",
   "execution_count": 68,
   "metadata": {
    "scrolled": true
   },
   "outputs": [],
   "source": [
    "# obvious cases\n",
    "# same specs\n",
    "# len(lahore[lahore[['Type', 'Locality', 'Area_marlas', 'Beds', 'Baths', 'Price_rupees_crores']].duplicated(keep='first')].sort_values(by=['Type', 'Locality', 'Area_marlas', 'Price_rupees_crores']))\n",
    "\n"
   ]
  },
  {
   "cell_type": "code",
   "execution_count": 69,
   "metadata": {},
   "outputs": [],
   "source": [
    "lahore = lahore[~lahore[['Type', 'Locality', 'Area_marlas', 'Beds', 'Baths', 'Price_rupees_crores']].duplicated(keep='first')].copy()\n",
    "\n"
   ]
  },
  {
   "cell_type": "code",
   "execution_count": 70,
   "metadata": {},
   "outputs": [
    {
     "data": {
      "text/plain": [
       "(10956, 20)"
      ]
     },
     "execution_count": 70,
     "metadata": {},
     "output_type": "execute_result"
    }
   ],
   "source": [
    "lahore.shape"
   ]
  },
  {
   "cell_type": "code",
   "execution_count": 71,
   "metadata": {},
   "outputs": [
    {
     "data": {
      "text/plain": [
       "<AxesSubplot:>"
      ]
     },
     "execution_count": 71,
     "metadata": {},
     "output_type": "execute_result"
    },
    {
     "data": {
      "image/png": "[encoded data removed]",
      "text/plain": [
       "<Figure size 432x288 with 1 Axes>"
      ]
     },
     "metadata": {
      "needs_background": "light"
     },
     "output_type": "display_data"
    }
   ],
   "source": [
    "lahore['Number of Scrapes'].hist()"
   ]
  },
  {
   "cell_type": "markdown",
   "metadata": {},
   "source": [
    "### Mean price for listings scraped daily over Dec 2020"
   ]
  },
  {
   "cell_type": "code",
   "execution_count": 72,
   "metadata": {},
   "outputs": [],
   "source": [
    "daily_scp = sale[sale['Number of Scrapes'] == 31].copy()"
   ]
  },
  {
   "cell_type": "code",
   "execution_count": 73,
   "metadata": {},
   "outputs": [
    {
     "data": {
      "text/plain": [
       "(15097, 20)"
      ]
     },
     "execution_count": 73,
     "metadata": {},
     "output_type": "execute_result"
    }
   ],
   "source": [
    "# 15K properties\n",
    "daily_scp.shape"
   ]
  },
  {
   "cell_type": "code",
   "execution_count": 74,
   "metadata": {},
   "outputs": [
    {
     "data": {
      "text/plain": [
       "House            0.618070\n",
       "Flat             0.363450\n",
       "Farm House       0.012320\n",
       "Lower Portion    0.002053\n",
       "Penthouse        0.002053\n",
       "Upper Portion    0.002053\n",
       "Name: Type, dtype: float64"
      ]
     },
     "execution_count": 74,
     "metadata": {},
     "output_type": "execute_result"
    }
   ],
   "source": [
    "daily_scp['Type'].value_counts(normalize=True)"
   ]
  },
  {
   "cell_type": "code",
   "execution_count": 75,
   "metadata": {},
   "outputs": [
    {
     "data": {
      "text/plain": [
       "Islamabad    0.716632\n",
       "Karachi      0.283368\n",
       "Name: City, dtype: float64"
      ]
     },
     "execution_count": 75,
     "metadata": {},
     "output_type": "execute_result"
    }
   ],
   "source": [
    "daily_scp['City'].value_counts(normalize=True)"
   ]
  },
  {
   "cell_type": "code",
   "execution_count": 76,
   "metadata": {
    "scrolled": true
   },
   "outputs": [],
   "source": [
    "mean_pr = daily_scp.groupby(['Property ID', 'Area_marlas', 'City', 'Date Scraped'])['Price_rupees_crores'].mean().rename('Mean Price').reset_index()\n"
   ]
  },
  {
   "cell_type": "code",
   "execution_count": 77,
   "metadata": {},
   "outputs": [
    {
     "data": {
      "text/html": [
       "<div>\n",
       "<style scoped>\n",
       "    .dataframe tbody tr th:only-of-type {\n",
       "        vertical-align: middle;\n",
       "    }\n",
       "\n",
       "    .dataframe tbody tr th {\n",
       "        vertical-align: top;\n",
       "    }\n",
       "\n",
       "    .dataframe thead th {\n",
       "        text-align: right;\n",
       "    }\n",
       "</style>\n",
       "<table border=\"1\" class=\"dataframe\">\n",
       "  <thead>\n",
       "    <tr style=\"text-align: right;\">\n",
       "      <th></th>\n",
       "      <th>Property ID</th>\n",
       "      <th>Area_marlas</th>\n",
       "      <th>City</th>\n",
       "      <th>Date Scraped</th>\n",
       "      <th>Mean Price</th>\n",
       "    </tr>\n",
       "  </thead>\n",
       "  <tbody>\n",
       "    <tr>\n",
       "      <th>0</th>\n",
       "      <td>3626467</td>\n",
       "      <td>50.0</td>\n",
       "      <td>Islamabad</td>\n",
       "      <td>2020-12-01</td>\n",
       "      <td>26.5</td>\n",
       "    </tr>\n",
       "    <tr>\n",
       "      <th>1</th>\n",
       "      <td>3626467</td>\n",
       "      <td>50.0</td>\n",
       "      <td>Islamabad</td>\n",
       "      <td>2020-12-02</td>\n",
       "      <td>26.5</td>\n",
       "    </tr>\n",
       "    <tr>\n",
       "      <th>2</th>\n",
       "      <td>3626467</td>\n",
       "      <td>50.0</td>\n",
       "      <td>Islamabad</td>\n",
       "      <td>2020-12-03</td>\n",
       "      <td>26.5</td>\n",
       "    </tr>\n",
       "    <tr>\n",
       "      <th>3</th>\n",
       "      <td>3626467</td>\n",
       "      <td>50.0</td>\n",
       "      <td>Islamabad</td>\n",
       "      <td>2020-12-04</td>\n",
       "      <td>26.5</td>\n",
       "    </tr>\n",
       "    <tr>\n",
       "      <th>4</th>\n",
       "      <td>3626467</td>\n",
       "      <td>50.0</td>\n",
       "      <td>Islamabad</td>\n",
       "      <td>2020-12-05</td>\n",
       "      <td>26.5</td>\n",
       "    </tr>\n",
       "  </tbody>\n",
       "</table>\n",
       "</div>"
      ],
      "text/plain": [
       "   Property ID  Area_marlas       City Date Scraped  Mean Price\n",
       "0      3626467         50.0  Islamabad   2020-12-01        26.5\n",
       "1      3626467         50.0  Islamabad   2020-12-02        26.5\n",
       "2      3626467         50.0  Islamabad   2020-12-03        26.5\n",
       "3      3626467         50.0  Islamabad   2020-12-04        26.5\n",
       "4      3626467         50.0  Islamabad   2020-12-05        26.5"
      ]
     },
     "execution_count": 77,
     "metadata": {},
     "output_type": "execute_result"
    }
   ],
   "source": [
    "mean_pr.head()"
   ]
  },
  {
   "cell_type": "code",
   "execution_count": 78,
   "metadata": {},
   "outputs": [
    {
     "data": {
      "text/plain": [
       "<seaborn.axisgrid.FacetGrid at 0x13024e1d0>"
      ]
     },
     "execution_count": 78,
     "metadata": {},
     "output_type": "execute_result"
    },
    {
     "data": {
      "image/png": "[encoded data removed]",
      "text/plain": [
       "<Figure size 360x360 with 1 Axes>"
      ]
     },
     "metadata": {
      "needs_background": "light"
     },
     "output_type": "display_data"
    }
   ],
   "source": [
    "sns.displot(x='Mean Price', data=mean_pr)"
   ]
  },
  {
   "cell_type": "code",
   "execution_count": 79,
   "metadata": {},
   "outputs": [
    {
     "data": {
      "text/plain": [
       "<AxesSubplot:>"
      ]
     },
     "execution_count": 79,
     "metadata": {},
     "output_type": "execute_result"
    },
    {
     "data": {
      "image/png": "[encoded data removed]",
      "text/plain": [
       "<Figure size 432x288 with 1 Axes>"
      ]
     },
     "metadata": {
      "needs_background": "light"
     },
     "output_type": "display_data"
    }
   ],
   "source": [
    "plt.xlim([0,50])\n",
    "mean_pr['Area_marlas'].hist(bins=100)"
   ]
  },
  {
   "cell_type": "code",
   "execution_count": 80,
   "metadata": {},
   "outputs": [],
   "source": [
    "# 0-5, 5-9, 9-14, 14-18, 18-21, 21-30, 30-40, 40-41"
   ]
  },
  {
   "cell_type": "code",
   "execution_count": 84,
   "metadata": {},
   "outputs": [],
   "source": [
    "sale['Area_group'] = pd.cut(sale['Area_marlas'],bins=[0,5,10,15,20,30,40,120], include_lowest=True, \n",
    "                            labels=['0-5', '5-10', '10-15', '15-20', '20-30', '30-40', '40-120'])"
   ]
  },
  {
   "cell_type": "code",
   "execution_count": 86,
   "metadata": {},
   "outputs": [
    {
     "data": {
      "text/plain": [
       "5-10      1120268\n",
       "0-5       1112967\n",
       "15-20      776440\n",
       "10-15      242834\n",
       "30-40      122117\n",
       "20-30       78465\n",
       "40-120      69567\n",
       "Name: Area_group, dtype: int64"
      ]
     },
     "execution_count": 86,
     "metadata": {},
     "output_type": "execute_result"
    }
   ],
   "source": [
    "# group marlas\n",
    "sale['Area_group'].value_counts()"
   ]
  },
  {
   "cell_type": "code",
   "execution_count": 87,
   "metadata": {},
   "outputs": [],
   "source": [
    "mean_pr_ = mean_pr[mean_pr['Area_marlas'].isin([5,10,20,40])].copy()"
   ]
  },
  {
   "cell_type": "code",
   "execution_count": 89,
   "metadata": {
    "scrolled": true
   },
   "outputs": [],
   "source": [
    "mean_pr_m = mean_pr_.groupby(['Date Scraped', 'Area_marlas'])['Mean Price'].mean().reset_index()"
   ]
  },
  {
   "cell_type": "code",
   "execution_count": 91,
   "metadata": {
    "scrolled": true
   },
   "outputs": [],
   "source": [
    "mean_pr_m['5m%change'] = mean_pr_m[mean_pr_m['Area_marlas'] == 5]['Mean Price'].pct_change()*100\n",
    "mean_pr_m['10m%change'] = mean_pr_m[mean_pr_m['Area_marlas'] == 10]['Mean Price'].pct_change()*100\n",
    "mean_pr_m['20m%change'] = mean_pr_m[mean_pr_m['Area_marlas'] == 20]['Mean Price'].pct_change()*100\n",
    "mean_pr_m['40m%change'] = mean_pr_m[mean_pr_m['Area_marlas'] == 40]['Mean Price'].pct_change()*100"
   ]
  },
  {
   "cell_type": "code",
   "execution_count": 92,
   "metadata": {},
   "outputs": [],
   "source": [
    "sns.set()"
   ]
  },
  {
   "cell_type": "code",
   "execution_count": 185,
   "metadata": {
    "scrolled": true
   },
   "outputs": [
    {
     "data": {
      "image/png": "[encoded data removed]",
      "text/plain": [
       "<Figure size 432x288 with 1 Axes>"
      ]
     },
     "metadata": {},
     "output_type": "display_data"
    }
   ],
   "source": [
    "# ax = plt.gca()\n",
    "# ax.set_ylim([-5,2])\n",
    "\n",
    "sns.lineplot(x='Date Scraped', y='5m%change', data=mean_pr_m)\n",
    "sns.lineplot(x='Date Scraped', y='10m%change', data=mean_pr_m)\n",
    "sns.lineplot(x='Date Scraped', y='20m%change', data=mean_pr_m)\n",
    "sns.lineplot(x='Date Scraped', y='40m%change', data=mean_pr_m)\n",
    "\n",
    "plt.legend(['10m', '20m', '40m'])\n",
    "plt.xticks(rotation=45, size=10)\n",
    "plt.show()"
   ]
  },
  {
   "cell_type": "code",
   "execution_count": null,
   "metadata": {},
   "outputs": [],
   "source": []
  }
 ],
 "metadata": {
  "kernelspec": {
   "display_name": "Python 3",
   "language": "python",
   "name": "python3"
  },
  "language_info": {
   "codemirror_mode": {
    "name": "ipython",
    "version": 3
   },
   "file_extension": ".py",
   "mimetype": "text/x-python",
   "name": "python",
   "nbconvert_exporter": "python",
   "pygments_lexer": "ipython3",
   "version": "3.6.13"
  }
 },
 "nbformat": 4,
 "nbformat_minor": 4
}
